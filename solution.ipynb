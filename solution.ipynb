{
 "cells": [
  {
   "cell_type": "markdown",
   "id": "c371a35d",
   "metadata": {},
   "source": [
    "\n",
    "# Competition Summer 2022/2023\n",
    "\n",
    "For the competition, you will work to detect anomalies in a recommender system based on ratings data from a streaming video dataset. Your task is to identify instances where users may be sharing accounts or engaging in other behavior that deviates from typical usage patterns.\n",
    "\n",
    "Examples of anomalous behavior you may encounter include:\n",
    "\n",
    "* **Account sharing:** This occurs when multiple users access a single account to watch videos, which can lead to skewed ratings and viewing histories.\n",
    "* **Promoting items:** Some users may artificially promote or demote certain videos by rating them higher or lower than they would normally, either to manipulate the system or for personal reasons.\n",
    "* **Review bombing:** A group of users may band together to artificially lower the rating of a particular video or video series, leading to a distorted view of its popularity.\n",
    "* **Rating consistency:** Some users may rate all videos in a similar manner, regardless of their actual preferences or viewing habits. This may be an indication of fake accounts or bots.\n",
    "* **Abnormal viewing patterns:** Users may exhibit unusual viewing patterns, such as watching an abnormally high number of videos in a short period of time, or repeatedly watching the same video multiple times. This may indicate account sharing or fraudulent activity.\n",
    "\n",
    "Detecting anomalies in recommender systems is essential for maintaining the integrity and accuracy of the recommendations provided to users. Inaccurate or distorted data can result in suboptimal recommendations that do not align with a user's preferences or viewing history. This can lead to a poor user experience, reduced engagement, and ultimately, loss of users. For example, account sharing is a common anomaly that can skew the ratings and viewing history of a user, making it difficult to provide accurate recommendations. When multiple users access the same account to watch videos, their individual preferences and viewing habits are combined, leading to inaccurate representations of what each user actually likes. As a result, the recommendations provided may not accurately reflect the preferences of each user, leading to a suboptimal user experience.\n",
    "\n",
    "Similarly, malicious users may artificially promote or demote videos to manipulate the system or for personal reasons. This could lead to videos being recommended more frequently than they deserve, or being recommended less frequently than they should be. Such anomalies can lead to inaccurate recommendations, which can negatively impact user engagement and satisfaction. Detecting and addressing these anomalies can help ensure that the recommendations provided to users are trustworthy and relevant. This can lead to increased user engagement and satisfaction, which can ultimately result in a more successful recommender system. Additionally, detecting anomalies can also help identify fraudulent or malicious activity, which can help protect the system and its users from potential harm.\n"
   ]
  },
  {
   "cell_type": "markdown",
   "id": "28a5d3b4",
   "metadata": {},
   "source": [
    "# Steps of the competition\n",
    "\n",
    "The competition consists of two steps. \n",
    "\n",
    "* In the first step, we will provide labels for all instances in the dataset, indicating which are anomalies and which are not. This step is important because it allows participants to train their models on a fully labeled dataset and establish a baseline for performance.\n",
    "\n",
    "* In the second step, we will provide a partially labeled dataset, meaning that some instances will be labeled as anomalies, but others will be left unlabeled. This simulates a semi-supervised setting, where participants are required to identify anomalies without full knowledge of the labels.\n",
    "\n",
    "It is important to note that the dataset may contain different types of anomalies, meaning that participants may observe anomalies in the second dataset that were not observed in the first. This requires participants to be flexible in their approach and able to adapt their models to new types of anomalies.\n",
    "\n",
    "To submit their results, participants will be provided with two separate sets of data, one for each step of the competition. The leaderboard will consider the F1 score of participants' models on a subset of the instances in the dataset. The final evaluation, however, will consider all instances in the dataset. This ensures that participants are not simply overfitting to a specific subset of the data, but rather are building models that can generalize to new instances.\n",
    "\n",
    "**Tips for feature engineering:** One common approach to feature engineering in this scenario is to use matrix factorization techniques to identify latent factors that explain user-item interactions. Matrix factorization is a technique used in recommender systems that involves decomposing the rating matrix into two lower-dimensional matrices. By doing so, the latent factors that explain user-item interactions can be identified, which can be used to make more accurate recommendations.\n",
    "\n",
    "Another approach is to use graph-based techniques to analyze the network of user-item interactions. This involves creating a graph where users and items are nodes and interactions between them are edges. By analyzing the network structure, it may be possible to identify clusters of users or items that are more closely related, which can be used to make more targeted recommendations.\n",
    "\n",
    "Finally, unsupervised learning techniques such as clustering and anomaly detection can also be used to identify anomalous behavior in the absence of additional data. These techniques analyze the patterns in the user-item interactions and identify instances that do not fit the normal patterns. \n",
    "\n"
   ]
  },
  {
   "cell_type": "code",
   "execution_count": 1,
   "outputs": [],
   "source": [
    "import numpy as np\n",
    "import pandas as pd\n",
    "import matplotlib as plt\n",
    "import matplotlib.pyplot as plt\n",
    "\n",
    "from sklearn.preprocessing import StandardScaler\n",
    "from sklearn.model_selection import train_test_split, ParameterGrid\n",
    "from sklearn.linear_model import LogisticRegression, LogisticRegressionCV\n",
    "from sklearn.ensemble import RandomForestClassifier, AdaBoostClassifier\n",
    "from sklearn.naive_bayes import GaussianNB, BernoulliNB\n",
    "from sklearn.tree import DecisionTreeClassifier\n",
    "from sklearn.neural_network import MLPClassifier\n",
    "from sklearn.neighbors import KNeighborsClassifier\n",
    "from sklearn.base import ClassifierMixin\n",
    "from sklearn.svm import SVC\n",
    "from sklearn.linear_model import SGDClassifier\n",
    "from sklearn.model_selection import cross_val_score\n",
    "from sklearn.linear_model import RidgeClassifier\n",
    "from sklearn.ensemble import BaggingClassifier\n",
    "\n",
    "from sklearn.cluster import KMeans\n",
    "\n",
    "from catboost import CatBoostClassifier\n",
    "# from lightgbm import LGBMClassifier\n",
    "from xgboost import XGBClassifier\n",
    "from yellowbrick.cluster import KElbowVisualizer\n",
    "\n",
    "from ipywidgets import IntProgress\n",
    "from IPython.display import display\n",
    "from tqdm import tqdm\n"
   ],
   "metadata": {
    "collapsed": false,
    "ExecuteTime": {
     "end_time": "2023-05-30T20:26:54.671698Z",
     "start_time": "2023-05-30T20:26:50.109369Z"
    }
   },
   "id": "fad6ddb5212afac4"
  },
  {
   "cell_type": "markdown",
   "source": [
    "### load data"
   ],
   "metadata": {
    "collapsed": false
   },
   "id": "3d7506efcef2657a"
  },
  {
   "cell_type": "code",
   "execution_count": 37,
   "outputs": [
    {
     "data": {
      "text/plain": "array([2.375025e+08, 2.740000e+02])"
     },
     "execution_count": 37,
     "metadata": {},
     "output_type": "execute_result"
    }
   ],
   "source": [
    "sum(ratings_supervised_label_np)"
   ],
   "metadata": {
    "collapsed": false,
    "ExecuteTime": {
     "end_time": "2023-05-31T14:30:28.721700Z",
     "start_time": "2023-05-31T14:30:28.706797Z"
    }
   },
   "id": "20f2759b6b742632"
  },
  {
   "cell_type": "code",
   "execution_count": 36,
   "outputs": [
    {
     "data": {
      "text/plain": "array([[4.5001e+04, 0.0000e+00],\n       [4.5002e+04, 0.0000e+00],\n       [4.5003e+04, 0.0000e+00],\n       [4.5004e+04, 0.0000e+00],\n       [4.5005e+04, 1.0000e+00],\n       [4.5006e+04, 0.0000e+00],\n       [4.5007e+04, 0.0000e+00],\n       [4.5008e+04, 0.0000e+00],\n       [4.5009e+04, 0.0000e+00],\n       [4.5010e+04, 1.0000e+00]])"
     },
     "execution_count": 36,
     "metadata": {},
     "output_type": "execute_result"
    }
   ],
   "source": [
    "ratings_supervised_label_np[:10\n",
    "]"
   ],
   "metadata": {
    "collapsed": false,
    "ExecuteTime": {
     "end_time": "2023-05-31T14:03:56.747205Z",
     "start_time": "2023-05-31T14:03:56.717932Z"
    }
   },
   "id": "b63dfbe42878afce"
  },
  {
   "cell_type": "code",
   "execution_count": 2,
   "id": "8afab98e",
   "metadata": {
    "ExecuteTime": {
     "end_time": "2023-05-30T20:27:00.058989Z",
     "start_time": "2023-05-30T20:26:59.885932Z"
    }
   },
   "outputs": [],
   "source": [
    "ratings_supervised_np = np.load(\"secondBatch/ratings_supervised.npy\").astype('int32')\n",
    "ratings_supervised_label_np = np.load(\"secondBatch/ratings_supervised_label.npy\")\n",
    "ratings_competition_np = np.load(\"secondBatch/ratings_competition.npy\").astype('int32')\n",
    "ratings_leaderboard_np = np.load(\"secondBatch/ratings_leaderboard.npy\").astype('int32')\n",
    "\n",
    "ratings_merged_np = np.concatenate((ratings_supervised_np, ratings_leaderboard_np, ratings_competition_np), axis=0)"
   ]
  },
  {
   "cell_type": "code",
   "execution_count": 4,
   "outputs": [
    {
     "data": {
      "text/plain": "array([[45001,  4192,     3],\n       [45001,  3305,     1],\n       [45001,  2388,     3],\n       ...,\n       [50000,  4272,     4],\n       [50000,  3127,     4],\n       [50000,  2505,     5]], dtype=int32)"
     },
     "execution_count": 4,
     "metadata": {},
     "output_type": "execute_result"
    }
   ],
   "source": [
    "ratings_supervised_np"
   ],
   "metadata": {
    "collapsed": false,
    "ExecuteTime": {
     "end_time": "2023-05-27T16:58:47.599065Z",
     "start_time": "2023-05-27T16:58:47.584689Z"
    }
   },
   "id": "ddba129f42de0fb5"
  },
  {
   "cell_type": "code",
   "execution_count": 3,
   "outputs": [],
   "source": [
    "ratings_supervised = pd.DataFrame(ratings_supervised_np, columns=['user_id', 'item_id', 'rating'])\n",
    "ratings_supervised_label = pd.DataFrame(ratings_supervised_label_np, columns=['user_id', 'y']) #, dtype=[np.int32, np])\n",
    "ratings_supervised_label = ratings_supervised_label.set_index(['user_id'])\n",
    "ratings_competition = pd.DataFrame(ratings_competition_np, columns=['user_id', 'item_id', 'rating'])\n",
    "ratings_leaderboard = pd.DataFrame(ratings_leaderboard_np, columns=['user_id', 'item_id', 'rating'])\n",
    "\n",
    "# ratings_merged = pd.DataFrame(ratings_merged_np, dtype=np.int32)\n",
    "ratings_merged = pd.DataFrame(ratings_merged_np, columns=['user_id', 'item_id', 'rating'])\n"
   ],
   "metadata": {
    "collapsed": false,
    "ExecuteTime": {
     "end_time": "2023-05-30T20:27:02.708057Z",
     "start_time": "2023-05-30T20:27:02.699964Z"
    }
   },
   "id": "2b4be38ab3ceb6e4"
  },
  {
   "cell_type": "markdown",
   "source": [
    "### display some info, ignore"
   ],
   "metadata": {
    "collapsed": false
   },
   "id": "64f245b772555650"
  },
  {
   "cell_type": "code",
   "execution_count": 7,
   "outputs": [
    {
     "data": {
      "text/plain": "'ratings_leaderboard_np.shape=(4409116, 3)'"
     },
     "metadata": {},
     "output_type": "display_data"
    },
    {
     "data": {
      "text/plain": "'ratings_supervised_label_np.shape=(5000, 2)'"
     },
     "metadata": {},
     "output_type": "display_data"
    },
    {
     "data": {
      "text/plain": "'ratings_competition_np.shape=(4341052, 3)'"
     },
     "metadata": {},
     "output_type": "display_data"
    },
    {
     "data": {
      "text/plain": "'ratings_supervised_np.shape=(506394, 3)'"
     },
     "metadata": {},
     "output_type": "display_data"
    }
   ],
   "source": [
    "display(f\"{ratings_leaderboard_np.shape=}\")\n",
    "display(f\"{ratings_supervised_label_np.shape=}\")\n",
    "display(f\"{ratings_competition_np.shape=}\")\n",
    "display(f\"{ratings_supervised_np.shape=}\")"
   ],
   "metadata": {
    "collapsed": false,
    "ExecuteTime": {
     "end_time": "2023-05-26T23:39:44.889222Z",
     "start_time": "2023-05-26T23:39:44.868068Z"
    }
   },
   "id": "7c398cb8ebe3829b"
  },
  {
   "cell_type": "code",
   "execution_count": 5,
   "outputs": [],
   "source": [
    "# # afaik attekmpt to combine 1st and 2nd batch\n",
    "#\n",
    "# ratings_1stLEVEL_supervised_label_np=np.load(\"S23_FirstBatch_NIADM/train_1_labels.npy\")\n",
    "# ratings_1stLEVEL_supervised_np = np.load(\"S23_FirstBatch_NIADM/train_1.npy\")\n",
    "# ratings_1stLEVEL_UNsupervised_np=np.load(\"S23_FirstBatch_NIADM/test_1.npy\")\n",
    "# ratings_1stLEVEL_UNsupervised_TRAINED_label_np = np.load(\"S23_FirstBatch_NIADM/result0.8449.npy\")\n",
    "# ratings_1stLEVEL_UNsupervised_TRAINED_label_np = np.vstack((np.arange(40001,45001).T, ratings_1stLEVEL_UNsupervised_TRAINED_label_np)).T\n",
    "#\n",
    "# # CONCATING 1st round data to have bigger train dataset\n",
    "# ratings_supervised_np = np.concatenate((ratings_1stLEVEL_supervised_np, ratings_supervised_np), axis=0)\n",
    "# # ratings_supervised_np = np.concatenate((ratings_1stLEVEL_supervised_np, ratings_1stLEVEL_UNsupervised_np, ratings_supervised_np), axis=0)\n",
    "# ratings_supervised_label_np = np.concatenate((ratings_1stLEVEL_supervised_label_np, ratings_supervised_label_np), axis=0)\n",
    "# # ratings_supervised_label_np = np.concatenate((ratings_1stLEVEL_supervised_label_np, ratings_1stLEVEL_UNsupervised_TRAINED_label_np, ratings_supervised_label_np), axis=0)"
   ],
   "metadata": {
    "collapsed": false,
    "ExecuteTime": {
     "end_time": "2023-05-18T08:16:02.683602Z",
     "start_time": "2023-05-18T08:16:02.624780Z"
    }
   },
   "id": "b9bfd5e73a2cc2f0"
  },
  {
   "cell_type": "code",
   "execution_count": 8,
   "outputs": [
    {
     "name": "stdout",
     "output_type": "stream",
     "text": [
      "ratings_supervised \n",
      "user_id    45000\n",
      "item_id     4617\n",
      "rating         6\n",
      "dtype: int64\n",
      "ratings_supervised_label \n",
      "y    2\n",
      "dtype: int64\n",
      "ratings_competition \n",
      "user_id    48944\n",
      "item_id     2367\n",
      "rating         5\n",
      "dtype: int64\n",
      "ratings_leaderboard \n",
      "user_id    50000\n",
      "item_id     2367\n",
      "rating         5\n",
      "dtype: int64\n"
     ]
    }
   ],
   "source": [
    "print(f\"ratings_supervised \\n{ratings_supervised.nunique()}\")\n",
    "print(f\"ratings_supervised_label \\n{ratings_supervised_label.nunique()}\")\n",
    "print(f\"ratings_competition \\n{ratings_competition.nunique()}\")\n",
    "print(f\"ratings_leaderboard \\n{ratings_leaderboard.nunique()}\")"
   ],
   "metadata": {
    "collapsed": false,
    "ExecuteTime": {
     "end_time": "2023-05-18T08:16:16.254719Z",
     "start_time": "2023-05-18T08:16:16.111415Z"
    }
   },
   "id": "1342eacaa5a591f"
  },
  {
   "cell_type": "code",
   "execution_count": 23,
   "outputs": [
    {
     "name": "stdout",
     "output_type": "stream",
     "text": [
      "ratings_supervised_lowest_user_id = 45001\n",
      "ratings_supervised_highest_user_id = 50000\n",
      "ratings_competition_lowest_user_id = 100001\n",
      "ratings_competition_highest_user_id = 148944\n",
      "ratings_leaderboard_lowest_user_id = 50001\n",
      "ratings_leaderboard_highest_user_id = 100000\n"
     ]
    }
   ],
   "source": [
    "print(f\"ratings_supervised_lowest_user_id = {min(ratings_supervised_np[:, 0])}\")\n",
    "print(f\"ratings_supervised_highest_user_id = {max(ratings_supervised_np[:, 0])}\")\n",
    "print(f\"ratings_competition_lowest_user_id = {min(ratings_competition_np[:, 0])}\")\n",
    "print(f\"ratings_competition_highest_user_id = {max(ratings_competition_np[:, 0])}\")\n",
    "print(f\"ratings_leaderboard_lowest_user_id = {min(ratings_leaderboard_np[:, 0])}\")\n",
    "print(f\"ratings_leaderboard_highest_user_id = {max(ratings_leaderboard_np[:, 0])}\")"
   ],
   "metadata": {
    "collapsed": false,
    "ExecuteTime": {
     "end_time": "2023-05-23T14:24:30.894865Z",
     "start_time": "2023-05-23T14:24:30.138232Z"
    }
   },
   "id": "6896d0afa483e446"
  },
  {
   "cell_type": "code",
   "execution_count": 10,
   "outputs": [
    {
     "name": "stdout",
     "output_type": "stream",
     "text": [
      "ratings_supervised_lowest_item_id = 0\n",
      "ratings_supervised_highest_item_id = 4616\n",
      "ratings_competition_lowest_item_id = 2250\n",
      "ratings_competition_highest_item_id = 4616\n",
      "ratings_leaderboard_lowest_item_id = 2250\n",
      "ratings_leaderboard_highest_item_id = 4616\n"
     ]
    }
   ],
   "source": [
    "print(f\"ratings_supervised_lowest_item_id = {min(ratings_supervised_np[:, 1])}\")\n",
    "print(f\"ratings_supervised_highest_item_id = {max(ratings_supervised_np[:, 1])}\")\n",
    "print(f\"ratings_competition_lowest_item_id = {min(ratings_competition_np[:, 1])}\")\n",
    "print(f\"ratings_competition_highest_item_id = {max(ratings_competition_np[:, 1])}\")\n",
    "print(f\"ratings_leaderboard_lowest_item_id = {min(ratings_leaderboard_np[:, 1])}\")\n",
    "print(f\"ratings_leaderboard_highest_item_id = {max(ratings_leaderboard_np[:, 1])}\")"
   ],
   "metadata": {
    "collapsed": false,
    "ExecuteTime": {
     "end_time": "2023-05-18T08:16:18.157911Z",
     "start_time": "2023-05-18T08:16:18.038044Z"
    }
   },
   "id": "fc153464d4f5e9cc"
  },
  {
   "cell_type": "code",
   "execution_count": 10,
   "outputs": [
    {
     "data": {
      "text/plain": "            user_id       item_id        rating\ncount  8.373851e+06  8.373851e+06  8.373851e+06\nmean   2.410408e+04  1.271420e+03  3.712193e+00\nstd    1.396979e+04  8.543903e+02  1.066053e+00\nmin    1.000000e+00  0.000000e+00  0.000000e+00\n25%    1.201200e+04  5.860000e+02  3.000000e+00\n50%    2.414900e+04  1.218000e+03  4.000000e+00\n75%    3.599800e+04  1.808000e+03  4.000000e+00\nmax    5.000000e+04  4.616000e+03  5.000000e+00",
      "text/html": "<div>\n<style scoped>\n    .dataframe tbody tr th:only-of-type {\n        vertical-align: middle;\n    }\n\n    .dataframe tbody tr th {\n        vertical-align: top;\n    }\n\n    .dataframe thead th {\n        text-align: right;\n    }\n</style>\n<table border=\"1\" class=\"dataframe\">\n  <thead>\n    <tr style=\"text-align: right;\">\n      <th></th>\n      <th>user_id</th>\n      <th>item_id</th>\n      <th>rating</th>\n    </tr>\n  </thead>\n  <tbody>\n    <tr>\n      <th>count</th>\n      <td>8.373851e+06</td>\n      <td>8.373851e+06</td>\n      <td>8.373851e+06</td>\n    </tr>\n    <tr>\n      <th>mean</th>\n      <td>2.410408e+04</td>\n      <td>1.271420e+03</td>\n      <td>3.712193e+00</td>\n    </tr>\n    <tr>\n      <th>std</th>\n      <td>1.396979e+04</td>\n      <td>8.543903e+02</td>\n      <td>1.066053e+00</td>\n    </tr>\n    <tr>\n      <th>min</th>\n      <td>1.000000e+00</td>\n      <td>0.000000e+00</td>\n      <td>0.000000e+00</td>\n    </tr>\n    <tr>\n      <th>25%</th>\n      <td>1.201200e+04</td>\n      <td>5.860000e+02</td>\n      <td>3.000000e+00</td>\n    </tr>\n    <tr>\n      <th>50%</th>\n      <td>2.414900e+04</td>\n      <td>1.218000e+03</td>\n      <td>4.000000e+00</td>\n    </tr>\n    <tr>\n      <th>75%</th>\n      <td>3.599800e+04</td>\n      <td>1.808000e+03</td>\n      <td>4.000000e+00</td>\n    </tr>\n    <tr>\n      <th>max</th>\n      <td>5.000000e+04</td>\n      <td>4.616000e+03</td>\n      <td>5.000000e+00</td>\n    </tr>\n  </tbody>\n</table>\n</div>"
     },
     "execution_count": 10,
     "metadata": {},
     "output_type": "execute_result"
    }
   ],
   "source": [
    "ratings_supervised.describe(include='all')"
   ],
   "metadata": {
    "collapsed": false,
    "ExecuteTime": {
     "end_time": "2023-05-17T23:33:34.533480Z",
     "start_time": "2023-05-17T23:33:34.081667Z"
    }
   },
   "id": "9869ba6dc5dd4b73"
  },
  {
   "cell_type": "markdown",
   "source": [
    "### preprocess"
   ],
   "metadata": {
    "collapsed": false
   },
   "id": "8e3130d22d483740"
  },
  {
   "cell_type": "code",
   "execution_count": 4,
   "outputs": [],
   "source": [
    "def build_R_dense_np(data_np):\n",
    "    item_count = np.unique(data_np[:,1]).shape[0]\n",
    "    lower_item_id = min(data_np[:, 1])\n",
    "    highest_item_id = max(data_np[:, 1])\n",
    "\n",
    "    print(f\"Lower user ID: {lower_item_id}\")\n",
    "    print(f\"Highest user ID: {highest_item_id}\")\n",
    "    print(f\"Number of users in test set: {item_count}\")\n",
    "    assert item_count == highest_item_id - lower_item_id + 1\n",
    "\n",
    "    user_count = np.unique(data_np[:,0]).shape[0]\n",
    "    lower_user_id = min(data_np[:, 0])\n",
    "    highest_user_id = max(data_np[:, 0])\n",
    "\n",
    "    print(f\"Lower user ID: {lower_user_id}\")\n",
    "    print(f\"Highest user ID: {highest_user_id}\")\n",
    "    print(f\"Number of users in test set: {user_count}\")\n",
    "    assert user_count == highest_user_id - lower_user_id + 1\n",
    "    # user_count = highest_user_id - lower_user_id + 1\n",
    "\n",
    "\n",
    "    R_dense = np.repeat(np.nan,item_count*(user_count)).reshape(user_count, item_count)\n",
    "    R_dense[data_np[:,0] - lower_user_id, data_np[:,1] - lower_item_id] = data_np[:,2]\n",
    "    return R_dense\n",
    "    # R_dense_test = pd.DataFrame(R_dense_test_np)"
   ],
   "metadata": {
    "collapsed": false,
    "ExecuteTime": {
     "end_time": "2023-05-30T20:27:11.980009Z",
     "start_time": "2023-05-30T20:27:11.950609Z"
    }
   },
   "id": "aab515d96219f5ad"
  },
  {
   "cell_type": "code",
   "execution_count": 5,
   "outputs": [
    {
     "name": "stdout",
     "output_type": "stream",
     "text": [
      "Lower user ID: 2250\n",
      "Highest user ID: 4616\n",
      "Number of users in test set: 2367\n",
      "Lower user ID: 45001\n",
      "Highest user ID: 50000\n",
      "Number of users in test set: 5000\n",
      "Lower user ID: 2250\n",
      "Highest user ID: 4616\n",
      "Number of users in test set: 2367\n",
      "Lower user ID: 50001\n",
      "Highest user ID: 100000\n",
      "Number of users in test set: 50000\n",
      "Lower user ID: 2250\n",
      "Highest user ID: 4616\n",
      "Number of users in test set: 2367\n",
      "Lower user ID: 100001\n",
      "Highest user ID: 148944\n",
      "Number of users in test set: 48944\n",
      "Lower user ID: 2250\n",
      "Highest user ID: 4616\n",
      "Number of users in test set: 2367\n",
      "Lower user ID: 45001\n",
      "Highest user ID: 148944\n",
      "Number of users in test set: 103944\n"
     ]
    }
   ],
   "source": [
    "R_dense_ratings_supervised_np = build_R_dense_np(ratings_supervised_np)\n",
    "R_dense_ratings_supervised_unproc = pd.DataFrame(R_dense_ratings_supervised_np)\n",
    "\n",
    "R_dense_leaderboard_np = build_R_dense_np(ratings_leaderboard_np)\n",
    "R_dense_leaderboard_unproc = pd.DataFrame(R_dense_leaderboard_np)\n",
    "\n",
    "R_dense_competition_np = build_R_dense_np(ratings_competition_np)\n",
    "R_dense_competition_unproc = pd.DataFrame(R_dense_competition_np)\n",
    "\n",
    "R_dense_ratings_merged_np = build_R_dense_np(ratings_merged_np)\n",
    "R_dense_ratings_merged = pd.DataFrame(R_dense_ratings_merged_np)"
   ],
   "metadata": {
    "collapsed": false,
    "ExecuteTime": {
     "end_time": "2023-05-30T20:27:19.736538Z",
     "start_time": "2023-05-30T20:27:13.759224Z"
    }
   },
   "id": "1b0786a35105dd02"
  },
  {
   "cell_type": "markdown",
   "source": [
    "### ALS"
   ],
   "metadata": {
    "collapsed": false
   },
   "id": "7f2f79487b509ead"
  },
  {
   "cell_type": "code",
   "execution_count": 6,
   "outputs": [
    {
     "name": "stdout",
     "output_type": "stream",
     "text": [
      "U shape: (103944, 5)\n",
      "V shape: (2367, 5)\n"
     ]
    }
   ],
   "source": [
    "def get_ALS(*args, **kwargs):\n",
    "    U_ALS_matrix = np.load(\"/Users/jakubkucera/Documents/NI-ADM/NI-ADM_ALS/U_ALS_matrix.npy\")\n",
    "    VT_ALS_matrix = np.load(\"/Users/jakubkucera/Documents/NI-ADM/NI-ADM_ALS/VT_ALS_matrix.npy\")\n",
    "    return U_ALS_matrix, VT_ALS_matrix\n",
    "\n",
    "U, V_T = get_ALS()\n",
    "\n",
    "ratings_supervised_U = U[:5000]\n",
    "ratings_leaderboard_U = U[5000:55000]\n",
    "ratings_competition_U = U[55000:]\n",
    "\n",
    "# R_pred = U @ V_T\n",
    "print(f\"U shape: {U.shape}\")\n",
    "print(f\"V shape: {V_T.T.shape}\")\n",
    "\n",
    "U = None\n",
    "V_T = None\n",
    "# print(f\"R_pred = U @ V_T shape: {R_pred.shape}\")\n",
    "# R_pred\n"
   ],
   "metadata": {
    "collapsed": false,
    "ExecuteTime": {
     "end_time": "2023-05-30T20:27:52.293446Z",
     "start_time": "2023-05-30T20:27:52.257903Z"
    }
   },
   "id": "2dbd49db7b81002d"
  },
  {
   "cell_type": "markdown",
   "source": [
    "### clusters"
   ],
   "metadata": {
    "collapsed": false
   },
   "id": "a95e4473ff3fe45e"
  },
  {
   "cell_type": "code",
   "execution_count": null,
   "outputs": [],
   "source": [
    "paramgrid = {\n",
    "        # 'mlp_layers': [(100),],\n",
    "        # 'clusters': range(2, 20),\n",
    "        'model': [RandomForestClassifier, KNeighborsClassifier, SVC, GaussianNB, LogisticRegression, XGBClassifier],\n",
    "        # 'learning_rate_init': [0.0001, 0.0005, 0.001, 0.01]\n",
    "    }\n",
    "R_dense_ratings_merged_np_not_nan = np.nan_to_num(R_dense_ratings_merged_np, nan=-1)\n",
    "\n",
    "kmeans_models = {}\n",
    "mlp_trained_classifiers = {}\n",
    "test_f1 = []\n",
    "f1_2_params = []\n",
    "\n",
    "# # for hidden_layer_sizes in hidden_layer_sizes_s:\n",
    "for cluster_count in range(2, 40, 2):\n",
    "    print(f\"=== {cluster_count} ===\")\n",
    "    kmeans_model = KMeans(n_clusters=cluster_count).fit(R_dense_ratings_merged_np_not_nan)\n",
    "\n",
    "    labels = kmeans_model.labels_\n",
    "    distances = kmeans_model.transform(R_dense_ratings_merged_np_not_nan)\n",
    "    # get distance to associated cluster center\n",
    "    distances_to_center = distances.min(axis=1)\n",
    "\n",
    "    ratings_supervised_cluster_labels = labels[:5000]\n",
    "    ratings_leaderboard_cluster_labels = labels[5000:55000]\n",
    "    ratings_competition_cluster_labels = labels[55000:]\n",
    "\n",
    "    # ratings_supervised_cluster_distances = distances[:5000]\n",
    "    # ratings_leaderboard_cluster_distances = distances[5000:10000]\n",
    "    # ratings_competition_cluster_distances = distances[10000:]\n",
    "    ratings_supervised_cluster_distances = distances_to_center[:5000].reshape(-1,1)\n",
    "    ratings_leaderboard_cluster_distances = distances_to_center[5000:55000].reshape(-1,1)\n",
    "    ratings_competition_cluster_distances = distances_to_center[55000:].reshape(-1,1)\n",
    "\n",
    "    # TODO FOR cluster number, could use OHE\n",
    "    # TODO add feature - cluster size. Could be just done by using different distance\n",
    "\n",
    "    ratings_supervised_cluster_labels_distance = np.concatenate((ratings_supervised_cluster_labels.reshape(-1,1), ratings_supervised_cluster_distances), axis=1)\n",
    "    ratings_leaderboard_cluster_labels_distance = np.concatenate((ratings_leaderboard_cluster_labels.reshape(-1,1), ratings_leaderboard_cluster_distances), axis=1)\n",
    "    ratings_competition_cluster_labels_distance = np.concatenate((ratings_competition_cluster_labels.reshape(-1,1), ratings_competition_cluster_distances), axis=1)\n",
    "\n",
    "    for params in ParameterGrid(paramgrid):\n",
    "        params['clusters'] = cluster_count\n",
    "        print(f\"=== {params} ===\")\n",
    "\n",
    "        cls = params['model']()\n",
    "\n",
    "        scores = cross_val_score(cls, ratings_supervised_cluster_labels_distance, ratings_supervised_label, cv=5, scoring='f1_macro')\n",
    "        avg_score = scores.mean()\n",
    "        print(f\"f1s {scores}\")\n",
    "        print(\"avg\", avg_score)\n",
    "\n",
    "\n",
    "        test_f1.append(avg_score)\n",
    "        f1_2_params.append((avg_score, {**params}))"
   ],
   "metadata": {
    "collapsed": false
   },
   "id": "6deccaef05ec4d6"
  },
  {
   "cell_type": "code",
   "execution_count": null,
   "outputs": [],
   "source": [
    "\n",
    "plt.figure(figsize=(20,6))\n",
    "# plt.title(classifier.__name__)\n",
    "plt.plot(test_f1,'or-')\n",
    "# plt.plot(val_DELETE_f1,'ob-')\n",
    "plt.xlabel('hyperparametr index')\n",
    "plt.ylabel('accuracy')\n",
    "plt.legend(['train', 'validation'])\n",
    "plt.show()"
   ],
   "metadata": {
    "collapsed": false
   },
   "id": "478af02a2ceff2d1"
  },
  {
   "cell_type": "code",
   "execution_count": 9,
   "outputs": [
    {
     "name": "stderr",
     "output_type": "stream",
     "text": [
      "/Users/jakubkucera/Documents/NI-ADM/.venv/lib/python3.11/site-packages/sklearn/cluster/_kmeans.py:870: FutureWarning: The default value of `n_init` will change from 10 to 'auto' in 1.4. Set the value of `n_init` explicitly to suppress the warning\n",
      "  warnings.warn(\n"
     ]
    }
   ],
   "source": [
    "CLUSTER_COUNT = 15\n",
    "# R_dense_ratings_merged_np = build_R_dense_np(ratings_merged_np)\n",
    "R_dense_ratings_merged_np_not_nan = np.nan_to_num(R_dense_ratings_merged_np, nan=-1)\n",
    "\n",
    "kmeans_model = KMeans(n_clusters=CLUSTER_COUNT).fit(R_dense_ratings_merged_np_not_nan)\n",
    "\n",
    "labels = kmeans_model.labels_\n",
    "distances = kmeans_model.transform(R_dense_ratings_merged_np_not_nan)\n",
    "# get distance to associated cluster center\n",
    "distances_to_center = distances.min(axis=1)\n",
    "\n",
    "ratings_supervised_cluster_labels = labels[:5000]\n",
    "ratings_leaderboard_cluster_labels = labels[5000:55000]\n",
    "ratings_competition_cluster_labels = labels[55000:]\n",
    "\n",
    "# ratings_supervised_cluster_distances = distances[:5000]\n",
    "# ratings_leaderboard_cluster_distances = distances[5000:10000]\n",
    "# ratings_competition_cluster_distances = distances[10000:]\n",
    "ratings_supervised_cluster_distances = distances_to_center[:5000].reshape(-1,1)\n",
    "ratings_leaderboard_cluster_distances = distances_to_center[5000:55000].reshape(-1,1)\n",
    "ratings_competition_cluster_distances = distances_to_center[55000:].reshape(-1,1)\n",
    "\n",
    "# TODO FOR cluster number, could use OHE\n",
    "# TODO add feature - cluster size. Could be just done by using different distance\n",
    "\n",
    "ratings_supervised_cluster_labels_distance = np.concatenate((ratings_supervised_cluster_labels.reshape(-1,1), ratings_supervised_cluster_distances), axis=1)\n",
    "ratings_leaderboard_cluster_labels_distance = np.concatenate((ratings_leaderboard_cluster_labels.reshape(-1,1), ratings_leaderboard_cluster_distances), axis=1)\n",
    "ratings_competition_cluster_labels_distance = np.concatenate((ratings_competition_cluster_labels.reshape(-1,1), ratings_competition_cluster_distances), axis=1)\n"
   ],
   "metadata": {
    "collapsed": false,
    "ExecuteTime": {
     "end_time": "2023-05-30T20:52:43.013302Z",
     "start_time": "2023-05-30T20:50:15.798229Z"
    }
   },
   "id": "ad9de139366bcae1"
  },
  {
   "cell_type": "markdown",
   "source": [
    "### mahanalobis"
   ],
   "metadata": {
    "collapsed": false
   },
   "id": "cdcbb3f08ca4241f"
  },
  {
   "cell_type": "code",
   "execution_count": 10,
   "outputs": [],
   "source": [
    "mahanalobis_distances = np.load(\"./mahanalobis_distances.npy\")\n",
    "ratings_supervised_mahanalobis = mahanalobis_distances[:5000]\n",
    "ratings_leaderboard_mahanalobis = mahanalobis_distances[5000:55000]\n",
    "ratings_competition_mahanalobis = mahanalobis_distances[55000:]\n",
    "\n",
    "# mahanalobis_distances = None"
   ],
   "metadata": {
    "collapsed": false,
    "ExecuteTime": {
     "end_time": "2023-05-30T20:55:16.269580Z",
     "start_time": "2023-05-30T20:55:16.219174Z"
    }
   },
   "id": "71cc4679a0db7ae5"
  },
  {
   "cell_type": "code",
   "execution_count": null,
   "outputs": [
    {
     "name": "stdout",
     "output_type": "stream",
     "text": [
      "start\n",
      "DONE y_mu = data - np.mean(data,axis=0)\n",
      "DONE cov = np.cov(data.values.T)\n",
      "DONE inv_covmat = np.linalg.inv(cov)\n",
      "DONE left = np.dot(y_mu, inv_covmat)\n"
     ]
    }
   ],
   "source": [
    "def calculateMahalanobis(data):\n",
    "    print(\"start\")\n",
    "    y_mu = data - np.mean(data,axis=0)\n",
    "    print(f\"DONE y_mu = data - np.mean(data,axis=0)\")\n",
    "    cov = np.cov(data.values.T)\n",
    "    print(f\"DONE cov = np.cov(data.values.T)\")\n",
    "    inv_covmat = np.linalg.inv(cov)\n",
    "    print(f\"DONE inv_covmat = np.linalg.inv(cov)\")\n",
    "    left = np.dot(y_mu, inv_covmat)\n",
    "    print(f\"DONE left = np.dot(y_mu, inv_covmat)\")\n",
    "    mahal = np.dot(left, y_mu.T)\n",
    "    print(f\"DONE mahal = np.dot(left, y_mu.T)\")\n",
    "    mahal_diag = mahal.diagonal()\n",
    "    print(f\"DONE mahal_diag = mahal.diagonal()\")\n",
    "    return mahal_diag\n",
    "\n",
    "mahanalobis_distances = calculateMahalanobis(pd.DataFrame(np.nan_to_num(R_dense_ratings_merged_np, nan=-1)))\n",
    "mahanalobis_distances"
   ],
   "metadata": {
    "collapsed": false,
    "ExecuteTime": {
     "start_time": "2023-05-27T09:58:08.194455Z"
    }
   },
   "id": "dc22a91761220dec"
  },
  {
   "cell_type": "code",
   "execution_count": 59,
   "outputs": [],
   "source": [
    "# def error_PCA(pca):\n",
    "#     s_ = pca.singular_values_\n",
    "#     # Calculate the error by using singular values (not normalized).\n",
    "#     # If all features are present, than the error being made is 0.\n",
    "#     # The calculation corresponds to ||A - B_k||, where B_k is\n",
    "#     # low rank approximation of A. We can calculate norm of A by\n",
    "#     # using singular values and thus speeding up the process.\n",
    "#     # https://cw.fel.cvut.cz/b202/_media/courses/b0b33opt/09svd.pdf\n",
    "#     errs_ = np.append(np.cumsum((s_**2)[::-1])[::-1], 0)\n",
    "#     return errs_,s_\n",
    "#\n",
    "# # s stands for singular values\n",
    "# def plot_PCA_errors(errors, s, title):\n",
    "#     # plot errors with singular values (leave out zero because of log)\n",
    "#     plt.plot(np.log10(errors[:-1]), label=\"error ||A-B_k||\")\n",
    "#     plt.plot(np.log10(s), label=\"singular values\")\n",
    "#\n",
    "#     # rest\n",
    "#     plt.title(title)\n",
    "#     plt.ylabel(\"log10\")\n",
    "#     plt.xlabel(\"number of features\")\n",
    "#     plt.legend()\n",
    "#     plt.show()"
   ],
   "metadata": {
    "collapsed": false,
    "ExecuteTime": {
     "end_time": "2023-05-13T23:07:47.524583Z",
     "start_time": "2023-05-13T23:07:47.522524Z"
    }
   },
   "id": "acd6508dabe40cfd"
  },
  {
   "cell_type": "code",
   "execution_count": 61,
   "outputs": [
    {
     "data": {
      "text/plain": "PCA(svd_solver='full')",
      "text/html": "<style>#sk-container-id-1 {color: black;background-color: white;}#sk-container-id-1 pre{padding: 0;}#sk-container-id-1 div.sk-toggleable {background-color: white;}#sk-container-id-1 label.sk-toggleable__label {cursor: pointer;display: block;width: 100%;margin-bottom: 0;padding: 0.3em;box-sizing: border-box;text-align: center;}#sk-container-id-1 label.sk-toggleable__label-arrow:before {content: \"▸\";float: left;margin-right: 0.25em;color: #696969;}#sk-container-id-1 label.sk-toggleable__label-arrow:hover:before {color: black;}#sk-container-id-1 div.sk-estimator:hover label.sk-toggleable__label-arrow:before {color: black;}#sk-container-id-1 div.sk-toggleable__content {max-height: 0;max-width: 0;overflow: hidden;text-align: left;background-color: #f0f8ff;}#sk-container-id-1 div.sk-toggleable__content pre {margin: 0.2em;color: black;border-radius: 0.25em;background-color: #f0f8ff;}#sk-container-id-1 input.sk-toggleable__control:checked~div.sk-toggleable__content {max-height: 200px;max-width: 100%;overflow: auto;}#sk-container-id-1 input.sk-toggleable__control:checked~label.sk-toggleable__label-arrow:before {content: \"▾\";}#sk-container-id-1 div.sk-estimator input.sk-toggleable__control:checked~label.sk-toggleable__label {background-color: #d4ebff;}#sk-container-id-1 div.sk-label input.sk-toggleable__control:checked~label.sk-toggleable__label {background-color: #d4ebff;}#sk-container-id-1 input.sk-hidden--visually {border: 0;clip: rect(1px 1px 1px 1px);clip: rect(1px, 1px, 1px, 1px);height: 1px;margin: -1px;overflow: hidden;padding: 0;position: absolute;width: 1px;}#sk-container-id-1 div.sk-estimator {font-family: monospace;background-color: #f0f8ff;border: 1px dotted black;border-radius: 0.25em;box-sizing: border-box;margin-bottom: 0.5em;}#sk-container-id-1 div.sk-estimator:hover {background-color: #d4ebff;}#sk-container-id-1 div.sk-parallel-item::after {content: \"\";width: 100%;border-bottom: 1px solid gray;flex-grow: 1;}#sk-container-id-1 div.sk-label:hover label.sk-toggleable__label {background-color: #d4ebff;}#sk-container-id-1 div.sk-serial::before {content: \"\";position: absolute;border-left: 1px solid gray;box-sizing: border-box;top: 0;bottom: 0;left: 50%;z-index: 0;}#sk-container-id-1 div.sk-serial {display: flex;flex-direction: column;align-items: center;background-color: white;padding-right: 0.2em;padding-left: 0.2em;position: relative;}#sk-container-id-1 div.sk-item {position: relative;z-index: 1;}#sk-container-id-1 div.sk-parallel {display: flex;align-items: stretch;justify-content: center;background-color: white;position: relative;}#sk-container-id-1 div.sk-item::before, #sk-container-id-1 div.sk-parallel-item::before {content: \"\";position: absolute;border-left: 1px solid gray;box-sizing: border-box;top: 0;bottom: 0;left: 50%;z-index: -1;}#sk-container-id-1 div.sk-parallel-item {display: flex;flex-direction: column;z-index: 1;position: relative;background-color: white;}#sk-container-id-1 div.sk-parallel-item:first-child::after {align-self: flex-end;width: 50%;}#sk-container-id-1 div.sk-parallel-item:last-child::after {align-self: flex-start;width: 50%;}#sk-container-id-1 div.sk-parallel-item:only-child::after {width: 0;}#sk-container-id-1 div.sk-dashed-wrapped {border: 1px dashed gray;margin: 0 0.4em 0.5em 0.4em;box-sizing: border-box;padding-bottom: 0.4em;background-color: white;}#sk-container-id-1 div.sk-label label {font-family: monospace;font-weight: bold;display: inline-block;line-height: 1.2em;}#sk-container-id-1 div.sk-label-container {text-align: center;}#sk-container-id-1 div.sk-container {/* jupyter's `normalize.less` sets `[hidden] { display: none; }` but bootstrap.min.css set `[hidden] { display: none !important; }` so we also need the `!important` here to be able to override the default hidden behavior on the sphinx rendered scikit-learn.org. See: https://github.com/scikit-learn/scikit-learn/issues/21755 */display: inline-block !important;position: relative;}#sk-container-id-1 div.sk-text-repr-fallback {display: none;}</style><div id=\"sk-container-id-1\" class=\"sk-top-container\"><div class=\"sk-text-repr-fallback\"><pre>PCA(svd_solver=&#x27;full&#x27;)</pre><b>In a Jupyter environment, please rerun this cell to show the HTML representation or trust the notebook. <br />On GitHub, the HTML representation is unable to render, please try loading this page with nbviewer.org.</b></div><div class=\"sk-container\" hidden><div class=\"sk-item\"><div class=\"sk-estimator sk-toggleable\"><input class=\"sk-toggleable__control sk-hidden--visually\" id=\"sk-estimator-id-1\" type=\"checkbox\" checked><label for=\"sk-estimator-id-1\" class=\"sk-toggleable__label sk-toggleable__label-arrow\">PCA</label><div class=\"sk-toggleable__content\"><pre>PCA(svd_solver=&#x27;full&#x27;)</pre></div></div></div></div></div>"
     },
     "execution_count": 61,
     "metadata": {},
     "output_type": "execute_result"
    }
   ],
   "source": [
    "# pca = PCA(svd_solver='full')\n",
    "# pca.fit(R_dense_ratings_merged_np)"
   ],
   "metadata": {
    "collapsed": false,
    "ExecuteTime": {
     "end_time": "2023-05-13T23:10:38.983938Z",
     "start_time": "2023-05-13T23:09:04.595510Z"
    }
   },
   "id": "84506911d8083b07"
  },
  {
   "cell_type": "code",
   "execution_count": 62,
   "outputs": [
    {
     "data": {
      "text/plain": "<Figure size 800x550 with 1 Axes>",
      "image/png": "[encoded data removed]"
     },
     "metadata": {},
     "output_type": "display_data"
    }
   ],
   "source": [
    "# errors, s_values = error_PCA(pca)\n",
    "# plot_PCA_errors(errors, s_values, \"PCA on `items`\")"
   ],
   "metadata": {
    "collapsed": false,
    "ExecuteTime": {
     "end_time": "2023-05-13T23:11:00.198750Z",
     "start_time": "2023-05-13T23:11:00.057021Z"
    }
   },
   "id": "1ac53c0e8f17dcc4"
  },
  {
   "cell_type": "markdown",
   "source": [],
   "metadata": {
    "collapsed": false
   },
   "id": "b8e50ce0e7fc5871"
  },
  {
   "cell_type": "code",
   "execution_count": 11,
   "outputs": [],
   "source": [
    "def preprocess_get_ratings_stats(R_dense: pd.DataFrame, orig_data: pd.DataFrame):\n",
    "    ratings_count = R_dense.count(axis=1)\n",
    "    min_rating = R_dense.min(axis=1)\n",
    "    max_rating = R_dense.max(axis=1)\n",
    "    mean_rating = R_dense.mean(axis=1)\n",
    "    median_rating = R_dense.median(axis=1)\n",
    "    var_rating = R_dense.var(axis=1)\n",
    "    std_rating = R_dense.std(axis=1)\n",
    "    # abs_rating = R_dense.abs(axis=1)  # TODO check\n",
    "    # sum_rating = R_dense.sum(axis=1)  # TODO DELETE, needs scaling? (becomes mean,...)\n",
    "    rating_0_sum = np.sum((R_dense == 0), axis=0)\n",
    "    rating_1_sum = np.sum((R_dense == 1), axis=0)\n",
    "    rating_2_sum = np.sum((R_dense == 2), axis=0)\n",
    "    rating_3_sum = np.sum((R_dense == 3), axis=0)\n",
    "    rating_4_sum = np.sum((R_dense == 4), axis=0)\n",
    "    rating_5_sum = np.sum((R_dense == 5), axis=0)\n",
    "    skeq_rating = R_dense.skew(axis=1)\n",
    "    kurt_rating = R_dense.kurt(axis=1)\n",
    "    # TODO check more methods\n",
    "\n",
    "\n",
    "    # TODO add percentage of each rating.\n",
    "\n",
    "    # check if there are multiple ratings per user per item. (on train_1)\n",
    "    # currently always False\n",
    "    # TODO try in 2nd round\n",
    "    orig_data_counts = orig_data.user_id.value_counts(sort=False)\n",
    "    # print(orig_data_counts)\n",
    "    # print(ratings_count)\n",
    "    no_multiple_ratings_per_user = ratings_count.reset_index(drop=True) == orig_data_counts.reset_index(drop=True)\n",
    "    display(no_multiple_ratings_per_user.value_counts())\n",
    "\n",
    "\n",
    "    out_df = pd.DataFrame()\n",
    "\n",
    "    out_df[out_df.shape[1]+1] = ratings_count\n",
    "    out_df[out_df.shape[1]+1] = min_rating\n",
    "    out_df[out_df.shape[1]+1] = max_rating\n",
    "    out_df[out_df.shape[1]+1] = mean_rating\n",
    "    out_df[out_df.shape[1]+1] = median_rating\n",
    "    out_df[out_df.shape[1]+1] = var_rating\n",
    "    out_df[out_df.shape[1]+1] = std_rating\n",
    "    # out_df[out_df.shape[1]+1] = abs_rating\n",
    "    # out_df[out_df.shape[1]+1] = sum_rating\n",
    "    out_df[out_df.shape[1]+1] = rating_0_sum\n",
    "    out_df[out_df.shape[1]+1] = rating_1_sum\n",
    "    out_df[out_df.shape[1]+1] = rating_2_sum\n",
    "    out_df[out_df.shape[1]+1] = rating_3_sum\n",
    "    out_df[out_df.shape[1]+1] = rating_4_sum\n",
    "    out_df[out_df.shape[1]+1] = rating_5_sum\n",
    "    out_df[out_df.shape[1]+1] = skeq_rating\n",
    "    out_df[out_df.shape[1]+1] = kurt_rating\n",
    "    # out_df[out_df.shape[1]+1] = no_multiple_ratings_per_user\n",
    "\n",
    "    return out_df\n"
   ],
   "metadata": {
    "collapsed": false,
    "ExecuteTime": {
     "end_time": "2023-05-30T20:55:20.232613Z",
     "start_time": "2023-05-30T20:55:20.223378Z"
    }
   },
   "id": "cc55190f6039e8e"
  },
  {
   "cell_type": "code",
   "execution_count": 12,
   "outputs": [],
   "source": [
    "def preproess_R_dense(R_dense: pd.DataFrame, orig_data: pd.DataFrame, keep_ratings: bool = True, clusters: np.ndarray = None, ALS_U: np.ndarray = None, mahalanobis: np.ndarray = None):\n",
    "\n",
    "    rating_stats = preprocess_get_ratings_stats(R_dense, orig_data)\n",
    "    assert rating_stats.shape[0] == R_dense.shape[0]\n",
    "\n",
    "\n",
    "    # TODO delete to keep orig features\n",
    "    if keep_ratings:\n",
    "        R_dense_copy = R_dense.copy(deep=True)\n",
    "    else:\n",
    "        R_dense_copy = pd.DataFrame()\n",
    "\n",
    "    R_dense_copy = pd.concat([R_dense_copy, rating_stats], axis=1)\n",
    "\n",
    "    assert R_dense.shape[0] == R_dense_copy.shape[0]\n",
    "\n",
    "    # clusters_df = pd.DataFrame(clusters, columns=['label', 'loc1', 'loc2'])\n",
    "    if clusters is not None:\n",
    "        clusters_df = pd.DataFrame(clusters) # TODO resolve\n",
    "        R_dense_copy = pd.concat([R_dense_copy, clusters_df], axis=1)\n",
    "        assert R_dense.shape[0] == R_dense_copy.shape[0]\n",
    "\n",
    "    if ALS_U is not None:\n",
    "        ALS_U_pd = pd.DataFrame(ALS_U)\n",
    "        R_dense_copy = pd.concat([R_dense_copy, ALS_U_pd], axis=1)\n",
    "        assert R_dense.shape[0] == R_dense_copy.shape[0]\n",
    "\n",
    "    if mahalanobis is not None:\n",
    "        mahalanobis_pd = pd.DataFrame(mahalanobis)\n",
    "        R_dense_copy = pd.concat([R_dense_copy, mahalanobis_pd], axis=1)\n",
    "        assert R_dense.shape[0] == R_dense_copy.shape[0]\n",
    "\n",
    "    R_dense_copy = R_dense_copy.fillna(-1)\n",
    "    # convert column names to int\n",
    "    # R_dense_copy.columns = R_dense_copy.columns.astype(str)\n",
    "    assert R_dense.shape[0] == R_dense_copy.shape[0]\n",
    "    return R_dense_copy"
   ],
   "metadata": {
    "collapsed": false,
    "ExecuteTime": {
     "end_time": "2023-05-30T20:55:22.203886Z",
     "start_time": "2023-05-30T20:55:22.196436Z"
    }
   },
   "id": "f7315671bc867ee"
  },
  {
   "cell_type": "code",
   "execution_count": 15,
   "outputs": [],
   "source": [
    "ratings_supervised_cluster_labels_distance = None\n",
    "ratings_leaderboard_cluster_labels_distance = None\n",
    "ratings_competition_cluster_labels_distance = None"
   ],
   "metadata": {
    "collapsed": false,
    "ExecuteTime": {
     "end_time": "2023-05-27T17:01:40.245212Z",
     "start_time": "2023-05-27T17:01:40.214418Z"
    }
   },
   "id": "66ecebe521ff7bff"
  },
  {
   "cell_type": "code",
   "execution_count": null,
   "outputs": [],
   "source": [
    "ratings_supervised_U = None\n",
    "ratings_leaderboard_U = None\n",
    "ratings_competition_U = None"
   ],
   "metadata": {
    "collapsed": false
   },
   "id": "539ad9219612a273"
  },
  {
   "cell_type": "code",
   "execution_count": null,
   "outputs": [],
   "source": [
    "ratings_supervised_mahanalobis = None\n",
    "ratings_leaderboard_mahanalobis = None\n",
    "ratings_competition_mahanalobis = None"
   ],
   "metadata": {
    "collapsed": false
   },
   "id": "5d6ae52f08992a26"
  },
  {
   "cell_type": "code",
   "execution_count": 13,
   "outputs": [
    {
     "data": {
      "text/plain": "True     4999\nFalse       1\ndtype: int64"
     },
     "metadata": {},
     "output_type": "display_data"
    },
    {
     "data": {
      "text/plain": "True    50000\ndtype: int64"
     },
     "metadata": {},
     "output_type": "display_data"
    },
    {
     "data": {
      "text/plain": "True    48944\ndtype: int64"
     },
     "metadata": {},
     "output_type": "display_data"
    }
   ],
   "source": [
    "keep_ratings = True\n",
    "\n",
    "R_dense_ratings_supervised = preproess_R_dense(R_dense_ratings_supervised_unproc, ratings_supervised, clusters=ratings_supervised_cluster_labels_distance, ALS_U=ratings_supervised_U, mahalanobis=ratings_supervised_mahanalobis, keep_ratings=keep_ratings)\n",
    "R_dense_leaderboard = preproess_R_dense(R_dense_leaderboard_unproc, ratings_leaderboard, clusters=ratings_leaderboard_cluster_labels_distance, ALS_U=ratings_leaderboard_U, mahalanobis=ratings_leaderboard_mahanalobis, keep_ratings=keep_ratings)\n",
    "R_dense_competition = preproess_R_dense(R_dense_competition_unproc, ratings_competition, clusters=ratings_competition_cluster_labels_distance, ALS_U=ratings_competition_U, mahalanobis=ratings_competition_mahanalobis, keep_ratings=keep_ratings)"
   ],
   "metadata": {
    "collapsed": false,
    "ExecuteTime": {
     "end_time": "2023-05-30T20:55:47.773197Z",
     "start_time": "2023-05-30T20:55:26.926248Z"
    }
   },
   "id": "fe487133f47775d3"
  },
  {
   "cell_type": "code",
   "execution_count": 90,
   "outputs": [],
   "source": [
    "corrP = R_dense_ratings_supervised.join(ratings_supervised_label.reset_index().drop(columns=['user_id']))"
   ],
   "metadata": {
    "collapsed": false,
    "ExecuteTime": {
     "end_time": "2023-05-27T20:06:53.403487Z",
     "start_time": "2023-05-27T20:06:53.366714Z"
    }
   },
   "id": "2fd04a2d3fe50a67"
  },
  {
   "cell_type": "code",
   "execution_count": 93,
   "outputs": [
    {
     "data": {
      "text/plain": "Int64Index([4, 9, 26, 29, 37, 64, 72, 94, 97, 115], dtype='int64')"
     },
     "execution_count": 93,
     "metadata": {},
     "output_type": "execute_result"
    }
   ],
   "source": [
    "corrP_cols"
   ],
   "metadata": {
    "collapsed": false,
    "ExecuteTime": {
     "end_time": "2023-05-27T20:07:27.902077Z",
     "start_time": "2023-05-27T20:07:27.861547Z"
    }
   },
   "id": "d4f3676037335751"
  },
  {
   "cell_type": "code",
   "execution_count": 92,
   "outputs": [
    {
     "data": {
      "text/plain": "4      1.0\n9      1.0\n26     1.0\n29     1.0\n37     1.0\n64     1.0\n72     1.0\n94     1.0\n97     1.0\n115    1.0\nName: y, dtype: float64"
     },
     "metadata": {},
     "output_type": "display_data"
    },
    {
     "ename": "NameError",
     "evalue": "name 'feature_selection' is not defined",
     "output_type": "error",
     "traceback": [
      "\u001B[0;31m---------------------------------------------------------------------------\u001B[0m",
      "\u001B[0;31mNameError\u001B[0m                                 Traceback (most recent call last)",
      "Cell \u001B[0;32mIn[92], line 5\u001B[0m\n\u001B[1;32m      2\u001B[0m display(corrP\u001B[38;5;241m.\u001B[39my\u001B[38;5;241m.\u001B[39mloc[corrP_cols])\n\u001B[1;32m      4\u001B[0m \u001B[38;5;66;03m# calculate p-values of the corresponding F-test (if the correlation = 0)\u001B[39;00m\n\u001B[0;32m----> 5\u001B[0m Fscores, pvals \u001B[38;5;241m=\u001B[39m \u001B[43mfeature_selection\u001B[49m\u001B[38;5;241m.\u001B[39mf_regression(X,y)\n\u001B[1;32m      6\u001B[0m pvals_result \u001B[38;5;241m=\u001B[39m pd\u001B[38;5;241m.\u001B[39mSeries(pvals, index \u001B[38;5;241m=\u001B[39m X\u001B[38;5;241m.\u001B[39mcolumns)\n\u001B[1;32m      7\u001B[0m \u001B[38;5;28mprint\u001B[39m(\u001B[38;5;124m\"\u001B[39m\u001B[38;5;124m5 largest P-values:\u001B[39m\u001B[38;5;124m\"\u001B[39m)\n",
      "\u001B[0;31mNameError\u001B[0m: name 'feature_selection' is not defined"
     ]
    }
   ],
   "source": [
    "corrP_cols = R_dense_ratings_supervised.join(ratings_supervised_label.reset_index().drop(columns=['user_id'])).y.abs().nlargest(10).index # get the index and then plot the real values\n",
    "display(corrP.y.loc[corrP_cols])\n",
    "\n",
    "# calculate p-values of the corresponding F-test (if the correlation = 0)\n",
    "Fscores, pvals = feature_selection.f_regression(X,y)\n",
    "pvals_result = pd.Series(pvals, index = X.columns)\n",
    "print(\"5 largest P-values:\")\n",
    "display(pvals_result.nlargest(5))\n",
    "print(\"5 smallest (absolute value) correlations:\")\n",
    "display(corrP.SalePrice.drop(columns_to_remove, errors = 'ignore').abs().nsmallest(5))"
   ],
   "metadata": {
    "collapsed": false,
    "ExecuteTime": {
     "end_time": "2023-05-27T20:07:01.661251Z",
     "start_time": "2023-05-27T20:07:01.633017Z"
    }
   },
   "id": "74968885aa2cb7bd"
  },
  {
   "cell_type": "code",
   "execution_count": 142,
   "outputs": [],
   "source": [
    "sc = StandardScaler()\n",
    "scaler = sc.fit(R_dense_ratings_supervised)\n",
    "R_dense_ratings_supervised = scaler.transform(R_dense_ratings_supervised)\n",
    "R_dense_leaderboard = scaler.transform(R_dense_leaderboard)\n",
    "R_dense_competition = scaler.transform(R_dense_competition)"
   ],
   "metadata": {
    "collapsed": false,
    "ExecuteTime": {
     "end_time": "2023-05-27T20:35:14.455898Z",
     "start_time": "2023-05-27T20:35:14.401009Z"
    }
   },
   "id": "a5a37a5906b1ae2a"
  },
  {
   "cell_type": "code",
   "execution_count": 14,
   "outputs": [],
   "source": [
    "R_dense_ratings_supervised_convNP = R_dense_ratings_supervised.to_numpy()\n",
    "# R_dense_ratings_supervised_convNP = R_dense_ratings_supervised\n",
    "\n",
    "\n",
    "X_all = R_dense_ratings_supervised_convNP\n",
    "y_all = ratings_supervised_label\n",
    "\n",
    "# R_dense_ratings_supervised_convNP = R_dense_ratings_supervised.to_numpy()\n",
    "# X_train, X_test, y_train, y_test = train_test_split(R_dense_ratings_supervised_convNP, ratings_supervised_label, test_size=0.001, random_state=42)\n",
    "#\n",
    "#\n",
    "# assert y_train.shape[0] == X_train.shape[0]\n",
    "# assert y_test.shape[0] == X_test.shape[0]\n",
    "\n",
    "#\n"
   ],
   "metadata": {
    "collapsed": false,
    "ExecuteTime": {
     "end_time": "2023-05-30T21:00:29.271874Z",
     "start_time": "2023-05-30T21:00:29.210964Z"
    }
   },
   "id": "b7a884ba173a725f"
  },
  {
   "cell_type": "code",
   "execution_count": 24,
   "outputs": [
    {
     "data": {
      "text/plain": "(103944, 2380)"
     },
     "execution_count": 24,
     "metadata": {},
     "output_type": "execute_result"
    }
   ],
   "source": [
    "X_all.shape"
   ],
   "metadata": {
    "collapsed": false,
    "ExecuteTime": {
     "end_time": "2023-05-23T14:09:57.621480Z",
     "start_time": "2023-05-23T14:09:57.596870Z"
    }
   },
   "id": "30bbace4475a98fe"
  },
  {
   "cell_type": "code",
   "execution_count": 15,
   "outputs": [
    {
     "data": {
      "text/plain": "array([[-1.00000000e+00, -1.00000000e+00, -1.00000000e+00, ...,\n         7.64019759e-01,  6.77700683e-01,  2.40101514e+03],\n       [-1.00000000e+00, -1.00000000e+00, -1.00000000e+00, ...,\n         2.90200219e-01,  2.61766369e-01,  2.95601343e+03],\n       [-1.00000000e+00,  1.00000000e+00, -1.00000000e+00, ...,\n        -1.25477125e-01,  8.81804536e-02,  3.91353491e+03],\n       ...,\n       [-1.00000000e+00, -1.00000000e+00, -1.00000000e+00, ...,\n         4.86840131e-01,  2.21703046e-01,  1.48167444e+03],\n       [-1.00000000e+00, -1.00000000e+00, -1.00000000e+00, ...,\n         1.98748246e-01,  3.68106862e-01,  9.27642273e+02],\n       [-1.00000000e+00, -1.00000000e+00, -1.00000000e+00, ...,\n         2.95503353e-01,  2.39029129e-01,  3.66006934e+03]])"
     },
     "execution_count": 15,
     "metadata": {},
     "output_type": "execute_result"
    }
   ],
   "source": [
    "X_all"
   ],
   "metadata": {
    "collapsed": false,
    "ExecuteTime": {
     "end_time": "2023-05-30T21:03:51.484920Z",
     "start_time": "2023-05-30T21:03:51.451158Z"
    }
   },
   "id": "cb5eebdfada64dbd"
  },
  {
   "cell_type": "code",
   "execution_count": null,
   "outputs": [
    {
     "name": "stdout",
     "output_type": "stream",
     "text": [
      "Fitting 5 folds for each of 78 candidates, totalling 390 fits\n"
     ]
    },
    {
     "name": "stderr",
     "output_type": "stream",
     "text": [
      "/Users/jakubkucera/Documents/NI-ADM/.venv/lib/python3.11/site-packages/sklearn/neural_network/_multilayer_perceptron.py:1099: DataConversionWarning: A column-vector y was passed when a 1d array was expected. Please change the shape of y to (n_samples, ), for example using ravel().\n",
      "  y = column_or_1d(y, warn=True)\n",
      "/Users/jakubkucera/Documents/NI-ADM/.venv/lib/python3.11/site-packages/sklearn/neural_network/_multilayer_perceptron.py:1099: DataConversionWarning: A column-vector y was passed when a 1d array was expected. Please change the shape of y to (n_samples, ), for example using ravel().\n",
      "  y = column_or_1d(y, warn=True)\n",
      "/Users/jakubkucera/Documents/NI-ADM/.venv/lib/python3.11/site-packages/sklearn/neural_network/_multilayer_perceptron.py:1099: DataConversionWarning: A column-vector y was passed when a 1d array was expected. Please change the shape of y to (n_samples, ), for example using ravel().\n",
      "  y = column_or_1d(y, warn=True)\n",
      "/Users/jakubkucera/Documents/NI-ADM/.venv/lib/python3.11/site-packages/sklearn/neural_network/_multilayer_perceptron.py:1099: DataConversionWarning: A column-vector y was passed when a 1d array was expected. Please change the shape of y to (n_samples, ), for example using ravel().\n",
      "  y = column_or_1d(y, warn=True)\n",
      "/Users/jakubkucera/Documents/NI-ADM/.venv/lib/python3.11/site-packages/sklearn/neural_network/_multilayer_perceptron.py:1099: DataConversionWarning: A column-vector y was passed when a 1d array was expected. Please change the shape of y to (n_samples, ), for example using ravel().\n",
      "  y = column_or_1d(y, warn=True)\n",
      "/Users/jakubkucera/Documents/NI-ADM/.venv/lib/python3.11/site-packages/sklearn/neural_network/_multilayer_perceptron.py:1099: DataConversionWarning: A column-vector y was passed when a 1d array was expected. Please change the shape of y to (n_samples, ), for example using ravel().\n",
      "  y = column_or_1d(y, warn=True)\n",
      "/Users/jakubkucera/Documents/NI-ADM/.venv/lib/python3.11/site-packages/sklearn/neural_network/_multilayer_perceptron.py:1099: DataConversionWarning: A column-vector y was passed when a 1d array was expected. Please change the shape of y to (n_samples, ), for example using ravel().\n",
      "  y = column_or_1d(y, warn=True)\n",
      "/Users/jakubkucera/Documents/NI-ADM/.venv/lib/python3.11/site-packages/sklearn/neural_network/_multilayer_perceptron.py:1099: DataConversionWarning: A column-vector y was passed when a 1d array was expected. Please change the shape of y to (n_samples, ), for example using ravel().\n",
      "  y = column_or_1d(y, warn=True)\n",
      "/Users/jakubkucera/Documents/NI-ADM/.venv/lib/python3.11/site-packages/sklearn/neural_network/_multilayer_perceptron.py:1099: DataConversionWarning: A column-vector y was passed when a 1d array was expected. Please change the shape of y to (n_samples, ), for example using ravel().\n",
      "  y = column_or_1d(y, warn=True)\n",
      "/Users/jakubkucera/Documents/NI-ADM/.venv/lib/python3.11/site-packages/sklearn/neural_network/_multilayer_perceptron.py:1099: DataConversionWarning: A column-vector y was passed when a 1d array was expected. Please change the shape of y to (n_samples, ), for example using ravel().\n",
      "  y = column_or_1d(y, warn=True)\n",
      "/Users/jakubkucera/Documents/NI-ADM/.venv/lib/python3.11/site-packages/sklearn/neural_network/_multilayer_perceptron.py:1099: DataConversionWarning: A column-vector y was passed when a 1d array was expected. Please change the shape of y to (n_samples, ), for example using ravel().\n",
      "  y = column_or_1d(y, warn=True)\n",
      "/Users/jakubkucera/Documents/NI-ADM/.venv/lib/python3.11/site-packages/sklearn/neural_network/_multilayer_perceptron.py:686: ConvergenceWarning: Stochastic Optimizer: Maximum iterations (200) reached and the optimization hasn't converged yet.\n",
      "  warnings.warn(\n",
      "/Users/jakubkucera/Documents/NI-ADM/.venv/lib/python3.11/site-packages/sklearn/neural_network/_multilayer_perceptron.py:686: ConvergenceWarning: Stochastic Optimizer: Maximum iterations (200) reached and the optimization hasn't converged yet.\n",
      "  warnings.warn(\n",
      "/Users/jakubkucera/Documents/NI-ADM/.venv/lib/python3.11/site-packages/sklearn/neural_network/_multilayer_perceptron.py:1099: DataConversionWarning: A column-vector y was passed when a 1d array was expected. Please change the shape of y to (n_samples, ), for example using ravel().\n",
      "  y = column_or_1d(y, warn=True)\n",
      "/Users/jakubkucera/Documents/NI-ADM/.venv/lib/python3.11/site-packages/sklearn/neural_network/_multilayer_perceptron.py:686: ConvergenceWarning: Stochastic Optimizer: Maximum iterations (200) reached and the optimization hasn't converged yet.\n",
      "  warnings.warn(\n",
      "/Users/jakubkucera/Documents/NI-ADM/.venv/lib/python3.11/site-packages/sklearn/neural_network/_multilayer_perceptron.py:1099: DataConversionWarning: A column-vector y was passed when a 1d array was expected. Please change the shape of y to (n_samples, ), for example using ravel().\n",
      "  y = column_or_1d(y, warn=True)\n",
      "/Users/jakubkucera/Documents/NI-ADM/.venv/lib/python3.11/site-packages/sklearn/neural_network/_multilayer_perceptron.py:1099: DataConversionWarning: A column-vector y was passed when a 1d array was expected. Please change the shape of y to (n_samples, ), for example using ravel().\n",
      "  y = column_or_1d(y, warn=True)\n",
      "/Users/jakubkucera/Documents/NI-ADM/.venv/lib/python3.11/site-packages/sklearn/neural_network/_multilayer_perceptron.py:686: ConvergenceWarning: Stochastic Optimizer: Maximum iterations (200) reached and the optimization hasn't converged yet.\n",
      "  warnings.warn(\n",
      "/Users/jakubkucera/Documents/NI-ADM/.venv/lib/python3.11/site-packages/sklearn/neural_network/_multilayer_perceptron.py:1099: DataConversionWarning: A column-vector y was passed when a 1d array was expected. Please change the shape of y to (n_samples, ), for example using ravel().\n",
      "  y = column_or_1d(y, warn=True)\n",
      "/Users/jakubkucera/Documents/NI-ADM/.venv/lib/python3.11/site-packages/sklearn/neural_network/_multilayer_perceptron.py:1099: DataConversionWarning: A column-vector y was passed when a 1d array was expected. Please change the shape of y to (n_samples, ), for example using ravel().\n",
      "  y = column_or_1d(y, warn=True)\n",
      "/Users/jakubkucera/Documents/NI-ADM/.venv/lib/python3.11/site-packages/sklearn/neural_network/_multilayer_perceptron.py:686: ConvergenceWarning: Stochastic Optimizer: Maximum iterations (200) reached and the optimization hasn't converged yet.\n",
      "  warnings.warn(\n",
      "/Users/jakubkucera/Documents/NI-ADM/.venv/lib/python3.11/site-packages/sklearn/neural_network/_multilayer_perceptron.py:1099: DataConversionWarning: A column-vector y was passed when a 1d array was expected. Please change the shape of y to (n_samples, ), for example using ravel().\n",
      "  y = column_or_1d(y, warn=True)\n",
      "/Users/jakubkucera/Documents/NI-ADM/.venv/lib/python3.11/site-packages/sklearn/neural_network/_multilayer_perceptron.py:1099: DataConversionWarning: A column-vector y was passed when a 1d array was expected. Please change the shape of y to (n_samples, ), for example using ravel().\n",
      "  y = column_or_1d(y, warn=True)\n",
      "/Users/jakubkucera/Documents/NI-ADM/.venv/lib/python3.11/site-packages/sklearn/neural_network/_multilayer_perceptron.py:1099: DataConversionWarning: A column-vector y was passed when a 1d array was expected. Please change the shape of y to (n_samples, ), for example using ravel().\n",
      "  y = column_or_1d(y, warn=True)\n",
      "/Users/jakubkucera/Documents/NI-ADM/.venv/lib/python3.11/site-packages/sklearn/neural_network/_multilayer_perceptron.py:1099: DataConversionWarning: A column-vector y was passed when a 1d array was expected. Please change the shape of y to (n_samples, ), for example using ravel().\n",
      "  y = column_or_1d(y, warn=True)\n",
      "/Users/jakubkucera/Documents/NI-ADM/.venv/lib/python3.11/site-packages/sklearn/neural_network/_multilayer_perceptron.py:686: ConvergenceWarning: Stochastic Optimizer: Maximum iterations (200) reached and the optimization hasn't converged yet.\n",
      "  warnings.warn(\n",
      "/Users/jakubkucera/Documents/NI-ADM/.venv/lib/python3.11/site-packages/sklearn/neural_network/_multilayer_perceptron.py:1099: DataConversionWarning: A column-vector y was passed when a 1d array was expected. Please change the shape of y to (n_samples, ), for example using ravel().\n",
      "  y = column_or_1d(y, warn=True)\n",
      "/Users/jakubkucera/Documents/NI-ADM/.venv/lib/python3.11/site-packages/sklearn/neural_network/_multilayer_perceptron.py:1099: DataConversionWarning: A column-vector y was passed when a 1d array was expected. Please change the shape of y to (n_samples, ), for example using ravel().\n",
      "  y = column_or_1d(y, warn=True)\n",
      "/Users/jakubkucera/Documents/NI-ADM/.venv/lib/python3.11/site-packages/sklearn/neural_network/_multilayer_perceptron.py:1099: DataConversionWarning: A column-vector y was passed when a 1d array was expected. Please change the shape of y to (n_samples, ), for example using ravel().\n",
      "  y = column_or_1d(y, warn=True)\n",
      "/Users/jakubkucera/Documents/NI-ADM/.venv/lib/python3.11/site-packages/sklearn/neural_network/_multilayer_perceptron.py:1099: DataConversionWarning: A column-vector y was passed when a 1d array was expected. Please change the shape of y to (n_samples, ), for example using ravel().\n",
      "  y = column_or_1d(y, warn=True)\n",
      "/Users/jakubkucera/Documents/NI-ADM/.venv/lib/python3.11/site-packages/sklearn/neural_network/_multilayer_perceptron.py:1099: DataConversionWarning: A column-vector y was passed when a 1d array was expected. Please change the shape of y to (n_samples, ), for example using ravel().\n",
      "  y = column_or_1d(y, warn=True)\n",
      "/Users/jakubkucera/Documents/NI-ADM/.venv/lib/python3.11/site-packages/sklearn/neural_network/_multilayer_perceptron.py:686: ConvergenceWarning: Stochastic Optimizer: Maximum iterations (200) reached and the optimization hasn't converged yet.\n",
      "  warnings.warn(\n",
      "/Users/jakubkucera/Documents/NI-ADM/.venv/lib/python3.11/site-packages/sklearn/neural_network/_multilayer_perceptron.py:1099: DataConversionWarning: A column-vector y was passed when a 1d array was expected. Please change the shape of y to (n_samples, ), for example using ravel().\n",
      "  y = column_or_1d(y, warn=True)\n",
      "/Users/jakubkucera/Documents/NI-ADM/.venv/lib/python3.11/site-packages/sklearn/neural_network/_multilayer_perceptron.py:1099: DataConversionWarning: A column-vector y was passed when a 1d array was expected. Please change the shape of y to (n_samples, ), for example using ravel().\n",
      "  y = column_or_1d(y, warn=True)\n",
      "/Users/jakubkucera/Documents/NI-ADM/.venv/lib/python3.11/site-packages/sklearn/neural_network/_multilayer_perceptron.py:686: ConvergenceWarning: Stochastic Optimizer: Maximum iterations (200) reached and the optimization hasn't converged yet.\n",
      "  warnings.warn(\n",
      "/Users/jakubkucera/Documents/NI-ADM/.venv/lib/python3.11/site-packages/sklearn/neural_network/_multilayer_perceptron.py:1099: DataConversionWarning: A column-vector y was passed when a 1d array was expected. Please change the shape of y to (n_samples, ), for example using ravel().\n",
      "  y = column_or_1d(y, warn=True)\n",
      "/Users/jakubkucera/Documents/NI-ADM/.venv/lib/python3.11/site-packages/sklearn/neural_network/_multilayer_perceptron.py:1099: DataConversionWarning: A column-vector y was passed when a 1d array was expected. Please change the shape of y to (n_samples, ), for example using ravel().\n",
      "  y = column_or_1d(y, warn=True)\n",
      "/Users/jakubkucera/Documents/NI-ADM/.venv/lib/python3.11/site-packages/sklearn/neural_network/_multilayer_perceptron.py:686: ConvergenceWarning: Stochastic Optimizer: Maximum iterations (200) reached and the optimization hasn't converged yet.\n",
      "  warnings.warn(\n",
      "/Users/jakubkucera/Documents/NI-ADM/.venv/lib/python3.11/site-packages/sklearn/neural_network/_multilayer_perceptron.py:1099: DataConversionWarning: A column-vector y was passed when a 1d array was expected. Please change the shape of y to (n_samples, ), for example using ravel().\n",
      "  y = column_or_1d(y, warn=True)\n",
      "/Users/jakubkucera/Documents/NI-ADM/.venv/lib/python3.11/site-packages/sklearn/neural_network/_multilayer_perceptron.py:686: ConvergenceWarning: Stochastic Optimizer: Maximum iterations (200) reached and the optimization hasn't converged yet.\n",
      "  warnings.warn(\n",
      "/Users/jakubkucera/Documents/NI-ADM/.venv/lib/python3.11/site-packages/sklearn/neural_network/_multilayer_perceptron.py:1099: DataConversionWarning: A column-vector y was passed when a 1d array was expected. Please change the shape of y to (n_samples, ), for example using ravel().\n",
      "  y = column_or_1d(y, warn=True)\n",
      "/Users/jakubkucera/Documents/NI-ADM/.venv/lib/python3.11/site-packages/sklearn/neural_network/_multilayer_perceptron.py:1099: DataConversionWarning: A column-vector y was passed when a 1d array was expected. Please change the shape of y to (n_samples, ), for example using ravel().\n",
      "  y = column_or_1d(y, warn=True)\n",
      "/Users/jakubkucera/Documents/NI-ADM/.venv/lib/python3.11/site-packages/sklearn/neural_network/_multilayer_perceptron.py:686: ConvergenceWarning: Stochastic Optimizer: Maximum iterations (200) reached and the optimization hasn't converged yet.\n",
      "  warnings.warn(\n",
      "/Users/jakubkucera/Documents/NI-ADM/.venv/lib/python3.11/site-packages/sklearn/neural_network/_multilayer_perceptron.py:1099: DataConversionWarning: A column-vector y was passed when a 1d array was expected. Please change the shape of y to (n_samples, ), for example using ravel().\n",
      "  y = column_or_1d(y, warn=True)\n",
      "/Users/jakubkucera/Documents/NI-ADM/.venv/lib/python3.11/site-packages/sklearn/neural_network/_multilayer_perceptron.py:1099: DataConversionWarning: A column-vector y was passed when a 1d array was expected. Please change the shape of y to (n_samples, ), for example using ravel().\n",
      "  y = column_or_1d(y, warn=True)\n",
      "/Users/jakubkucera/Documents/NI-ADM/.venv/lib/python3.11/site-packages/sklearn/neural_network/_multilayer_perceptron.py:1099: DataConversionWarning: A column-vector y was passed when a 1d array was expected. Please change the shape of y to (n_samples, ), for example using ravel().\n",
      "  y = column_or_1d(y, warn=True)\n",
      "/Users/jakubkucera/Documents/NI-ADM/.venv/lib/python3.11/site-packages/sklearn/neural_network/_multilayer_perceptron.py:1099: DataConversionWarning: A column-vector y was passed when a 1d array was expected. Please change the shape of y to (n_samples, ), for example using ravel().\n",
      "  y = column_or_1d(y, warn=True)\n",
      "/Users/jakubkucera/Documents/NI-ADM/.venv/lib/python3.11/site-packages/sklearn/neural_network/_multilayer_perceptron.py:1099: DataConversionWarning: A column-vector y was passed when a 1d array was expected. Please change the shape of y to (n_samples, ), for example using ravel().\n",
      "  y = column_or_1d(y, warn=True)\n",
      "/Users/jakubkucera/Documents/NI-ADM/.venv/lib/python3.11/site-packages/sklearn/neural_network/_multilayer_perceptron.py:1099: DataConversionWarning: A column-vector y was passed when a 1d array was expected. Please change the shape of y to (n_samples, ), for example using ravel().\n",
      "  y = column_or_1d(y, warn=True)\n",
      "/Users/jakubkucera/Documents/NI-ADM/.venv/lib/python3.11/site-packages/sklearn/neural_network/_multilayer_perceptron.py:1099: DataConversionWarning: A column-vector y was passed when a 1d array was expected. Please change the shape of y to (n_samples, ), for example using ravel().\n",
      "  y = column_or_1d(y, warn=True)\n",
      "/Users/jakubkucera/Documents/NI-ADM/.venv/lib/python3.11/site-packages/sklearn/neural_network/_multilayer_perceptron.py:1099: DataConversionWarning: A column-vector y was passed when a 1d array was expected. Please change the shape of y to (n_samples, ), for example using ravel().\n",
      "  y = column_or_1d(y, warn=True)\n",
      "/Users/jakubkucera/Documents/NI-ADM/.venv/lib/python3.11/site-packages/sklearn/neural_network/_multilayer_perceptron.py:1099: DataConversionWarning: A column-vector y was passed when a 1d array was expected. Please change the shape of y to (n_samples, ), for example using ravel().\n",
      "  y = column_or_1d(y, warn=True)\n",
      "/Users/jakubkucera/Documents/NI-ADM/.venv/lib/python3.11/site-packages/sklearn/neural_network/_multilayer_perceptron.py:1099: DataConversionWarning: A column-vector y was passed when a 1d array was expected. Please change the shape of y to (n_samples, ), for example using ravel().\n",
      "  y = column_or_1d(y, warn=True)\n",
      "/Users/jakubkucera/Documents/NI-ADM/.venv/lib/python3.11/site-packages/sklearn/neural_network/_multilayer_perceptron.py:1099: DataConversionWarning: A column-vector y was passed when a 1d array was expected. Please change the shape of y to (n_samples, ), for example using ravel().\n",
      "  y = column_or_1d(y, warn=True)\n",
      "/Users/jakubkucera/Documents/NI-ADM/.venv/lib/python3.11/site-packages/sklearn/neural_network/_multilayer_perceptron.py:1099: DataConversionWarning: A column-vector y was passed when a 1d array was expected. Please change the shape of y to (n_samples, ), for example using ravel().\n",
      "  y = column_or_1d(y, warn=True)\n",
      "/Users/jakubkucera/Documents/NI-ADM/.venv/lib/python3.11/site-packages/sklearn/neural_network/_multilayer_perceptron.py:1099: DataConversionWarning: A column-vector y was passed when a 1d array was expected. Please change the shape of y to (n_samples, ), for example using ravel().\n",
      "  y = column_or_1d(y, warn=True)\n",
      "/Users/jakubkucera/Documents/NI-ADM/.venv/lib/python3.11/site-packages/sklearn/neural_network/_multilayer_perceptron.py:686: ConvergenceWarning: Stochastic Optimizer: Maximum iterations (200) reached and the optimization hasn't converged yet.\n",
      "  warnings.warn(\n",
      "/Users/jakubkucera/Documents/NI-ADM/.venv/lib/python3.11/site-packages/sklearn/neural_network/_multilayer_perceptron.py:1099: DataConversionWarning: A column-vector y was passed when a 1d array was expected. Please change the shape of y to (n_samples, ), for example using ravel().\n",
      "  y = column_or_1d(y, warn=True)\n",
      "/Users/jakubkucera/Documents/NI-ADM/.venv/lib/python3.11/site-packages/sklearn/neural_network/_multilayer_perceptron.py:686: ConvergenceWarning: Stochastic Optimizer: Maximum iterations (200) reached and the optimization hasn't converged yet.\n",
      "  warnings.warn(\n",
      "/Users/jakubkucera/Documents/NI-ADM/.venv/lib/python3.11/site-packages/sklearn/neural_network/_multilayer_perceptron.py:1099: DataConversionWarning: A column-vector y was passed when a 1d array was expected. Please change the shape of y to (n_samples, ), for example using ravel().\n",
      "  y = column_or_1d(y, warn=True)\n",
      "/Users/jakubkucera/Documents/NI-ADM/.venv/lib/python3.11/site-packages/sklearn/neural_network/_multilayer_perceptron.py:686: ConvergenceWarning: Stochastic Optimizer: Maximum iterations (200) reached and the optimization hasn't converged yet.\n",
      "  warnings.warn(\n",
      "/Users/jakubkucera/Documents/NI-ADM/.venv/lib/python3.11/site-packages/sklearn/neural_network/_multilayer_perceptron.py:1099: DataConversionWarning: A column-vector y was passed when a 1d array was expected. Please change the shape of y to (n_samples, ), for example using ravel().\n",
      "  y = column_or_1d(y, warn=True)\n",
      "/Users/jakubkucera/Documents/NI-ADM/.venv/lib/python3.11/site-packages/sklearn/neural_network/_multilayer_perceptron.py:686: ConvergenceWarning: Stochastic Optimizer: Maximum iterations (200) reached and the optimization hasn't converged yet.\n",
      "  warnings.warn(\n",
      "/Users/jakubkucera/Documents/NI-ADM/.venv/lib/python3.11/site-packages/sklearn/neural_network/_multilayer_perceptron.py:1099: DataConversionWarning: A column-vector y was passed when a 1d array was expected. Please change the shape of y to (n_samples, ), for example using ravel().\n",
      "  y = column_or_1d(y, warn=True)\n",
      "/Users/jakubkucera/Documents/NI-ADM/.venv/lib/python3.11/site-packages/sklearn/neural_network/_multilayer_perceptron.py:686: ConvergenceWarning: Stochastic Optimizer: Maximum iterations (200) reached and the optimization hasn't converged yet.\n",
      "  warnings.warn(\n",
      "/Users/jakubkucera/Documents/NI-ADM/.venv/lib/python3.11/site-packages/sklearn/neural_network/_multilayer_perceptron.py:1099: DataConversionWarning: A column-vector y was passed when a 1d array was expected. Please change the shape of y to (n_samples, ), for example using ravel().\n",
      "  y = column_or_1d(y, warn=True)\n",
      "/Users/jakubkucera/Documents/NI-ADM/.venv/lib/python3.11/site-packages/sklearn/neural_network/_multilayer_perceptron.py:1099: DataConversionWarning: A column-vector y was passed when a 1d array was expected. Please change the shape of y to (n_samples, ), for example using ravel().\n",
      "  y = column_or_1d(y, warn=True)\n",
      "/Users/jakubkucera/Documents/NI-ADM/.venv/lib/python3.11/site-packages/sklearn/neural_network/_multilayer_perceptron.py:1099: DataConversionWarning: A column-vector y was passed when a 1d array was expected. Please change the shape of y to (n_samples, ), for example using ravel().\n",
      "  y = column_or_1d(y, warn=True)\n",
      "/Users/jakubkucera/Documents/NI-ADM/.venv/lib/python3.11/site-packages/sklearn/neural_network/_multilayer_perceptron.py:1099: DataConversionWarning: A column-vector y was passed when a 1d array was expected. Please change the shape of y to (n_samples, ), for example using ravel().\n",
      "  y = column_or_1d(y, warn=True)\n",
      "/Users/jakubkucera/Documents/NI-ADM/.venv/lib/python3.11/site-packages/sklearn/neural_network/_multilayer_perceptron.py:1099: DataConversionWarning: A column-vector y was passed when a 1d array was expected. Please change the shape of y to (n_samples, ), for example using ravel().\n",
      "  y = column_or_1d(y, warn=True)\n",
      "/Users/jakubkucera/Documents/NI-ADM/.venv/lib/python3.11/site-packages/sklearn/neural_network/_multilayer_perceptron.py:1099: DataConversionWarning: A column-vector y was passed when a 1d array was expected. Please change the shape of y to (n_samples, ), for example using ravel().\n",
      "  y = column_or_1d(y, warn=True)\n",
      "/Users/jakubkucera/Documents/NI-ADM/.venv/lib/python3.11/site-packages/sklearn/neural_network/_multilayer_perceptron.py:1099: DataConversionWarning: A column-vector y was passed when a 1d array was expected. Please change the shape of y to (n_samples, ), for example using ravel().\n",
      "  y = column_or_1d(y, warn=True)\n",
      "/Users/jakubkucera/Documents/NI-ADM/.venv/lib/python3.11/site-packages/sklearn/neural_network/_multilayer_perceptron.py:1099: DataConversionWarning: A column-vector y was passed when a 1d array was expected. Please change the shape of y to (n_samples, ), for example using ravel().\n",
      "  y = column_or_1d(y, warn=True)\n",
      "/Users/jakubkucera/Documents/NI-ADM/.venv/lib/python3.11/site-packages/sklearn/neural_network/_multilayer_perceptron.py:1099: DataConversionWarning: A column-vector y was passed when a 1d array was expected. Please change the shape of y to (n_samples, ), for example using ravel().\n",
      "  y = column_or_1d(y, warn=True)\n",
      "/Users/jakubkucera/Documents/NI-ADM/.venv/lib/python3.11/site-packages/sklearn/neural_network/_multilayer_perceptron.py:1099: DataConversionWarning: A column-vector y was passed when a 1d array was expected. Please change the shape of y to (n_samples, ), for example using ravel().\n",
      "  y = column_or_1d(y, warn=True)\n",
      "/Users/jakubkucera/Documents/NI-ADM/.venv/lib/python3.11/site-packages/sklearn/neural_network/_multilayer_perceptron.py:1099: DataConversionWarning: A column-vector y was passed when a 1d array was expected. Please change the shape of y to (n_samples, ), for example using ravel().\n",
      "  y = column_or_1d(y, warn=True)\n",
      "/Users/jakubkucera/Documents/NI-ADM/.venv/lib/python3.11/site-packages/sklearn/neural_network/_multilayer_perceptron.py:1099: DataConversionWarning: A column-vector y was passed when a 1d array was expected. Please change the shape of y to (n_samples, ), for example using ravel().\n",
      "  y = column_or_1d(y, warn=True)\n",
      "/Users/jakubkucera/Documents/NI-ADM/.venv/lib/python3.11/site-packages/sklearn/neural_network/_multilayer_perceptron.py:1099: DataConversionWarning: A column-vector y was passed when a 1d array was expected. Please change the shape of y to (n_samples, ), for example using ravel().\n",
      "  y = column_or_1d(y, warn=True)\n",
      "/Users/jakubkucera/Documents/NI-ADM/.venv/lib/python3.11/site-packages/sklearn/neural_network/_multilayer_perceptron.py:686: ConvergenceWarning: Stochastic Optimizer: Maximum iterations (200) reached and the optimization hasn't converged yet.\n",
      "  warnings.warn(\n",
      "/Users/jakubkucera/Documents/NI-ADM/.venv/lib/python3.11/site-packages/sklearn/neural_network/_multilayer_perceptron.py:1099: DataConversionWarning: A column-vector y was passed when a 1d array was expected. Please change the shape of y to (n_samples, ), for example using ravel().\n",
      "  y = column_or_1d(y, warn=True)\n",
      "/Users/jakubkucera/Documents/NI-ADM/.venv/lib/python3.11/site-packages/sklearn/neural_network/_multilayer_perceptron.py:686: ConvergenceWarning: Stochastic Optimizer: Maximum iterations (200) reached and the optimization hasn't converged yet.\n",
      "  warnings.warn(\n",
      "/Users/jakubkucera/Documents/NI-ADM/.venv/lib/python3.11/site-packages/sklearn/neural_network/_multilayer_perceptron.py:1099: DataConversionWarning: A column-vector y was passed when a 1d array was expected. Please change the shape of y to (n_samples, ), for example using ravel().\n",
      "  y = column_or_1d(y, warn=True)\n",
      "/Users/jakubkucera/Documents/NI-ADM/.venv/lib/python3.11/site-packages/sklearn/neural_network/_multilayer_perceptron.py:686: ConvergenceWarning: Stochastic Optimizer: Maximum iterations (200) reached and the optimization hasn't converged yet.\n",
      "  warnings.warn(\n",
      "/Users/jakubkucera/Documents/NI-ADM/.venv/lib/python3.11/site-packages/sklearn/neural_network/_multilayer_perceptron.py:1099: DataConversionWarning: A column-vector y was passed when a 1d array was expected. Please change the shape of y to (n_samples, ), for example using ravel().\n",
      "  y = column_or_1d(y, warn=True)\n",
      "/Users/jakubkucera/Documents/NI-ADM/.venv/lib/python3.11/site-packages/sklearn/neural_network/_multilayer_perceptron.py:686: ConvergenceWarning: Stochastic Optimizer: Maximum iterations (200) reached and the optimization hasn't converged yet.\n",
      "  warnings.warn(\n",
      "/Users/jakubkucera/Documents/NI-ADM/.venv/lib/python3.11/site-packages/sklearn/neural_network/_multilayer_perceptron.py:1099: DataConversionWarning: A column-vector y was passed when a 1d array was expected. Please change the shape of y to (n_samples, ), for example using ravel().\n",
      "  y = column_or_1d(y, warn=True)\n",
      "/Users/jakubkucera/Documents/NI-ADM/.venv/lib/python3.11/site-packages/sklearn/neural_network/_multilayer_perceptron.py:686: ConvergenceWarning: Stochastic Optimizer: Maximum iterations (200) reached and the optimization hasn't converged yet.\n",
      "  warnings.warn(\n",
      "/Users/jakubkucera/Documents/NI-ADM/.venv/lib/python3.11/site-packages/sklearn/neural_network/_multilayer_perceptron.py:1099: DataConversionWarning: A column-vector y was passed when a 1d array was expected. Please change the shape of y to (n_samples, ), for example using ravel().\n",
      "  y = column_or_1d(y, warn=True)\n",
      "/Users/jakubkucera/Documents/NI-ADM/.venv/lib/python3.11/site-packages/sklearn/neural_network/_multilayer_perceptron.py:1099: DataConversionWarning: A column-vector y was passed when a 1d array was expected. Please change the shape of y to (n_samples, ), for example using ravel().\n",
      "  y = column_or_1d(y, warn=True)\n",
      "/Users/jakubkucera/Documents/NI-ADM/.venv/lib/python3.11/site-packages/sklearn/neural_network/_multilayer_perceptron.py:686: ConvergenceWarning: Stochastic Optimizer: Maximum iterations (200) reached and the optimization hasn't converged yet.\n",
      "  warnings.warn(\n",
      "/Users/jakubkucera/Documents/NI-ADM/.venv/lib/python3.11/site-packages/sklearn/neural_network/_multilayer_perceptron.py:1099: DataConversionWarning: A column-vector y was passed when a 1d array was expected. Please change the shape of y to (n_samples, ), for example using ravel().\n",
      "  y = column_or_1d(y, warn=True)\n",
      "/Users/jakubkucera/Documents/NI-ADM/.venv/lib/python3.11/site-packages/sklearn/neural_network/_multilayer_perceptron.py:686: ConvergenceWarning: Stochastic Optimizer: Maximum iterations (200) reached and the optimization hasn't converged yet.\n",
      "  warnings.warn(\n",
      "/Users/jakubkucera/Documents/NI-ADM/.venv/lib/python3.11/site-packages/sklearn/neural_network/_multilayer_perceptron.py:1099: DataConversionWarning: A column-vector y was passed when a 1d array was expected. Please change the shape of y to (n_samples, ), for example using ravel().\n",
      "  y = column_or_1d(y, warn=True)\n",
      "/Users/jakubkucera/Documents/NI-ADM/.venv/lib/python3.11/site-packages/sklearn/neural_network/_multilayer_perceptron.py:1099: DataConversionWarning: A column-vector y was passed when a 1d array was expected. Please change the shape of y to (n_samples, ), for example using ravel().\n",
      "  y = column_or_1d(y, warn=True)\n",
      "/Users/jakubkucera/Documents/NI-ADM/.venv/lib/python3.11/site-packages/sklearn/neural_network/_multilayer_perceptron.py:1099: DataConversionWarning: A column-vector y was passed when a 1d array was expected. Please change the shape of y to (n_samples, ), for example using ravel().\n",
      "  y = column_or_1d(y, warn=True)\n",
      "/Users/jakubkucera/Documents/NI-ADM/.venv/lib/python3.11/site-packages/sklearn/neural_network/_multilayer_perceptron.py:686: ConvergenceWarning: Stochastic Optimizer: Maximum iterations (200) reached and the optimization hasn't converged yet.\n",
      "  warnings.warn(\n",
      "/Users/jakubkucera/Documents/NI-ADM/.venv/lib/python3.11/site-packages/sklearn/neural_network/_multilayer_perceptron.py:1099: DataConversionWarning: A column-vector y was passed when a 1d array was expected. Please change the shape of y to (n_samples, ), for example using ravel().\n",
      "  y = column_or_1d(y, warn=True)\n",
      "/Users/jakubkucera/Documents/NI-ADM/.venv/lib/python3.11/site-packages/sklearn/neural_network/_multilayer_perceptron.py:686: ConvergenceWarning: Stochastic Optimizer: Maximum iterations (200) reached and the optimization hasn't converged yet.\n",
      "  warnings.warn(\n",
      "/Users/jakubkucera/Documents/NI-ADM/.venv/lib/python3.11/site-packages/sklearn/neural_network/_multilayer_perceptron.py:1099: DataConversionWarning: A column-vector y was passed when a 1d array was expected. Please change the shape of y to (n_samples, ), for example using ravel().\n",
      "  y = column_or_1d(y, warn=True)\n",
      "/Users/jakubkucera/Documents/NI-ADM/.venv/lib/python3.11/site-packages/sklearn/neural_network/_multilayer_perceptron.py:686: ConvergenceWarning: Stochastic Optimizer: Maximum iterations (200) reached and the optimization hasn't converged yet.\n",
      "  warnings.warn(\n",
      "/Users/jakubkucera/Documents/NI-ADM/.venv/lib/python3.11/site-packages/sklearn/neural_network/_multilayer_perceptron.py:1099: DataConversionWarning: A column-vector y was passed when a 1d array was expected. Please change the shape of y to (n_samples, ), for example using ravel().\n",
      "  y = column_or_1d(y, warn=True)\n",
      "/Users/jakubkucera/Documents/NI-ADM/.venv/lib/python3.11/site-packages/sklearn/neural_network/_multilayer_perceptron.py:1099: DataConversionWarning: A column-vector y was passed when a 1d array was expected. Please change the shape of y to (n_samples, ), for example using ravel().\n",
      "  y = column_or_1d(y, warn=True)\n",
      "/Users/jakubkucera/Documents/NI-ADM/.venv/lib/python3.11/site-packages/sklearn/neural_network/_multilayer_perceptron.py:1099: DataConversionWarning: A column-vector y was passed when a 1d array was expected. Please change the shape of y to (n_samples, ), for example using ravel().\n",
      "  y = column_or_1d(y, warn=True)\n",
      "/Users/jakubkucera/Documents/NI-ADM/.venv/lib/python3.11/site-packages/sklearn/neural_network/_multilayer_perceptron.py:1099: DataConversionWarning: A column-vector y was passed when a 1d array was expected. Please change the shape of y to (n_samples, ), for example using ravel().\n",
      "  y = column_or_1d(y, warn=True)\n",
      "/Users/jakubkucera/Documents/NI-ADM/.venv/lib/python3.11/site-packages/sklearn/neural_network/_multilayer_perceptron.py:1099: DataConversionWarning: A column-vector y was passed when a 1d array was expected. Please change the shape of y to (n_samples, ), for example using ravel().\n",
      "  y = column_or_1d(y, warn=True)\n",
      "/Users/jakubkucera/Documents/NI-ADM/.venv/lib/python3.11/site-packages/sklearn/neural_network/_multilayer_perceptron.py:1099: DataConversionWarning: A column-vector y was passed when a 1d array was expected. Please change the shape of y to (n_samples, ), for example using ravel().\n",
      "  y = column_or_1d(y, warn=True)\n",
      "/Users/jakubkucera/Documents/NI-ADM/.venv/lib/python3.11/site-packages/sklearn/neural_network/_multilayer_perceptron.py:1099: DataConversionWarning: A column-vector y was passed when a 1d array was expected. Please change the shape of y to (n_samples, ), for example using ravel().\n",
      "  y = column_or_1d(y, warn=True)\n",
      "/Users/jakubkucera/Documents/NI-ADM/.venv/lib/python3.11/site-packages/sklearn/neural_network/_multilayer_perceptron.py:1099: DataConversionWarning: A column-vector y was passed when a 1d array was expected. Please change the shape of y to (n_samples, ), for example using ravel().\n",
      "  y = column_or_1d(y, warn=True)\n",
      "/Users/jakubkucera/Documents/NI-ADM/.venv/lib/python3.11/site-packages/sklearn/neural_network/_multilayer_perceptron.py:1099: DataConversionWarning: A column-vector y was passed when a 1d array was expected. Please change the shape of y to (n_samples, ), for example using ravel().\n",
      "  y = column_or_1d(y, warn=True)\n",
      "/Users/jakubkucera/Documents/NI-ADM/.venv/lib/python3.11/site-packages/sklearn/neural_network/_multilayer_perceptron.py:1099: DataConversionWarning: A column-vector y was passed when a 1d array was expected. Please change the shape of y to (n_samples, ), for example using ravel().\n",
      "  y = column_or_1d(y, warn=True)\n",
      "/Users/jakubkucera/Documents/NI-ADM/.venv/lib/python3.11/site-packages/sklearn/neural_network/_multilayer_perceptron.py:1099: DataConversionWarning: A column-vector y was passed when a 1d array was expected. Please change the shape of y to (n_samples, ), for example using ravel().\n",
      "  y = column_or_1d(y, warn=True)\n",
      "/Users/jakubkucera/Documents/NI-ADM/.venv/lib/python3.11/site-packages/sklearn/neural_network/_multilayer_perceptron.py:1099: DataConversionWarning: A column-vector y was passed when a 1d array was expected. Please change the shape of y to (n_samples, ), for example using ravel().\n",
      "  y = column_or_1d(y, warn=True)\n",
      "/Users/jakubkucera/Documents/NI-ADM/.venv/lib/python3.11/site-packages/sklearn/neural_network/_multilayer_perceptron.py:1099: DataConversionWarning: A column-vector y was passed when a 1d array was expected. Please change the shape of y to (n_samples, ), for example using ravel().\n",
      "  y = column_or_1d(y, warn=True)\n",
      "/Users/jakubkucera/Documents/NI-ADM/.venv/lib/python3.11/site-packages/sklearn/neural_network/_multilayer_perceptron.py:1099: DataConversionWarning: A column-vector y was passed when a 1d array was expected. Please change the shape of y to (n_samples, ), for example using ravel().\n",
      "  y = column_or_1d(y, warn=True)\n",
      "/Users/jakubkucera/Documents/NI-ADM/.venv/lib/python3.11/site-packages/sklearn/neural_network/_multilayer_perceptron.py:1099: DataConversionWarning: A column-vector y was passed when a 1d array was expected. Please change the shape of y to (n_samples, ), for example using ravel().\n",
      "  y = column_or_1d(y, warn=True)\n",
      "/Users/jakubkucera/Documents/NI-ADM/.venv/lib/python3.11/site-packages/sklearn/neural_network/_multilayer_perceptron.py:1099: DataConversionWarning: A column-vector y was passed when a 1d array was expected. Please change the shape of y to (n_samples, ), for example using ravel().\n",
      "  y = column_or_1d(y, warn=True)\n",
      "/Users/jakubkucera/Documents/NI-ADM/.venv/lib/python3.11/site-packages/sklearn/neural_network/_multilayer_perceptron.py:686: ConvergenceWarning: Stochastic Optimizer: Maximum iterations (200) reached and the optimization hasn't converged yet.\n",
      "  warnings.warn(\n",
      "/Users/jakubkucera/Documents/NI-ADM/.venv/lib/python3.11/site-packages/sklearn/neural_network/_multilayer_perceptron.py:1099: DataConversionWarning: A column-vector y was passed when a 1d array was expected. Please change the shape of y to (n_samples, ), for example using ravel().\n",
      "  y = column_or_1d(y, warn=True)\n",
      "/Users/jakubkucera/Documents/NI-ADM/.venv/lib/python3.11/site-packages/sklearn/neural_network/_multilayer_perceptron.py:686: ConvergenceWarning: Stochastic Optimizer: Maximum iterations (200) reached and the optimization hasn't converged yet.\n",
      "  warnings.warn(\n",
      "/Users/jakubkucera/Documents/NI-ADM/.venv/lib/python3.11/site-packages/sklearn/neural_network/_multilayer_perceptron.py:1099: DataConversionWarning: A column-vector y was passed when a 1d array was expected. Please change the shape of y to (n_samples, ), for example using ravel().\n",
      "  y = column_or_1d(y, warn=True)\n",
      "/Users/jakubkucera/Documents/NI-ADM/.venv/lib/python3.11/site-packages/sklearn/neural_network/_multilayer_perceptron.py:686: ConvergenceWarning: Stochastic Optimizer: Maximum iterations (200) reached and the optimization hasn't converged yet.\n",
      "  warnings.warn(\n",
      "/Users/jakubkucera/Documents/NI-ADM/.venv/lib/python3.11/site-packages/sklearn/neural_network/_multilayer_perceptron.py:1099: DataConversionWarning: A column-vector y was passed when a 1d array was expected. Please change the shape of y to (n_samples, ), for example using ravel().\n",
      "  y = column_or_1d(y, warn=True)\n",
      "/Users/jakubkucera/Documents/NI-ADM/.venv/lib/python3.11/site-packages/sklearn/neural_network/_multilayer_perceptron.py:1099: DataConversionWarning: A column-vector y was passed when a 1d array was expected. Please change the shape of y to (n_samples, ), for example using ravel().\n",
      "  y = column_or_1d(y, warn=True)\n",
      "/Users/jakubkucera/Documents/NI-ADM/.venv/lib/python3.11/site-packages/sklearn/neural_network/_multilayer_perceptron.py:686: ConvergenceWarning: Stochastic Optimizer: Maximum iterations (200) reached and the optimization hasn't converged yet.\n",
      "  warnings.warn(\n",
      "/Users/jakubkucera/Documents/NI-ADM/.venv/lib/python3.11/site-packages/sklearn/neural_network/_multilayer_perceptron.py:1099: DataConversionWarning: A column-vector y was passed when a 1d array was expected. Please change the shape of y to (n_samples, ), for example using ravel().\n",
      "  y = column_or_1d(y, warn=True)\n",
      "/Users/jakubkucera/Documents/NI-ADM/.venv/lib/python3.11/site-packages/sklearn/neural_network/_multilayer_perceptron.py:686: ConvergenceWarning: Stochastic Optimizer: Maximum iterations (200) reached and the optimization hasn't converged yet.\n",
      "  warnings.warn(\n",
      "/Users/jakubkucera/Documents/NI-ADM/.venv/lib/python3.11/site-packages/sklearn/neural_network/_multilayer_perceptron.py:1099: DataConversionWarning: A column-vector y was passed when a 1d array was expected. Please change the shape of y to (n_samples, ), for example using ravel().\n",
      "  y = column_or_1d(y, warn=True)\n",
      "/Users/jakubkucera/Documents/NI-ADM/.venv/lib/python3.11/site-packages/sklearn/neural_network/_multilayer_perceptron.py:1099: DataConversionWarning: A column-vector y was passed when a 1d array was expected. Please change the shape of y to (n_samples, ), for example using ravel().\n",
      "  y = column_or_1d(y, warn=True)\n",
      "/Users/jakubkucera/Documents/NI-ADM/.venv/lib/python3.11/site-packages/sklearn/neural_network/_multilayer_perceptron.py:1099: DataConversionWarning: A column-vector y was passed when a 1d array was expected. Please change the shape of y to (n_samples, ), for example using ravel().\n",
      "  y = column_or_1d(y, warn=True)\n",
      "/Users/jakubkucera/Documents/NI-ADM/.venv/lib/python3.11/site-packages/sklearn/neural_network/_multilayer_perceptron.py:1099: DataConversionWarning: A column-vector y was passed when a 1d array was expected. Please change the shape of y to (n_samples, ), for example using ravel().\n",
      "  y = column_or_1d(y, warn=True)\n",
      "/Users/jakubkucera/Documents/NI-ADM/.venv/lib/python3.11/site-packages/sklearn/neural_network/_multilayer_perceptron.py:1099: DataConversionWarning: A column-vector y was passed when a 1d array was expected. Please change the shape of y to (n_samples, ), for example using ravel().\n",
      "  y = column_or_1d(y, warn=True)\n",
      "/Users/jakubkucera/Documents/NI-ADM/.venv/lib/python3.11/site-packages/sklearn/neural_network/_multilayer_perceptron.py:1099: DataConversionWarning: A column-vector y was passed when a 1d array was expected. Please change the shape of y to (n_samples, ), for example using ravel().\n",
      "  y = column_or_1d(y, warn=True)\n",
      "/Users/jakubkucera/Documents/NI-ADM/.venv/lib/python3.11/site-packages/sklearn/neural_network/_multilayer_perceptron.py:1099: DataConversionWarning: A column-vector y was passed when a 1d array was expected. Please change the shape of y to (n_samples, ), for example using ravel().\n",
      "  y = column_or_1d(y, warn=True)\n",
      "/Users/jakubkucera/Documents/NI-ADM/.venv/lib/python3.11/site-packages/sklearn/neural_network/_multilayer_perceptron.py:1099: DataConversionWarning: A column-vector y was passed when a 1d array was expected. Please change the shape of y to (n_samples, ), for example using ravel().\n",
      "  y = column_or_1d(y, warn=True)\n",
      "/Users/jakubkucera/Documents/NI-ADM/.venv/lib/python3.11/site-packages/sklearn/neural_network/_multilayer_perceptron.py:1099: DataConversionWarning: A column-vector y was passed when a 1d array was expected. Please change the shape of y to (n_samples, ), for example using ravel().\n",
      "  y = column_or_1d(y, warn=True)\n",
      "/Users/jakubkucera/Documents/NI-ADM/.venv/lib/python3.11/site-packages/sklearn/neural_network/_multilayer_perceptron.py:1099: DataConversionWarning: A column-vector y was passed when a 1d array was expected. Please change the shape of y to (n_samples, ), for example using ravel().\n",
      "  y = column_or_1d(y, warn=True)\n",
      "/Users/jakubkucera/Documents/NI-ADM/.venv/lib/python3.11/site-packages/sklearn/neural_network/_multilayer_perceptron.py:1099: DataConversionWarning: A column-vector y was passed when a 1d array was expected. Please change the shape of y to (n_samples, ), for example using ravel().\n",
      "  y = column_or_1d(y, warn=True)\n",
      "/Users/jakubkucera/Documents/NI-ADM/.venv/lib/python3.11/site-packages/sklearn/neural_network/_multilayer_perceptron.py:1099: DataConversionWarning: A column-vector y was passed when a 1d array was expected. Please change the shape of y to (n_samples, ), for example using ravel().\n",
      "  y = column_or_1d(y, warn=True)\n",
      "/Users/jakubkucera/Documents/NI-ADM/.venv/lib/python3.11/site-packages/sklearn/neural_network/_multilayer_perceptron.py:686: ConvergenceWarning: Stochastic Optimizer: Maximum iterations (200) reached and the optimization hasn't converged yet.\n",
      "  warnings.warn(\n",
      "/Users/jakubkucera/Documents/NI-ADM/.venv/lib/python3.11/site-packages/sklearn/neural_network/_multilayer_perceptron.py:1099: DataConversionWarning: A column-vector y was passed when a 1d array was expected. Please change the shape of y to (n_samples, ), for example using ravel().\n",
      "  y = column_or_1d(y, warn=True)\n",
      "/Users/jakubkucera/Documents/NI-ADM/.venv/lib/python3.11/site-packages/sklearn/neural_network/_multilayer_perceptron.py:1099: DataConversionWarning: A column-vector y was passed when a 1d array was expected. Please change the shape of y to (n_samples, ), for example using ravel().\n",
      "  y = column_or_1d(y, warn=True)\n",
      "/Users/jakubkucera/Documents/NI-ADM/.venv/lib/python3.11/site-packages/sklearn/neural_network/_multilayer_perceptron.py:1099: DataConversionWarning: A column-vector y was passed when a 1d array was expected. Please change the shape of y to (n_samples, ), for example using ravel().\n",
      "  y = column_or_1d(y, warn=True)\n",
      "/Users/jakubkucera/Documents/NI-ADM/.venv/lib/python3.11/site-packages/sklearn/neural_network/_multilayer_perceptron.py:686: ConvergenceWarning: Stochastic Optimizer: Maximum iterations (200) reached and the optimization hasn't converged yet.\n",
      "  warnings.warn(\n",
      "/Users/jakubkucera/Documents/NI-ADM/.venv/lib/python3.11/site-packages/sklearn/neural_network/_multilayer_perceptron.py:1099: DataConversionWarning: A column-vector y was passed when a 1d array was expected. Please change the shape of y to (n_samples, ), for example using ravel().\n",
      "  y = column_or_1d(y, warn=True)\n",
      "/Users/jakubkucera/Documents/NI-ADM/.venv/lib/python3.11/site-packages/sklearn/neural_network/_multilayer_perceptron.py:1099: DataConversionWarning: A column-vector y was passed when a 1d array was expected. Please change the shape of y to (n_samples, ), for example using ravel().\n",
      "  y = column_or_1d(y, warn=True)\n",
      "/Users/jakubkucera/Documents/NI-ADM/.venv/lib/python3.11/site-packages/sklearn/neural_network/_multilayer_perceptron.py:1099: DataConversionWarning: A column-vector y was passed when a 1d array was expected. Please change the shape of y to (n_samples, ), for example using ravel().\n",
      "  y = column_or_1d(y, warn=True)\n",
      "/Users/jakubkucera/Documents/NI-ADM/.venv/lib/python3.11/site-packages/sklearn/neural_network/_multilayer_perceptron.py:1099: DataConversionWarning: A column-vector y was passed when a 1d array was expected. Please change the shape of y to (n_samples, ), for example using ravel().\n",
      "  y = column_or_1d(y, warn=True)\n",
      "/Users/jakubkucera/Documents/NI-ADM/.venv/lib/python3.11/site-packages/sklearn/neural_network/_multilayer_perceptron.py:1099: DataConversionWarning: A column-vector y was passed when a 1d array was expected. Please change the shape of y to (n_samples, ), for example using ravel().\n",
      "  y = column_or_1d(y, warn=True)\n",
      "/Users/jakubkucera/Documents/NI-ADM/.venv/lib/python3.11/site-packages/sklearn/neural_network/_multilayer_perceptron.py:1099: DataConversionWarning: A column-vector y was passed when a 1d array was expected. Please change the shape of y to (n_samples, ), for example using ravel().\n",
      "  y = column_or_1d(y, warn=True)\n",
      "/Users/jakubkucera/Documents/NI-ADM/.venv/lib/python3.11/site-packages/sklearn/neural_network/_multilayer_perceptron.py:1099: DataConversionWarning: A column-vector y was passed when a 1d array was expected. Please change the shape of y to (n_samples, ), for example using ravel().\n",
      "  y = column_or_1d(y, warn=True)\n",
      "/Users/jakubkucera/Documents/NI-ADM/.venv/lib/python3.11/site-packages/sklearn/neural_network/_multilayer_perceptron.py:1099: DataConversionWarning: A column-vector y was passed when a 1d array was expected. Please change the shape of y to (n_samples, ), for example using ravel().\n",
      "  y = column_or_1d(y, warn=True)\n",
      "/Users/jakubkucera/Documents/NI-ADM/.venv/lib/python3.11/site-packages/sklearn/neural_network/_multilayer_perceptron.py:1099: DataConversionWarning: A column-vector y was passed when a 1d array was expected. Please change the shape of y to (n_samples, ), for example using ravel().\n",
      "  y = column_or_1d(y, warn=True)\n",
      "/Users/jakubkucera/Documents/NI-ADM/.venv/lib/python3.11/site-packages/sklearn/neural_network/_multilayer_perceptron.py:1099: DataConversionWarning: A column-vector y was passed when a 1d array was expected. Please change the shape of y to (n_samples, ), for example using ravel().\n",
      "  y = column_or_1d(y, warn=True)\n",
      "/Users/jakubkucera/Documents/NI-ADM/.venv/lib/python3.11/site-packages/sklearn/neural_network/_multilayer_perceptron.py:1099: DataConversionWarning: A column-vector y was passed when a 1d array was expected. Please change the shape of y to (n_samples, ), for example using ravel().\n",
      "  y = column_or_1d(y, warn=True)\n",
      "/Users/jakubkucera/Documents/NI-ADM/.venv/lib/python3.11/site-packages/sklearn/neural_network/_multilayer_perceptron.py:1099: DataConversionWarning: A column-vector y was passed when a 1d array was expected. Please change the shape of y to (n_samples, ), for example using ravel().\n",
      "  y = column_or_1d(y, warn=True)\n",
      "/Users/jakubkucera/Documents/NI-ADM/.venv/lib/python3.11/site-packages/sklearn/neural_network/_multilayer_perceptron.py:1099: DataConversionWarning: A column-vector y was passed when a 1d array was expected. Please change the shape of y to (n_samples, ), for example using ravel().\n",
      "  y = column_or_1d(y, warn=True)\n",
      "/Users/jakubkucera/Documents/NI-ADM/.venv/lib/python3.11/site-packages/sklearn/neural_network/_multilayer_perceptron.py:1099: DataConversionWarning: A column-vector y was passed when a 1d array was expected. Please change the shape of y to (n_samples, ), for example using ravel().\n",
      "  y = column_or_1d(y, warn=True)\n",
      "/Users/jakubkucera/Documents/NI-ADM/.venv/lib/python3.11/site-packages/sklearn/neural_network/_multilayer_perceptron.py:1099: DataConversionWarning: A column-vector y was passed when a 1d array was expected. Please change the shape of y to (n_samples, ), for example using ravel().\n",
      "  y = column_or_1d(y, warn=True)\n",
      "/Users/jakubkucera/Documents/NI-ADM/.venv/lib/python3.11/site-packages/sklearn/neural_network/_multilayer_perceptron.py:686: ConvergenceWarning: Stochastic Optimizer: Maximum iterations (200) reached and the optimization hasn't converged yet.\n",
      "  warnings.warn(\n",
      "/Users/jakubkucera/Documents/NI-ADM/.venv/lib/python3.11/site-packages/sklearn/neural_network/_multilayer_perceptron.py:1099: DataConversionWarning: A column-vector y was passed when a 1d array was expected. Please change the shape of y to (n_samples, ), for example using ravel().\n",
      "  y = column_or_1d(y, warn=True)\n",
      "/Users/jakubkucera/Documents/NI-ADM/.venv/lib/python3.11/site-packages/sklearn/neural_network/_multilayer_perceptron.py:1099: DataConversionWarning: A column-vector y was passed when a 1d array was expected. Please change the shape of y to (n_samples, ), for example using ravel().\n",
      "  y = column_or_1d(y, warn=True)\n",
      "/Users/jakubkucera/Documents/NI-ADM/.venv/lib/python3.11/site-packages/sklearn/neural_network/_multilayer_perceptron.py:686: ConvergenceWarning: Stochastic Optimizer: Maximum iterations (200) reached and the optimization hasn't converged yet.\n",
      "  warnings.warn(\n",
      "/Users/jakubkucera/Documents/NI-ADM/.venv/lib/python3.11/site-packages/sklearn/neural_network/_multilayer_perceptron.py:1099: DataConversionWarning: A column-vector y was passed when a 1d array was expected. Please change the shape of y to (n_samples, ), for example using ravel().\n",
      "  y = column_or_1d(y, warn=True)\n",
      "/Users/jakubkucera/Documents/NI-ADM/.venv/lib/python3.11/site-packages/sklearn/neural_network/_multilayer_perceptron.py:1099: DataConversionWarning: A column-vector y was passed when a 1d array was expected. Please change the shape of y to (n_samples, ), for example using ravel().\n",
      "  y = column_or_1d(y, warn=True)\n",
      "/Users/jakubkucera/Documents/NI-ADM/.venv/lib/python3.11/site-packages/sklearn/neural_network/_multilayer_perceptron.py:686: ConvergenceWarning: Stochastic Optimizer: Maximum iterations (200) reached and the optimization hasn't converged yet.\n",
      "  warnings.warn(\n",
      "/Users/jakubkucera/Documents/NI-ADM/.venv/lib/python3.11/site-packages/sklearn/neural_network/_multilayer_perceptron.py:1099: DataConversionWarning: A column-vector y was passed when a 1d array was expected. Please change the shape of y to (n_samples, ), for example using ravel().\n",
      "  y = column_or_1d(y, warn=True)\n",
      "/Users/jakubkucera/Documents/NI-ADM/.venv/lib/python3.11/site-packages/sklearn/neural_network/_multilayer_perceptron.py:1099: DataConversionWarning: A column-vector y was passed when a 1d array was expected. Please change the shape of y to (n_samples, ), for example using ravel().\n",
      "  y = column_or_1d(y, warn=True)\n",
      "/Users/jakubkucera/Documents/NI-ADM/.venv/lib/python3.11/site-packages/sklearn/neural_network/_multilayer_perceptron.py:1099: DataConversionWarning: A column-vector y was passed when a 1d array was expected. Please change the shape of y to (n_samples, ), for example using ravel().\n",
      "  y = column_or_1d(y, warn=True)\n",
      "/Users/jakubkucera/Documents/NI-ADM/.venv/lib/python3.11/site-packages/sklearn/neural_network/_multilayer_perceptron.py:1099: DataConversionWarning: A column-vector y was passed when a 1d array was expected. Please change the shape of y to (n_samples, ), for example using ravel().\n",
      "  y = column_or_1d(y, warn=True)\n",
      "/Users/jakubkucera/Documents/NI-ADM/.venv/lib/python3.11/site-packages/sklearn/neural_network/_multilayer_perceptron.py:1099: DataConversionWarning: A column-vector y was passed when a 1d array was expected. Please change the shape of y to (n_samples, ), for example using ravel().\n",
      "  y = column_or_1d(y, warn=True)\n",
      "/Users/jakubkucera/Documents/NI-ADM/.venv/lib/python3.11/site-packages/sklearn/neural_network/_multilayer_perceptron.py:1099: DataConversionWarning: A column-vector y was passed when a 1d array was expected. Please change the shape of y to (n_samples, ), for example using ravel().\n",
      "  y = column_or_1d(y, warn=True)\n",
      "/Users/jakubkucera/Documents/NI-ADM/.venv/lib/python3.11/site-packages/sklearn/neural_network/_multilayer_perceptron.py:1099: DataConversionWarning: A column-vector y was passed when a 1d array was expected. Please change the shape of y to (n_samples, ), for example using ravel().\n",
      "  y = column_or_1d(y, warn=True)\n",
      "/Users/jakubkucera/Documents/NI-ADM/.venv/lib/python3.11/site-packages/sklearn/neural_network/_multilayer_perceptron.py:1099: DataConversionWarning: A column-vector y was passed when a 1d array was expected. Please change the shape of y to (n_samples, ), for example using ravel().\n",
      "  y = column_or_1d(y, warn=True)\n",
      "/Users/jakubkucera/Documents/NI-ADM/.venv/lib/python3.11/site-packages/sklearn/neural_network/_multilayer_perceptron.py:1099: DataConversionWarning: A column-vector y was passed when a 1d array was expected. Please change the shape of y to (n_samples, ), for example using ravel().\n",
      "  y = column_or_1d(y, warn=True)\n",
      "/Users/jakubkucera/Documents/NI-ADM/.venv/lib/python3.11/site-packages/sklearn/neural_network/_multilayer_perceptron.py:1099: DataConversionWarning: A column-vector y was passed when a 1d array was expected. Please change the shape of y to (n_samples, ), for example using ravel().\n",
      "  y = column_or_1d(y, warn=True)\n",
      "/Users/jakubkucera/Documents/NI-ADM/.venv/lib/python3.11/site-packages/sklearn/neural_network/_multilayer_perceptron.py:1099: DataConversionWarning: A column-vector y was passed when a 1d array was expected. Please change the shape of y to (n_samples, ), for example using ravel().\n",
      "  y = column_or_1d(y, warn=True)\n",
      "/Users/jakubkucera/Documents/NI-ADM/.venv/lib/python3.11/site-packages/sklearn/neural_network/_multilayer_perceptron.py:1099: DataConversionWarning: A column-vector y was passed when a 1d array was expected. Please change the shape of y to (n_samples, ), for example using ravel().\n",
      "  y = column_or_1d(y, warn=True)\n",
      "/Users/jakubkucera/Documents/NI-ADM/.venv/lib/python3.11/site-packages/sklearn/neural_network/_multilayer_perceptron.py:1099: DataConversionWarning: A column-vector y was passed when a 1d array was expected. Please change the shape of y to (n_samples, ), for example using ravel().\n",
      "  y = column_or_1d(y, warn=True)\n",
      "/Users/jakubkucera/Documents/NI-ADM/.venv/lib/python3.11/site-packages/sklearn/neural_network/_multilayer_perceptron.py:1099: DataConversionWarning: A column-vector y was passed when a 1d array was expected. Please change the shape of y to (n_samples, ), for example using ravel().\n",
      "  y = column_or_1d(y, warn=True)\n",
      "/Users/jakubkucera/Documents/NI-ADM/.venv/lib/python3.11/site-packages/sklearn/neural_network/_multilayer_perceptron.py:1099: DataConversionWarning: A column-vector y was passed when a 1d array was expected. Please change the shape of y to (n_samples, ), for example using ravel().\n",
      "  y = column_or_1d(y, warn=True)\n",
      "/Users/jakubkucera/Documents/NI-ADM/.venv/lib/python3.11/site-packages/sklearn/neural_network/_multilayer_perceptron.py:1099: DataConversionWarning: A column-vector y was passed when a 1d array was expected. Please change the shape of y to (n_samples, ), for example using ravel().\n",
      "  y = column_or_1d(y, warn=True)\n",
      "/Users/jakubkucera/Documents/NI-ADM/.venv/lib/python3.11/site-packages/sklearn/neural_network/_multilayer_perceptron.py:1099: DataConversionWarning: A column-vector y was passed when a 1d array was expected. Please change the shape of y to (n_samples, ), for example using ravel().\n",
      "  y = column_or_1d(y, warn=True)\n",
      "/Users/jakubkucera/Documents/NI-ADM/.venv/lib/python3.11/site-packages/sklearn/neural_network/_multilayer_perceptron.py:1099: DataConversionWarning: A column-vector y was passed when a 1d array was expected. Please change the shape of y to (n_samples, ), for example using ravel().\n",
      "  y = column_or_1d(y, warn=True)\n",
      "/Users/jakubkucera/Documents/NI-ADM/.venv/lib/python3.11/site-packages/sklearn/neural_network/_multilayer_perceptron.py:1099: DataConversionWarning: A column-vector y was passed when a 1d array was expected. Please change the shape of y to (n_samples, ), for example using ravel().\n",
      "  y = column_or_1d(y, warn=True)\n",
      "/Users/jakubkucera/Documents/NI-ADM/.venv/lib/python3.11/site-packages/sklearn/neural_network/_multilayer_perceptron.py:1099: DataConversionWarning: A column-vector y was passed when a 1d array was expected. Please change the shape of y to (n_samples, ), for example using ravel().\n",
      "  y = column_or_1d(y, warn=True)\n",
      "/Users/jakubkucera/Documents/NI-ADM/.venv/lib/python3.11/site-packages/sklearn/neural_network/_multilayer_perceptron.py:1099: DataConversionWarning: A column-vector y was passed when a 1d array was expected. Please change the shape of y to (n_samples, ), for example using ravel().\n",
      "  y = column_or_1d(y, warn=True)\n",
      "/Users/jakubkucera/Documents/NI-ADM/.venv/lib/python3.11/site-packages/sklearn/neural_network/_multilayer_perceptron.py:1099: DataConversionWarning: A column-vector y was passed when a 1d array was expected. Please change the shape of y to (n_samples, ), for example using ravel().\n",
      "  y = column_or_1d(y, warn=True)\n",
      "/Users/jakubkucera/Documents/NI-ADM/.venv/lib/python3.11/site-packages/sklearn/neural_network/_multilayer_perceptron.py:1099: DataConversionWarning: A column-vector y was passed when a 1d array was expected. Please change the shape of y to (n_samples, ), for example using ravel().\n",
      "  y = column_or_1d(y, warn=True)\n",
      "/Users/jakubkucera/Documents/NI-ADM/.venv/lib/python3.11/site-packages/sklearn/neural_network/_multilayer_perceptron.py:1099: DataConversionWarning: A column-vector y was passed when a 1d array was expected. Please change the shape of y to (n_samples, ), for example using ravel().\n",
      "  y = column_or_1d(y, warn=True)\n",
      "/Users/jakubkucera/Documents/NI-ADM/.venv/lib/python3.11/site-packages/sklearn/neural_network/_multilayer_perceptron.py:1099: DataConversionWarning: A column-vector y was passed when a 1d array was expected. Please change the shape of y to (n_samples, ), for example using ravel().\n",
      "  y = column_or_1d(y, warn=True)\n",
      "/Users/jakubkucera/Documents/NI-ADM/.venv/lib/python3.11/site-packages/sklearn/neural_network/_multilayer_perceptron.py:1099: DataConversionWarning: A column-vector y was passed when a 1d array was expected. Please change the shape of y to (n_samples, ), for example using ravel().\n",
      "  y = column_or_1d(y, warn=True)\n",
      "/Users/jakubkucera/Documents/NI-ADM/.venv/lib/python3.11/site-packages/sklearn/neural_network/_multilayer_perceptron.py:1099: DataConversionWarning: A column-vector y was passed when a 1d array was expected. Please change the shape of y to (n_samples, ), for example using ravel().\n",
      "  y = column_or_1d(y, warn=True)\n",
      "/Users/jakubkucera/Documents/NI-ADM/.venv/lib/python3.11/site-packages/sklearn/neural_network/_multilayer_perceptron.py:1099: DataConversionWarning: A column-vector y was passed when a 1d array was expected. Please change the shape of y to (n_samples, ), for example using ravel().\n",
      "  y = column_or_1d(y, warn=True)\n",
      "/Users/jakubkucera/Documents/NI-ADM/.venv/lib/python3.11/site-packages/sklearn/neural_network/_multilayer_perceptron.py:1099: DataConversionWarning: A column-vector y was passed when a 1d array was expected. Please change the shape of y to (n_samples, ), for example using ravel().\n",
      "  y = column_or_1d(y, warn=True)\n",
      "/Users/jakubkucera/Documents/NI-ADM/.venv/lib/python3.11/site-packages/sklearn/neural_network/_multilayer_perceptron.py:1099: DataConversionWarning: A column-vector y was passed when a 1d array was expected. Please change the shape of y to (n_samples, ), for example using ravel().\n",
      "  y = column_or_1d(y, warn=True)\n",
      "/Users/jakubkucera/Documents/NI-ADM/.venv/lib/python3.11/site-packages/sklearn/neural_network/_multilayer_perceptron.py:1099: DataConversionWarning: A column-vector y was passed when a 1d array was expected. Please change the shape of y to (n_samples, ), for example using ravel().\n",
      "  y = column_or_1d(y, warn=True)\n",
      "/Users/jakubkucera/Documents/NI-ADM/.venv/lib/python3.11/site-packages/sklearn/neural_network/_multilayer_perceptron.py:1099: DataConversionWarning: A column-vector y was passed when a 1d array was expected. Please change the shape of y to (n_samples, ), for example using ravel().\n",
      "  y = column_or_1d(y, warn=True)\n",
      "/Users/jakubkucera/Documents/NI-ADM/.venv/lib/python3.11/site-packages/sklearn/neural_network/_multilayer_perceptron.py:1099: DataConversionWarning: A column-vector y was passed when a 1d array was expected. Please change the shape of y to (n_samples, ), for example using ravel().\n",
      "  y = column_or_1d(y, warn=True)\n",
      "/Users/jakubkucera/Documents/NI-ADM/.venv/lib/python3.11/site-packages/sklearn/neural_network/_multilayer_perceptron.py:1099: DataConversionWarning: A column-vector y was passed when a 1d array was expected. Please change the shape of y to (n_samples, ), for example using ravel().\n",
      "  y = column_or_1d(y, warn=True)\n",
      "/Users/jakubkucera/Documents/NI-ADM/.venv/lib/python3.11/site-packages/sklearn/neural_network/_multilayer_perceptron.py:1099: DataConversionWarning: A column-vector y was passed when a 1d array was expected. Please change the shape of y to (n_samples, ), for example using ravel().\n",
      "  y = column_or_1d(y, warn=True)\n",
      "/Users/jakubkucera/Documents/NI-ADM/.venv/lib/python3.11/site-packages/sklearn/neural_network/_multilayer_perceptron.py:1099: DataConversionWarning: A column-vector y was passed when a 1d array was expected. Please change the shape of y to (n_samples, ), for example using ravel().\n",
      "  y = column_or_1d(y, warn=True)\n",
      "/Users/jakubkucera/Documents/NI-ADM/.venv/lib/python3.11/site-packages/sklearn/neural_network/_multilayer_perceptron.py:1099: DataConversionWarning: A column-vector y was passed when a 1d array was expected. Please change the shape of y to (n_samples, ), for example using ravel().\n",
      "  y = column_or_1d(y, warn=True)\n",
      "/Users/jakubkucera/Documents/NI-ADM/.venv/lib/python3.11/site-packages/sklearn/neural_network/_multilayer_perceptron.py:1099: DataConversionWarning: A column-vector y was passed when a 1d array was expected. Please change the shape of y to (n_samples, ), for example using ravel().\n",
      "  y = column_or_1d(y, warn=True)\n",
      "/Users/jakubkucera/Documents/NI-ADM/.venv/lib/python3.11/site-packages/sklearn/neural_network/_multilayer_perceptron.py:1099: DataConversionWarning: A column-vector y was passed when a 1d array was expected. Please change the shape of y to (n_samples, ), for example using ravel().\n",
      "  y = column_or_1d(y, warn=True)\n",
      "/Users/jakubkucera/Documents/NI-ADM/.venv/lib/python3.11/site-packages/sklearn/neural_network/_multilayer_perceptron.py:1099: DataConversionWarning: A column-vector y was passed when a 1d array was expected. Please change the shape of y to (n_samples, ), for example using ravel().\n",
      "  y = column_or_1d(y, warn=True)\n",
      "/Users/jakubkucera/Documents/NI-ADM/.venv/lib/python3.11/site-packages/sklearn/neural_network/_multilayer_perceptron.py:1099: DataConversionWarning: A column-vector y was passed when a 1d array was expected. Please change the shape of y to (n_samples, ), for example using ravel().\n",
      "  y = column_or_1d(y, warn=True)\n",
      "/Users/jakubkucera/Documents/NI-ADM/.venv/lib/python3.11/site-packages/sklearn/neural_network/_multilayer_perceptron.py:1099: DataConversionWarning: A column-vector y was passed when a 1d array was expected. Please change the shape of y to (n_samples, ), for example using ravel().\n",
      "  y = column_or_1d(y, warn=True)\n",
      "/Users/jakubkucera/Documents/NI-ADM/.venv/lib/python3.11/site-packages/sklearn/neural_network/_multilayer_perceptron.py:1099: DataConversionWarning: A column-vector y was passed when a 1d array was expected. Please change the shape of y to (n_samples, ), for example using ravel().\n",
      "  y = column_or_1d(y, warn=True)\n",
      "/Users/jakubkucera/Documents/NI-ADM/.venv/lib/python3.11/site-packages/sklearn/neural_network/_multilayer_perceptron.py:1099: DataConversionWarning: A column-vector y was passed when a 1d array was expected. Please change the shape of y to (n_samples, ), for example using ravel().\n",
      "  y = column_or_1d(y, warn=True)\n",
      "/Users/jakubkucera/Documents/NI-ADM/.venv/lib/python3.11/site-packages/sklearn/neural_network/_multilayer_perceptron.py:1099: DataConversionWarning: A column-vector y was passed when a 1d array was expected. Please change the shape of y to (n_samples, ), for example using ravel().\n",
      "  y = column_or_1d(y, warn=True)\n",
      "/Users/jakubkucera/Documents/NI-ADM/.venv/lib/python3.11/site-packages/sklearn/neural_network/_multilayer_perceptron.py:1099: DataConversionWarning: A column-vector y was passed when a 1d array was expected. Please change the shape of y to (n_samples, ), for example using ravel().\n",
      "  y = column_or_1d(y, warn=True)\n",
      "/Users/jakubkucera/Documents/NI-ADM/.venv/lib/python3.11/site-packages/sklearn/neural_network/_multilayer_perceptron.py:1099: DataConversionWarning: A column-vector y was passed when a 1d array was expected. Please change the shape of y to (n_samples, ), for example using ravel().\n",
      "  y = column_or_1d(y, warn=True)\n",
      "/Users/jakubkucera/Documents/NI-ADM/.venv/lib/python3.11/site-packages/sklearn/neural_network/_multilayer_perceptron.py:1099: DataConversionWarning: A column-vector y was passed when a 1d array was expected. Please change the shape of y to (n_samples, ), for example using ravel().\n",
      "  y = column_or_1d(y, warn=True)\n",
      "/Users/jakubkucera/Documents/NI-ADM/.venv/lib/python3.11/site-packages/sklearn/neural_network/_multilayer_perceptron.py:1099: DataConversionWarning: A column-vector y was passed when a 1d array was expected. Please change the shape of y to (n_samples, ), for example using ravel().\n",
      "  y = column_or_1d(y, warn=True)\n",
      "/Users/jakubkucera/Documents/NI-ADM/.venv/lib/python3.11/site-packages/sklearn/neural_network/_multilayer_perceptron.py:1099: DataConversionWarning: A column-vector y was passed when a 1d array was expected. Please change the shape of y to (n_samples, ), for example using ravel().\n",
      "  y = column_or_1d(y, warn=True)\n",
      "/Users/jakubkucera/Documents/NI-ADM/.venv/lib/python3.11/site-packages/sklearn/neural_network/_multilayer_perceptron.py:1099: DataConversionWarning: A column-vector y was passed when a 1d array was expected. Please change the shape of y to (n_samples, ), for example using ravel().\n",
      "  y = column_or_1d(y, warn=True)\n",
      "/Users/jakubkucera/Documents/NI-ADM/.venv/lib/python3.11/site-packages/sklearn/neural_network/_multilayer_perceptron.py:1099: DataConversionWarning: A column-vector y was passed when a 1d array was expected. Please change the shape of y to (n_samples, ), for example using ravel().\n",
      "  y = column_or_1d(y, warn=True)\n",
      "/Users/jakubkucera/Documents/NI-ADM/.venv/lib/python3.11/site-packages/sklearn/neural_network/_multilayer_perceptron.py:686: ConvergenceWarning: Stochastic Optimizer: Maximum iterations (200) reached and the optimization hasn't converged yet.\n",
      "  warnings.warn(\n",
      "/Users/jakubkucera/Documents/NI-ADM/.venv/lib/python3.11/site-packages/sklearn/neural_network/_multilayer_perceptron.py:1099: DataConversionWarning: A column-vector y was passed when a 1d array was expected. Please change the shape of y to (n_samples, ), for example using ravel().\n",
      "  y = column_or_1d(y, warn=True)\n",
      "/Users/jakubkucera/Documents/NI-ADM/.venv/lib/python3.11/site-packages/sklearn/neural_network/_multilayer_perceptron.py:686: ConvergenceWarning: Stochastic Optimizer: Maximum iterations (200) reached and the optimization hasn't converged yet.\n",
      "  warnings.warn(\n",
      "/Users/jakubkucera/Documents/NI-ADM/.venv/lib/python3.11/site-packages/sklearn/neural_network/_multilayer_perceptron.py:1099: DataConversionWarning: A column-vector y was passed when a 1d array was expected. Please change the shape of y to (n_samples, ), for example using ravel().\n",
      "  y = column_or_1d(y, warn=True)\n",
      "/Users/jakubkucera/Documents/NI-ADM/.venv/lib/python3.11/site-packages/sklearn/neural_network/_multilayer_perceptron.py:1099: DataConversionWarning: A column-vector y was passed when a 1d array was expected. Please change the shape of y to (n_samples, ), for example using ravel().\n",
      "  y = column_or_1d(y, warn=True)\n",
      "/Users/jakubkucera/Documents/NI-ADM/.venv/lib/python3.11/site-packages/sklearn/neural_network/_multilayer_perceptron.py:1099: DataConversionWarning: A column-vector y was passed when a 1d array was expected. Please change the shape of y to (n_samples, ), for example using ravel().\n",
      "  y = column_or_1d(y, warn=True)\n",
      "/Users/jakubkucera/Documents/NI-ADM/.venv/lib/python3.11/site-packages/sklearn/neural_network/_multilayer_perceptron.py:686: ConvergenceWarning: Stochastic Optimizer: Maximum iterations (200) reached and the optimization hasn't converged yet.\n",
      "  warnings.warn(\n",
      "/Users/jakubkucera/Documents/NI-ADM/.venv/lib/python3.11/site-packages/sklearn/neural_network/_multilayer_perceptron.py:1099: DataConversionWarning: A column-vector y was passed when a 1d array was expected. Please change the shape of y to (n_samples, ), for example using ravel().\n",
      "  y = column_or_1d(y, warn=True)\n",
      "/Users/jakubkucera/Documents/NI-ADM/.venv/lib/python3.11/site-packages/sklearn/neural_network/_multilayer_perceptron.py:686: ConvergenceWarning: Stochastic Optimizer: Maximum iterations (200) reached and the optimization hasn't converged yet.\n",
      "  warnings.warn(\n",
      "/Users/jakubkucera/Documents/NI-ADM/.venv/lib/python3.11/site-packages/sklearn/neural_network/_multilayer_perceptron.py:1099: DataConversionWarning: A column-vector y was passed when a 1d array was expected. Please change the shape of y to (n_samples, ), for example using ravel().\n",
      "  y = column_or_1d(y, warn=True)\n",
      "/Users/jakubkucera/Documents/NI-ADM/.venv/lib/python3.11/site-packages/sklearn/neural_network/_multilayer_perceptron.py:686: ConvergenceWarning: Stochastic Optimizer: Maximum iterations (200) reached and the optimization hasn't converged yet.\n",
      "  warnings.warn(\n",
      "/Users/jakubkucera/Documents/NI-ADM/.venv/lib/python3.11/site-packages/sklearn/neural_network/_multilayer_perceptron.py:1099: DataConversionWarning: A column-vector y was passed when a 1d array was expected. Please change the shape of y to (n_samples, ), for example using ravel().\n",
      "  y = column_or_1d(y, warn=True)\n",
      "/Users/jakubkucera/Documents/NI-ADM/.venv/lib/python3.11/site-packages/sklearn/neural_network/_multilayer_perceptron.py:1099: DataConversionWarning: A column-vector y was passed when a 1d array was expected. Please change the shape of y to (n_samples, ), for example using ravel().\n",
      "  y = column_or_1d(y, warn=True)\n",
      "/Users/jakubkucera/Documents/NI-ADM/.venv/lib/python3.11/site-packages/sklearn/neural_network/_multilayer_perceptron.py:1099: DataConversionWarning: A column-vector y was passed when a 1d array was expected. Please change the shape of y to (n_samples, ), for example using ravel().\n",
      "  y = column_or_1d(y, warn=True)\n",
      "/Users/jakubkucera/Documents/NI-ADM/.venv/lib/python3.11/site-packages/sklearn/neural_network/_multilayer_perceptron.py:1099: DataConversionWarning: A column-vector y was passed when a 1d array was expected. Please change the shape of y to (n_samples, ), for example using ravel().\n",
      "  y = column_or_1d(y, warn=True)\n",
      "/Users/jakubkucera/Documents/NI-ADM/.venv/lib/python3.11/site-packages/sklearn/neural_network/_multilayer_perceptron.py:1099: DataConversionWarning: A column-vector y was passed when a 1d array was expected. Please change the shape of y to (n_samples, ), for example using ravel().\n",
      "  y = column_or_1d(y, warn=True)\n",
      "/Users/jakubkucera/Documents/NI-ADM/.venv/lib/python3.11/site-packages/sklearn/neural_network/_multilayer_perceptron.py:1099: DataConversionWarning: A column-vector y was passed when a 1d array was expected. Please change the shape of y to (n_samples, ), for example using ravel().\n",
      "  y = column_or_1d(y, warn=True)\n"
     ]
    }
   ],
   "source": [
    "from sklearn.model_selection import GridSearchCV\n",
    "\n",
    "parameters = {\n",
    "        'hidden_layer_sizes': [(25, ), (50, ), (100, ), (200,), (25, 25), (50, 50), (100, 100), (200, 200), (200, 100, 200), (150,100,50), (120,80,40), (100,50,30), (1024, 512, 256, 128, 64, 32, 16, 8, 4)],\n",
    "    # 'max_iter': [50, 100, 150],\n",
    "    # 'activation': ['tanh', 'relu'],\n",
    "    # 'solver': ['sgd', 'adam'],\n",
    "        'alpha': [0.0001, 0.05],\n",
    "    # 'learning_rate': ['constant','adaptive'],\n",
    "        'learning_rate_init': [0.0001, 0.001, 0.01]\n",
    "    }\n",
    "mlp_cls = MLPClassifier(random_state=42)\n",
    "clf = GridSearchCV(mlp_cls, parameters, cv=5, scoring='f1_macro', verbose=10, n_jobs=-1)\n",
    "clf.fit(X_all, y_all)\n",
    "clf.best_estimator_"
   ],
   "metadata": {
    "collapsed": false,
    "is_executing": true,
    "ExecuteTime": {
     "start_time": "2023-05-30T21:04:38.901177Z"
    }
   },
   "id": "67cb89a73427c1b3"
  },
  {
   "cell_type": "code",
   "execution_count": 27,
   "outputs": [
    {
     "data": {
      "text/plain": "{'mean_fit_time': array([ 16.83892689,  16.23074117,   8.06296577,  27.54445434,\n         22.48970313,  11.94750252,  47.9018826 ,  32.90658922,\n         20.07375922,  97.30565829,  50.30152707,  45.91416855,\n         18.23751364,  12.89045534,   6.68015013,  26.36605816,\n         13.62048998,   7.69980965,  45.44171972,  24.59939098,\n         18.01144128, 103.99891896,  35.02510934,  29.31138444,\n         79.96896772,  44.48615446,  35.65550523,  73.67009683,\n         30.1761694 ,  24.81309838,  50.87365432,  24.84316773,\n         19.82358465,  48.02852688,  19.41422496,  22.9686904 ,\n        294.39034476, 432.60770202, 272.23794637,  19.10884881,\n         15.87610016,   4.07895942,  29.30881062,  21.84308548,\n          6.15121088,  45.58153901,  11.00709801,  11.77393923,\n         94.72875099,  41.07205601,  33.33827238,  20.22527771,\n         14.32644286,   5.60557685,  30.07730422,  14.07607579,\n          9.73937798,  48.97158418,  23.10154099,  13.97003903,\n        107.78308539,  43.87652044,  30.08947496,  97.37045207,\n         40.47037191,  34.23554606,  76.23171744,  38.63984461,\n         18.46893201,  55.01520724,  24.50500498,  17.24366522,\n         45.7800808 ,  21.23194737,  15.3784122 , 210.43214402,\n        415.3020339 , 337.12043781]),\n 'std_fit_time': array([1.84185213e+00, 9.47051785e-01, 3.14510915e+00, 1.28152595e-01,\n        8.80830659e-01, 3.61501833e+00, 3.66839025e-01, 4.02488206e+00,\n        8.07293262e+00, 1.47541945e-01, 2.53036397e+01, 1.40553052e+01,\n        2.30765015e-01, 7.85066340e-01, 1.51356891e+00, 1.23202837e-01,\n        2.71330301e+00, 2.91421686e+00, 7.08707994e-01, 1.53938274e+00,\n        3.92256883e+00, 1.36303622e+00, 1.56394636e+01, 3.21632179e+00,\n        6.57787361e+00, 3.23636522e+00, 1.93685966e+01, 6.94095682e+00,\n        1.14605142e+01, 4.18137890e+00, 2.05194097e+00, 3.61365356e+00,\n        4.97229078e+00, 1.18934619e-01, 8.04080313e+00, 5.32221123e+00,\n        1.02064803e+02, 1.46836050e+02, 1.08885635e+02, 1.07234996e+00,\n        6.72636253e-01, 1.48755746e+00, 4.90285076e-01, 5.91719602e+00,\n        2.35741139e+00, 1.99002750e-01, 5.70702346e+00, 4.00000267e+00,\n        3.90961577e-01, 1.98536917e+01, 9.23005037e+00, 4.72959424e-01,\n        2.22595559e+00, 8.95881886e-01, 3.60586698e-01, 4.23562654e+00,\n        1.98614898e+00, 1.10109675e+00, 1.00677176e+01, 1.95232640e+00,\n        2.79853862e-01, 1.13755648e+01, 3.12727358e+00, 7.46903602e+00,\n        9.43492619e+00, 1.19970436e+01, 2.74332740e-01, 1.01593100e+01,\n        1.33950490e+00, 6.57243252e+00, 9.98675303e+00, 3.62932633e+00,\n        9.04841798e-02, 1.03425243e+01, 3.67913886e+00, 2.87277773e+01,\n        1.96064618e+02, 1.32205584e+02]),\n 'mean_score_time': array([0.01791768, 0.01184697, 0.01582503, 0.0193872 , 0.0160368 ,\n        0.02048802, 0.02732272, 0.02928243, 0.03005486, 0.03854418,\n        0.04540334, 0.04936686, 0.0124774 , 0.01239271, 0.01600347,\n        0.01694431, 0.01402583, 0.01507435, 0.03190246, 0.02163196,\n        0.02245169, 0.05202303, 0.04103723, 0.0415844 , 0.05004544,\n        0.04472613, 0.04198732, 0.048314  , 0.04322066, 0.03336234,\n        0.02884378, 0.0276897 , 0.02990389, 0.02349653, 0.02808366,\n        0.02412438, 0.23976235, 0.21473179, 0.23218775, 0.0199842 ,\n        0.01715803, 0.01294355, 0.04379573, 0.02504249, 0.01834764,\n        0.02425375, 0.02394505, 0.02500734, 0.04108181, 0.04688206,\n        0.05314808, 0.02519798, 0.02033658, 0.02084904, 0.02534685,\n        0.04835715, 0.02656059, 0.02206812, 0.02648301, 0.02105236,\n        0.05151467, 0.04831252, 0.0509675 , 0.04244456, 0.04363952,\n        0.04854841, 0.03494406, 0.04028521, 0.03092294, 0.0246583 ,\n        0.03719497, 0.03043375, 0.02713094, 0.0266922 , 0.02600999,\n        0.24261055, 0.16989083, 0.16418486]),\n 'std_score_time': array([0.00685232, 0.00122857, 0.00457159, 0.00583295, 0.00346796,\n        0.00382404, 0.00652115, 0.00736885, 0.0072264 , 0.00609276,\n        0.00527486, 0.00731281, 0.00252995, 0.00223146, 0.01044375,\n        0.00362295, 0.00085766, 0.00353757, 0.01456841, 0.00212232,\n        0.00270937, 0.01214284, 0.00417909, 0.00743601, 0.0159932 ,\n        0.00944679, 0.00530402, 0.01116699, 0.01800102, 0.00352779,\n        0.00337584, 0.00365807, 0.00480589, 0.00379218, 0.00605093,\n        0.00597017, 0.02160537, 0.01079038, 0.02413927, 0.00518665,\n        0.00885362, 0.00262719, 0.04493031, 0.00519748, 0.00533745,\n        0.00358747, 0.00356192, 0.00583273, 0.00760125, 0.00821792,\n        0.01720281, 0.01449801, 0.01052923, 0.00853497, 0.0123525 ,\n        0.03577382, 0.00904697, 0.00415384, 0.00408453, 0.0018011 ,\n        0.00939169, 0.0088819 , 0.00813894, 0.00887851, 0.00982135,\n        0.00896374, 0.00573016, 0.00768716, 0.00369689, 0.00317715,\n        0.01104493, 0.00533858, 0.00559915, 0.00708758, 0.00805853,\n        0.03525128, 0.02381381, 0.018498  ]),\n 'param_alpha': masked_array(data=[0.0001, 0.0001, 0.0001, 0.0001, 0.0001, 0.0001, 0.0001,\n                    0.0001, 0.0001, 0.0001, 0.0001, 0.0001, 0.0001, 0.0001,\n                    0.0001, 0.0001, 0.0001, 0.0001, 0.0001, 0.0001, 0.0001,\n                    0.0001, 0.0001, 0.0001, 0.0001, 0.0001, 0.0001, 0.0001,\n                    0.0001, 0.0001, 0.0001, 0.0001, 0.0001, 0.0001, 0.0001,\n                    0.0001, 0.0001, 0.0001, 0.0001, 0.05, 0.05, 0.05, 0.05,\n                    0.05, 0.05, 0.05, 0.05, 0.05, 0.05, 0.05, 0.05, 0.05,\n                    0.05, 0.05, 0.05, 0.05, 0.05, 0.05, 0.05, 0.05, 0.05,\n                    0.05, 0.05, 0.05, 0.05, 0.05, 0.05, 0.05, 0.05, 0.05,\n                    0.05, 0.05, 0.05, 0.05, 0.05, 0.05, 0.05, 0.05],\n              mask=[False, False, False, False, False, False, False, False,\n                    False, False, False, False, False, False, False, False,\n                    False, False, False, False, False, False, False, False,\n                    False, False, False, False, False, False, False, False,\n                    False, False, False, False, False, False, False, False,\n                    False, False, False, False, False, False, False, False,\n                    False, False, False, False, False, False, False, False,\n                    False, False, False, False, False, False, False, False,\n                    False, False, False, False, False, False, False, False,\n                    False, False, False, False, False, False],\n        fill_value='?',\n             dtype=object),\n 'param_hidden_layer_sizes': masked_array(data=[(25,), (25,), (25,), (50,), (50,), (50,), (100,),\n                    (100,), (100,), (200,), (200,), (200,), (25, 25),\n                    (25, 25), (25, 25), (50, 50), (50, 50), (50, 50),\n                    (100, 100), (100, 100), (100, 100), (200, 200),\n                    (200, 200), (200, 200), (200, 100, 200),\n                    (200, 100, 200), (200, 100, 200), (150, 100, 50),\n                    (150, 100, 50), (150, 100, 50), (120, 80, 40),\n                    (120, 80, 40), (120, 80, 40), (100, 50, 30),\n                    (100, 50, 30), (100, 50, 30),\n                    (1024, 512, 256, 128, 64, 32, 16, 8, 4),\n                    (1024, 512, 256, 128, 64, 32, 16, 8, 4),\n                    (1024, 512, 256, 128, 64, 32, 16, 8, 4), (25,), (25,),\n                    (25,), (50,), (50,), (50,), (100,), (100,), (100,),\n                    (200,), (200,), (200,), (25, 25), (25, 25), (25, 25),\n                    (50, 50), (50, 50), (50, 50), (100, 100), (100, 100),\n                    (100, 100), (200, 200), (200, 200), (200, 200),\n                    (200, 100, 200), (200, 100, 200), (200, 100, 200),\n                    (150, 100, 50), (150, 100, 50), (150, 100, 50),\n                    (120, 80, 40), (120, 80, 40), (120, 80, 40),\n                    (100, 50, 30), (100, 50, 30), (100, 50, 30),\n                    (1024, 512, 256, 128, 64, 32, 16, 8, 4),\n                    (1024, 512, 256, 128, 64, 32, 16, 8, 4),\n                    (1024, 512, 256, 128, 64, 32, 16, 8, 4)],\n              mask=[False, False, False, False, False, False, False, False,\n                    False, False, False, False, False, False, False, False,\n                    False, False, False, False, False, False, False, False,\n                    False, False, False, False, False, False, False, False,\n                    False, False, False, False, False, False, False, False,\n                    False, False, False, False, False, False, False, False,\n                    False, False, False, False, False, False, False, False,\n                    False, False, False, False, False, False, False, False,\n                    False, False, False, False, False, False, False, False,\n                    False, False, False, False, False, False],\n        fill_value='?',\n             dtype=object),\n 'param_learning_rate_init': masked_array(data=[0.0001, 0.001, 0.01, 0.0001, 0.001, 0.01, 0.0001,\n                    0.001, 0.01, 0.0001, 0.001, 0.01, 0.0001, 0.001, 0.01,\n                    0.0001, 0.001, 0.01, 0.0001, 0.001, 0.01, 0.0001,\n                    0.001, 0.01, 0.0001, 0.001, 0.01, 0.0001, 0.001, 0.01,\n                    0.0001, 0.001, 0.01, 0.0001, 0.001, 0.01, 0.0001,\n                    0.001, 0.01, 0.0001, 0.001, 0.01, 0.0001, 0.001, 0.01,\n                    0.0001, 0.001, 0.01, 0.0001, 0.001, 0.01, 0.0001,\n                    0.001, 0.01, 0.0001, 0.001, 0.01, 0.0001, 0.001, 0.01,\n                    0.0001, 0.001, 0.01, 0.0001, 0.001, 0.01, 0.0001,\n                    0.001, 0.01, 0.0001, 0.001, 0.01, 0.0001, 0.001, 0.01,\n                    0.0001, 0.001, 0.01],\n              mask=[False, False, False, False, False, False, False, False,\n                    False, False, False, False, False, False, False, False,\n                    False, False, False, False, False, False, False, False,\n                    False, False, False, False, False, False, False, False,\n                    False, False, False, False, False, False, False, False,\n                    False, False, False, False, False, False, False, False,\n                    False, False, False, False, False, False, False, False,\n                    False, False, False, False, False, False, False, False,\n                    False, False, False, False, False, False, False, False,\n                    False, False, False, False, False, False],\n        fill_value='?',\n             dtype=object),\n 'params': [{'alpha': 0.0001,\n   'hidden_layer_sizes': (25,),\n   'learning_rate_init': 0.0001},\n  {'alpha': 0.0001, 'hidden_layer_sizes': (25,), 'learning_rate_init': 0.001},\n  {'alpha': 0.0001, 'hidden_layer_sizes': (25,), 'learning_rate_init': 0.01},\n  {'alpha': 0.0001, 'hidden_layer_sizes': (50,), 'learning_rate_init': 0.0001},\n  {'alpha': 0.0001, 'hidden_layer_sizes': (50,), 'learning_rate_init': 0.001},\n  {'alpha': 0.0001, 'hidden_layer_sizes': (50,), 'learning_rate_init': 0.01},\n  {'alpha': 0.0001,\n   'hidden_layer_sizes': (100,),\n   'learning_rate_init': 0.0001},\n  {'alpha': 0.0001, 'hidden_layer_sizes': (100,), 'learning_rate_init': 0.001},\n  {'alpha': 0.0001, 'hidden_layer_sizes': (100,), 'learning_rate_init': 0.01},\n  {'alpha': 0.0001,\n   'hidden_layer_sizes': (200,),\n   'learning_rate_init': 0.0001},\n  {'alpha': 0.0001, 'hidden_layer_sizes': (200,), 'learning_rate_init': 0.001},\n  {'alpha': 0.0001, 'hidden_layer_sizes': (200,), 'learning_rate_init': 0.01},\n  {'alpha': 0.0001,\n   'hidden_layer_sizes': (25, 25),\n   'learning_rate_init': 0.0001},\n  {'alpha': 0.0001,\n   'hidden_layer_sizes': (25, 25),\n   'learning_rate_init': 0.001},\n  {'alpha': 0.0001,\n   'hidden_layer_sizes': (25, 25),\n   'learning_rate_init': 0.01},\n  {'alpha': 0.0001,\n   'hidden_layer_sizes': (50, 50),\n   'learning_rate_init': 0.0001},\n  {'alpha': 0.0001,\n   'hidden_layer_sizes': (50, 50),\n   'learning_rate_init': 0.001},\n  {'alpha': 0.0001,\n   'hidden_layer_sizes': (50, 50),\n   'learning_rate_init': 0.01},\n  {'alpha': 0.0001,\n   'hidden_layer_sizes': (100, 100),\n   'learning_rate_init': 0.0001},\n  {'alpha': 0.0001,\n   'hidden_layer_sizes': (100, 100),\n   'learning_rate_init': 0.001},\n  {'alpha': 0.0001,\n   'hidden_layer_sizes': (100, 100),\n   'learning_rate_init': 0.01},\n  {'alpha': 0.0001,\n   'hidden_layer_sizes': (200, 200),\n   'learning_rate_init': 0.0001},\n  {'alpha': 0.0001,\n   'hidden_layer_sizes': (200, 200),\n   'learning_rate_init': 0.001},\n  {'alpha': 0.0001,\n   'hidden_layer_sizes': (200, 200),\n   'learning_rate_init': 0.01},\n  {'alpha': 0.0001,\n   'hidden_layer_sizes': (200, 100, 200),\n   'learning_rate_init': 0.0001},\n  {'alpha': 0.0001,\n   'hidden_layer_sizes': (200, 100, 200),\n   'learning_rate_init': 0.001},\n  {'alpha': 0.0001,\n   'hidden_layer_sizes': (200, 100, 200),\n   'learning_rate_init': 0.01},\n  {'alpha': 0.0001,\n   'hidden_layer_sizes': (150, 100, 50),\n   'learning_rate_init': 0.0001},\n  {'alpha': 0.0001,\n   'hidden_layer_sizes': (150, 100, 50),\n   'learning_rate_init': 0.001},\n  {'alpha': 0.0001,\n   'hidden_layer_sizes': (150, 100, 50),\n   'learning_rate_init': 0.01},\n  {'alpha': 0.0001,\n   'hidden_layer_sizes': (120, 80, 40),\n   'learning_rate_init': 0.0001},\n  {'alpha': 0.0001,\n   'hidden_layer_sizes': (120, 80, 40),\n   'learning_rate_init': 0.001},\n  {'alpha': 0.0001,\n   'hidden_layer_sizes': (120, 80, 40),\n   'learning_rate_init': 0.01},\n  {'alpha': 0.0001,\n   'hidden_layer_sizes': (100, 50, 30),\n   'learning_rate_init': 0.0001},\n  {'alpha': 0.0001,\n   'hidden_layer_sizes': (100, 50, 30),\n   'learning_rate_init': 0.001},\n  {'alpha': 0.0001,\n   'hidden_layer_sizes': (100, 50, 30),\n   'learning_rate_init': 0.01},\n  {'alpha': 0.0001,\n   'hidden_layer_sizes': (1024, 512, 256, 128, 64, 32, 16, 8, 4),\n   'learning_rate_init': 0.0001},\n  {'alpha': 0.0001,\n   'hidden_layer_sizes': (1024, 512, 256, 128, 64, 32, 16, 8, 4),\n   'learning_rate_init': 0.001},\n  {'alpha': 0.0001,\n   'hidden_layer_sizes': (1024, 512, 256, 128, 64, 32, 16, 8, 4),\n   'learning_rate_init': 0.01},\n  {'alpha': 0.05, 'hidden_layer_sizes': (25,), 'learning_rate_init': 0.0001},\n  {'alpha': 0.05, 'hidden_layer_sizes': (25,), 'learning_rate_init': 0.001},\n  {'alpha': 0.05, 'hidden_layer_sizes': (25,), 'learning_rate_init': 0.01},\n  {'alpha': 0.05, 'hidden_layer_sizes': (50,), 'learning_rate_init': 0.0001},\n  {'alpha': 0.05, 'hidden_layer_sizes': (50,), 'learning_rate_init': 0.001},\n  {'alpha': 0.05, 'hidden_layer_sizes': (50,), 'learning_rate_init': 0.01},\n  {'alpha': 0.05, 'hidden_layer_sizes': (100,), 'learning_rate_init': 0.0001},\n  {'alpha': 0.05, 'hidden_layer_sizes': (100,), 'learning_rate_init': 0.001},\n  {'alpha': 0.05, 'hidden_layer_sizes': (100,), 'learning_rate_init': 0.01},\n  {'alpha': 0.05, 'hidden_layer_sizes': (200,), 'learning_rate_init': 0.0001},\n  {'alpha': 0.05, 'hidden_layer_sizes': (200,), 'learning_rate_init': 0.001},\n  {'alpha': 0.05, 'hidden_layer_sizes': (200,), 'learning_rate_init': 0.01},\n  {'alpha': 0.05,\n   'hidden_layer_sizes': (25, 25),\n   'learning_rate_init': 0.0001},\n  {'alpha': 0.05, 'hidden_layer_sizes': (25, 25), 'learning_rate_init': 0.001},\n  {'alpha': 0.05, 'hidden_layer_sizes': (25, 25), 'learning_rate_init': 0.01},\n  {'alpha': 0.05,\n   'hidden_layer_sizes': (50, 50),\n   'learning_rate_init': 0.0001},\n  {'alpha': 0.05, 'hidden_layer_sizes': (50, 50), 'learning_rate_init': 0.001},\n  {'alpha': 0.05, 'hidden_layer_sizes': (50, 50), 'learning_rate_init': 0.01},\n  {'alpha': 0.05,\n   'hidden_layer_sizes': (100, 100),\n   'learning_rate_init': 0.0001},\n  {'alpha': 0.05,\n   'hidden_layer_sizes': (100, 100),\n   'learning_rate_init': 0.001},\n  {'alpha': 0.05,\n   'hidden_layer_sizes': (100, 100),\n   'learning_rate_init': 0.01},\n  {'alpha': 0.05,\n   'hidden_layer_sizes': (200, 200),\n   'learning_rate_init': 0.0001},\n  {'alpha': 0.05,\n   'hidden_layer_sizes': (200, 200),\n   'learning_rate_init': 0.001},\n  {'alpha': 0.05,\n   'hidden_layer_sizes': (200, 200),\n   'learning_rate_init': 0.01},\n  {'alpha': 0.05,\n   'hidden_layer_sizes': (200, 100, 200),\n   'learning_rate_init': 0.0001},\n  {'alpha': 0.05,\n   'hidden_layer_sizes': (200, 100, 200),\n   'learning_rate_init': 0.001},\n  {'alpha': 0.05,\n   'hidden_layer_sizes': (200, 100, 200),\n   'learning_rate_init': 0.01},\n  {'alpha': 0.05,\n   'hidden_layer_sizes': (150, 100, 50),\n   'learning_rate_init': 0.0001},\n  {'alpha': 0.05,\n   'hidden_layer_sizes': (150, 100, 50),\n   'learning_rate_init': 0.001},\n  {'alpha': 0.05,\n   'hidden_layer_sizes': (150, 100, 50),\n   'learning_rate_init': 0.01},\n  {'alpha': 0.05,\n   'hidden_layer_sizes': (120, 80, 40),\n   'learning_rate_init': 0.0001},\n  {'alpha': 0.05,\n   'hidden_layer_sizes': (120, 80, 40),\n   'learning_rate_init': 0.001},\n  {'alpha': 0.05,\n   'hidden_layer_sizes': (120, 80, 40),\n   'learning_rate_init': 0.01},\n  {'alpha': 0.05,\n   'hidden_layer_sizes': (100, 50, 30),\n   'learning_rate_init': 0.0001},\n  {'alpha': 0.05,\n   'hidden_layer_sizes': (100, 50, 30),\n   'learning_rate_init': 0.001},\n  {'alpha': 0.05,\n   'hidden_layer_sizes': (100, 50, 30),\n   'learning_rate_init': 0.01},\n  {'alpha': 0.05,\n   'hidden_layer_sizes': (1024, 512, 256, 128, 64, 32, 16, 8, 4),\n   'learning_rate_init': 0.0001},\n  {'alpha': 0.05,\n   'hidden_layer_sizes': (1024, 512, 256, 128, 64, 32, 16, 8, 4),\n   'learning_rate_init': 0.001},\n  {'alpha': 0.05,\n   'hidden_layer_sizes': (1024, 512, 256, 128, 64, 32, 16, 8, 4),\n   'learning_rate_init': 0.01}],\n 'split0_test_score': array([0.54108068, 0.58991948, 0.59977587, 0.57610198, 0.62855657,\n        0.59966394, 0.62239583, 0.63151388, 0.65557064, 0.60067578,\n        0.63348174, 0.69203889, 0.58381705, 0.62042988, 0.48612539,\n        0.65313909, 0.65557064, 0.51199149, 0.62855657, 0.69203889,\n        0.62042988, 0.66907767, 0.63223981, 0.6682903 , 0.6847638 ,\n        0.7141863 , 0.67690625, 0.65313909, 0.53833588, 0.71819312,\n        0.62165376, 0.67711964, 0.69624067, 0.6015425 , 0.52057957,\n        0.70175962, 0.6484375 , 0.48612539, 0.48612539, 0.54108068,\n        0.62620063, 0.57672148, 0.62239583, 0.61296268, 0.50339049,\n        0.61296268, 0.58058164, 0.58058164, 0.61661984, 0.57891032,\n        0.55336561, 0.58643507, 0.6931615 , 0.70959877, 0.61904762,\n        0.62440448, 0.61260331, 0.65432937, 0.48453608, 0.63703539,\n        0.66394085, 0.67946905, 0.60051932, 0.72102406, 0.69203889,\n        0.67690625, 0.65076206, 0.65611392, 0.74096098, 0.66321462,\n        0.55190693, 0.69228229, 0.61702593, 0.59261697, 0.58215861,\n        0.50396825, 0.48612539, 0.48612539]),\n 'split1_test_score': array([0.52627683, 0.56506611, 0.65514443, 0.55095282, 0.63348174,\n        0.5771098 , 0.57068838, 0.65076206, 0.70714187, 0.63548881,\n        0.64982338, 0.65076206, 0.54217609, 0.66211027, 0.48586118,\n        0.63745193, 0.60901678, 0.68603743, 0.66145833, 0.65313909,\n        0.68787833, 0.66321462, 0.67447917, 0.69749855, 0.70959877,\n        0.72023704, 0.69480404, 0.74163467, 0.66321462, 0.6484375 ,\n        0.63981097, 0.67173651, 0.74811857, 0.64918189, 0.51014292,\n        0.66953272, 0.49619959, 0.48586118, 0.68933294, 0.52627683,\n        0.57381304, 0.56119204, 0.52627683, 0.60234616, 0.53895805,\n        0.59658829, 0.57978114, 0.58415834, 0.65528718, 0.55975346,\n        0.56654457, 0.59658829, 0.48559671, 0.60221857, 0.63290043,\n        0.70714187, 0.75260417, 0.66145833, 0.64918189, 0.48373774,\n        0.62540341, 0.54680978, 0.69609062, 0.72336415, 0.72631579,\n        0.57078769, 0.70052083, 0.64725043, 0.48533196, 0.65665454,\n        0.59841997, 0.48559671, 0.65313909, 0.51808859, 0.63548881,\n        0.48586118, 0.48586118, 0.48586118]),\n 'split2_test_score': array([0.5165163 , 0.58803547, 0.53895805, 0.49910555, 0.5108025 ,\n        0.61504954, 0.575993  , 0.63753648, 0.53924128, 0.6015425 ,\n        0.48586118, 0.60839946, 0.48506694, 0.62719952, 0.48586118,\n        0.63463646, 0.57901827, 0.48586118, 0.6875    , 0.63745193,\n        0.69624067, 0.65951147, 0.6420636 , 0.72631579, 0.70959877,\n        0.75260417, 0.48586118, 0.63223981, 0.6931615 , 0.54803719,\n        0.66588707, 0.61041542, 0.70376447, 0.6516695 , 0.68831169,\n        0.68838011, 0.64763918, 0.48586118, 0.48586118, 0.53189566,\n        0.68933294, 0.48453608, 0.52994265, 0.65818977, 0.53734581,\n        0.59305099, 0.52540541, 0.53036239, 0.64616345, 0.52994265,\n        0.55455566, 0.48506694, 0.6560493 , 0.50396825, 0.63463646,\n        0.60621106, 0.66862609, 0.67447917, 0.48586118, 0.7141863 ,\n        0.65683161, 0.53792893, 0.48586118, 0.73903967, 0.48586118,\n        0.60591839, 0.61722919, 0.51890034, 0.50396825, 0.63981097,\n        0.66798187, 0.73240256, 0.61509993, 0.48586118, 0.48586118,\n        0.48586118, 0.48586118, 0.5688161 ]),\n 'split3_test_score': array([0.53189566, 0.58333333, 0.6075631 , 0.54929485, 0.6798207 ,\n        0.62042988, 0.56127981, 0.55453149, 0.64982338, 0.58549223,\n        0.52057957, 0.65313909, 0.53608247, 0.66145833, 0.5369201 ,\n        0.62990377, 0.51355483, 0.70064034, 0.68258471, 0.63290043,\n        0.71189859, 0.60221857, 0.48480165, 0.65805887, 0.71984311,\n        0.73583167, 0.72054142, 0.62540341, 0.4807892 , 0.50171821,\n        0.58896602, 0.67724734, 0.66711957, 0.61302288, 0.58058164,\n        0.70460873, 0.48586118, 0.71760069, 0.48586118, 0.53090837,\n        0.61939322, 0.53125   , 0.54803719, 0.54329558, 0.52716547,\n        0.55588453, 0.51808859, 0.51890034, 0.62540341, 0.48559671,\n        0.55152818, 0.53608247, 0.67189701, 0.6742292 , 0.62990377,\n        0.52994265, 0.66717383, 0.70347722, 0.51890034, 0.70064034,\n        0.66907767, 0.51973035, 0.48586118, 0.65421853, 0.50117941,\n        0.73295353, 0.6422287 , 0.50396825, 0.6718839 , 0.63223981,\n        0.6396227 , 0.73139941, 0.63514917, 0.48586118, 0.52994265,\n        0.50396825, 0.48586118, 0.48586118]),\n 'split4_test_score': array([0.54803719, 0.55461123, 0.68037445, 0.51500696, 0.62645748,\n        0.48480165, 0.52455048, 0.55788249, 0.49811213, 0.55336561,\n        0.54863771, 0.64134314, 0.59451401, 0.64650978, 0.5610214 ,\n        0.60828554, 0.66060606, 0.72365783, 0.68010464, 0.5280721 ,\n        0.65751573, 0.60621106, 0.64470762, 0.50117941, 0.67173651,\n        0.62645748, 0.6467961 , 0.61041542, 0.65903023, 0.66447957,\n        0.64470762, 0.62540341, 0.69749855, 0.62323436, 0.62645748,\n        0.69609062, 0.48453608, 0.48586118, 0.48586118, 0.49910555,\n        0.6857487 , 0.53400733, 0.51808859, 0.54322918, 0.52375073,\n        0.53792893, 0.61475105, 0.52861953, 0.56777317, 0.54444024,\n        0.51147298, 0.52371135, 0.60621106, 0.63223981, 0.56568413,\n        0.66211027, 0.65951147, 0.66321462, 0.56951716, 0.68010464,\n        0.61941298, 0.70013935, 0.66862609, 0.67173651, 0.71276945,\n        0.48586118, 0.61722919, 0.55718671, 0.66226105, 0.63745193,\n        0.67143452, 0.65557064, 0.61722919, 0.54108068, 0.63709646,\n        0.48533196, 0.48586118, 0.48586118]),\n 'mean_test_score': array([0.53276133, 0.57619312, 0.61636318, 0.53809243, 0.6158238 ,\n        0.57941096, 0.5709815 , 0.60644528, 0.60997786, 0.59531299,\n        0.56767671, 0.64913653, 0.54833131, 0.64354156, 0.51115785,\n        0.63268336, 0.60355332, 0.62163765, 0.66804085, 0.62872049,\n        0.67479264, 0.64004668, 0.61565837, 0.65026858, 0.69910819,\n        0.70986333, 0.6449818 , 0.65256648, 0.60690629, 0.61617312,\n        0.63220509, 0.65238447, 0.70254836, 0.62773022, 0.58521466,\n        0.69207436, 0.55253471, 0.53226192, 0.52660837, 0.52585342,\n        0.6388977 , 0.53754139, 0.54894822, 0.59200467, 0.52612211,\n        0.57928308, 0.56372157, 0.54852445, 0.62224941, 0.53972868,\n        0.5474934 , 0.54557683, 0.62258312, 0.62445092, 0.61643448,\n        0.62596207, 0.67210377, 0.67139174, 0.54159933, 0.64314088,\n        0.64693331, 0.59681549, 0.58739168, 0.70187658, 0.62363295,\n        0.61448541, 0.64559399, 0.57668393, 0.61288123, 0.64587437,\n        0.6258732 , 0.65945032, 0.62752866, 0.52470172, 0.57410954,\n        0.49299817, 0.48591402, 0.50250501]),\n 'std_test_score': array([1.10386843e-02, 1.39228220e-02, 4.88785502e-02, 2.75264460e-02,\n        5.60572522e-02, 4.96368016e-02, 3.13643005e-02, 4.15029177e-02,\n        7.82621446e-02, 2.65995984e-02, 6.38009126e-02, 2.67563864e-02,\n        3.89419599e-02, 1.71803972e-02, 3.18010511e-02, 1.44773637e-02,\n        5.42076791e-02, 1.01246633e-01, 2.16243157e-02, 5.44597037e-02,\n        3.24404264e-02, 2.94423008e-02, 6.69319167e-02, 7.82648041e-02,\n        1.79165394e-02, 4.37812082e-02, 8.31063716e-02, 4.66072696e-02,\n        8.23831492e-02, 7.94040485e-02, 2.58053724e-02, 2.86142309e-02,\n        2.60714781e-02, 1.97766457e-02, 6.65806182e-02, 1.25603992e-02,\n        7.80833195e-02, 9.26694381e-02, 8.13623453e-02, 1.42095652e-02,\n        4.36265591e-02, 3.14835408e-02, 3.80076367e-02, 4.39960831e-02,\n        1.27606526e-02, 2.78603635e-02, 3.65969304e-02, 2.79323881e-02,\n        3.05701693e-02, 3.15734964e-02, 1.87672860e-02, 4.12340957e-02,\n        7.42515663e-02, 7.04259206e-02, 2.59472090e-02, 5.91761942e-02,\n        4.52008486e-02, 1.72955078e-02, 6.20187266e-02, 8.38648884e-02,\n        2.04866324e-02, 7.67042992e-02, 8.85479629e-02, 3.28303195e-02,\n        1.06905923e-01, 8.53910233e-02, 3.05421548e-02, 6.37109228e-02,\n        1.00453926e-01, 1.19205693e-02, 4.53049918e-02, 9.14513743e-02,\n        1.47297395e-02, 3.98538812e-02, 5.92250644e-02, 8.95912303e-03,\n        1.05681155e-04, 3.31557063e-02]),\n 'rank_test_score': array([69, 54, 36, 67, 38, 51, 56, 44, 42, 47, 57, 14, 62, 19, 75, 23, 45,\n        34,  9, 25,  6, 21, 39, 13,  4,  1, 18, 11, 43, 37, 24, 12,  2, 26,\n        50,  5, 59, 70, 71, 73, 22, 68, 60, 48, 72, 52, 58, 61, 33, 66, 63,\n        64, 32, 30, 35, 28,  7,  8, 65, 20, 15, 46, 49,  3, 31, 40, 17, 53,\n        41, 16, 29, 10, 27, 74, 55, 77, 78, 76], dtype=int32)}"
     },
     "execution_count": 27,
     "metadata": {},
     "output_type": "execute_result"
    }
   ],
   "source": [
    "clf.cv_results_"
   ],
   "metadata": {
    "collapsed": false,
    "ExecuteTime": {
     "end_time": "2023-05-30T21:58:40.292865Z",
     "start_time": "2023-05-30T21:58:40.290878Z"
    }
   },
   "id": "85cc0ddb84905622"
  },
  {
   "cell_type": "code",
   "execution_count": null,
   "outputs": [
    {
     "name": "stderr",
     "output_type": "stream",
     "text": [
      "/Users/jakubkucera/Documents/NI-ADM/.venv/lib/python3.11/site-packages/xgboost/sklearn.py:1395: UserWarning: `use_label_encoder` is deprecated in 1.7.0.\n",
      "  warnings.warn(\"`use_label_encoder` is deprecated in 1.7.0.\")\n",
      "/Users/jakubkucera/Documents/NI-ADM/.venv/lib/python3.11/site-packages/sklearn/utils/validation.py:1143: DataConversionWarning: A column-vector y was passed when a 1d array was expected. Please change the shape of y to (n_samples, ), for example using ravel().\n",
      "  y = column_or_1d(y, warn=True)\n"
     ]
    },
    {
     "name": "stdout",
     "output_type": "stream",
     "text": [
      "=== LogisticRegression ===\n"
     ]
    },
    {
     "name": "stderr",
     "output_type": "stream",
     "text": [
      "/Users/jakubkucera/Documents/NI-ADM/.venv/lib/python3.11/site-packages/sklearn/linear_model/_logistic.py:458: ConvergenceWarning: lbfgs failed to converge (status=1):\n",
      "STOP: TOTAL NO. of ITERATIONS REACHED LIMIT.\n",
      "\n",
      "Increase the number of iterations (max_iter) or scale the data as shown in:\n",
      "    https://scikit-learn.org/stable/modules/preprocessing.html\n",
      "Please also refer to the documentation for alternative solver options:\n",
      "    https://scikit-learn.org/stable/modules/linear_model.html#logistic-regression\n",
      "  n_iter_i = _check_optimize_result(\n",
      "/Users/jakubkucera/Documents/NI-ADM/.venv/lib/python3.11/site-packages/sklearn/utils/validation.py:1143: DataConversionWarning: A column-vector y was passed when a 1d array was expected. Please change the shape of y to (n_samples, ), for example using ravel().\n",
      "  y = column_or_1d(y, warn=True)\n",
      "/Users/jakubkucera/Documents/NI-ADM/.venv/lib/python3.11/site-packages/sklearn/linear_model/_logistic.py:458: ConvergenceWarning: lbfgs failed to converge (status=1):\n",
      "STOP: TOTAL NO. of ITERATIONS REACHED LIMIT.\n",
      "\n",
      "Increase the number of iterations (max_iter) or scale the data as shown in:\n",
      "    https://scikit-learn.org/stable/modules/preprocessing.html\n",
      "Please also refer to the documentation for alternative solver options:\n",
      "    https://scikit-learn.org/stable/modules/linear_model.html#logistic-regression\n",
      "  n_iter_i = _check_optimize_result(\n",
      "/Users/jakubkucera/Documents/NI-ADM/.venv/lib/python3.11/site-packages/sklearn/utils/validation.py:1143: DataConversionWarning: A column-vector y was passed when a 1d array was expected. Please change the shape of y to (n_samples, ), for example using ravel().\n",
      "  y = column_or_1d(y, warn=True)\n",
      "/Users/jakubkucera/Documents/NI-ADM/.venv/lib/python3.11/site-packages/sklearn/linear_model/_logistic.py:458: ConvergenceWarning: lbfgs failed to converge (status=1):\n",
      "STOP: TOTAL NO. of ITERATIONS REACHED LIMIT.\n",
      "\n",
      "Increase the number of iterations (max_iter) or scale the data as shown in:\n",
      "    https://scikit-learn.org/stable/modules/preprocessing.html\n",
      "Please also refer to the documentation for alternative solver options:\n",
      "    https://scikit-learn.org/stable/modules/linear_model.html#logistic-regression\n",
      "  n_iter_i = _check_optimize_result(\n",
      "/Users/jakubkucera/Documents/NI-ADM/.venv/lib/python3.11/site-packages/sklearn/utils/validation.py:1143: DataConversionWarning: A column-vector y was passed when a 1d array was expected. Please change the shape of y to (n_samples, ), for example using ravel().\n",
      "  y = column_or_1d(y, warn=True)\n",
      "/Users/jakubkucera/Documents/NI-ADM/.venv/lib/python3.11/site-packages/sklearn/linear_model/_logistic.py:458: ConvergenceWarning: lbfgs failed to converge (status=1):\n",
      "STOP: TOTAL NO. of ITERATIONS REACHED LIMIT.\n",
      "\n",
      "Increase the number of iterations (max_iter) or scale the data as shown in:\n",
      "    https://scikit-learn.org/stable/modules/preprocessing.html\n",
      "Please also refer to the documentation for alternative solver options:\n",
      "    https://scikit-learn.org/stable/modules/linear_model.html#logistic-regression\n",
      "  n_iter_i = _check_optimize_result(\n",
      "/Users/jakubkucera/Documents/NI-ADM/.venv/lib/python3.11/site-packages/sklearn/utils/validation.py:1143: DataConversionWarning: A column-vector y was passed when a 1d array was expected. Please change the shape of y to (n_samples, ), for example using ravel().\n",
      "  y = column_or_1d(y, warn=True)\n",
      "/Users/jakubkucera/Documents/NI-ADM/.venv/lib/python3.11/site-packages/sklearn/linear_model/_logistic.py:458: ConvergenceWarning: lbfgs failed to converge (status=1):\n",
      "STOP: TOTAL NO. of ITERATIONS REACHED LIMIT.\n",
      "\n",
      "Increase the number of iterations (max_iter) or scale the data as shown in:\n",
      "    https://scikit-learn.org/stable/modules/preprocessing.html\n",
      "Please also refer to the documentation for alternative solver options:\n",
      "    https://scikit-learn.org/stable/modules/linear_model.html#logistic-regression\n",
      "  n_iter_i = _check_optimize_result(\n",
      "/Users/jakubkucera/Documents/NI-ADM/.venv/lib/python3.11/site-packages/sklearn/utils/validation.py:1143: DataConversionWarning: A column-vector y was passed when a 1d array was expected. Please change the shape of y to (n_samples, ), for example using ravel().\n",
      "  y = column_or_1d(y, warn=True)\n",
      "/Users/jakubkucera/Documents/NI-ADM/.venv/lib/python3.11/site-packages/sklearn/linear_model/_logistic.py:458: ConvergenceWarning: lbfgs failed to converge (status=1):\n",
      "STOP: TOTAL NO. of ITERATIONS REACHED LIMIT.\n",
      "\n",
      "Increase the number of iterations (max_iter) or scale the data as shown in:\n",
      "    https://scikit-learn.org/stable/modules/preprocessing.html\n",
      "Please also refer to the documentation for alternative solver options:\n",
      "    https://scikit-learn.org/stable/modules/linear_model.html#logistic-regression\n",
      "  n_iter_i = _check_optimize_result(\n",
      "/Users/jakubkucera/Documents/NI-ADM/.venv/lib/python3.11/site-packages/sklearn/utils/validation.py:1143: DataConversionWarning: A column-vector y was passed when a 1d array was expected. Please change the shape of y to (n_samples, ), for example using ravel().\n",
      "  y = column_or_1d(y, warn=True)\n",
      "/Users/jakubkucera/Documents/NI-ADM/.venv/lib/python3.11/site-packages/sklearn/linear_model/_logistic.py:458: ConvergenceWarning: lbfgs failed to converge (status=1):\n",
      "STOP: TOTAL NO. of ITERATIONS REACHED LIMIT.\n",
      "\n",
      "Increase the number of iterations (max_iter) or scale the data as shown in:\n",
      "    https://scikit-learn.org/stable/modules/preprocessing.html\n",
      "Please also refer to the documentation for alternative solver options:\n",
      "    https://scikit-learn.org/stable/modules/linear_model.html#logistic-regression\n",
      "  n_iter_i = _check_optimize_result(\n",
      "/Users/jakubkucera/Documents/NI-ADM/.venv/lib/python3.11/site-packages/sklearn/utils/validation.py:1143: DataConversionWarning: A column-vector y was passed when a 1d array was expected. Please change the shape of y to (n_samples, ), for example using ravel().\n",
      "  y = column_or_1d(y, warn=True)\n",
      "/Users/jakubkucera/Documents/NI-ADM/.venv/lib/python3.11/site-packages/sklearn/linear_model/_logistic.py:458: ConvergenceWarning: lbfgs failed to converge (status=1):\n",
      "STOP: TOTAL NO. of ITERATIONS REACHED LIMIT.\n",
      "\n",
      "Increase the number of iterations (max_iter) or scale the data as shown in:\n",
      "    https://scikit-learn.org/stable/modules/preprocessing.html\n",
      "Please also refer to the documentation for alternative solver options:\n",
      "    https://scikit-learn.org/stable/modules/linear_model.html#logistic-regression\n",
      "  n_iter_i = _check_optimize_result(\n",
      "/Users/jakubkucera/Documents/NI-ADM/.venv/lib/python3.11/site-packages/sklearn/utils/validation.py:1143: DataConversionWarning: A column-vector y was passed when a 1d array was expected. Please change the shape of y to (n_samples, ), for example using ravel().\n",
      "  y = column_or_1d(y, warn=True)\n",
      "/Users/jakubkucera/Documents/NI-ADM/.venv/lib/python3.11/site-packages/sklearn/linear_model/_logistic.py:458: ConvergenceWarning: lbfgs failed to converge (status=1):\n",
      "STOP: TOTAL NO. of ITERATIONS REACHED LIMIT.\n",
      "\n",
      "Increase the number of iterations (max_iter) or scale the data as shown in:\n",
      "    https://scikit-learn.org/stable/modules/preprocessing.html\n",
      "Please also refer to the documentation for alternative solver options:\n",
      "    https://scikit-learn.org/stable/modules/linear_model.html#logistic-regression\n",
      "  n_iter_i = _check_optimize_result(\n",
      "/Users/jakubkucera/Documents/NI-ADM/.venv/lib/python3.11/site-packages/sklearn/utils/validation.py:1143: DataConversionWarning: A column-vector y was passed when a 1d array was expected. Please change the shape of y to (n_samples, ), for example using ravel().\n",
      "  y = column_or_1d(y, warn=True)\n",
      "/Users/jakubkucera/Documents/NI-ADM/.venv/lib/python3.11/site-packages/sklearn/linear_model/_logistic.py:458: ConvergenceWarning: lbfgs failed to converge (status=1):\n",
      "STOP: TOTAL NO. of ITERATIONS REACHED LIMIT.\n",
      "\n",
      "Increase the number of iterations (max_iter) or scale the data as shown in:\n",
      "    https://scikit-learn.org/stable/modules/preprocessing.html\n",
      "Please also refer to the documentation for alternative solver options:\n",
      "    https://scikit-learn.org/stable/modules/linear_model.html#logistic-regression\n",
      "  n_iter_i = _check_optimize_result(\n",
      "/Users/jakubkucera/Documents/NI-ADM/.venv/lib/python3.11/site-packages/sklearn/utils/validation.py:1143: DataConversionWarning: A column-vector y was passed when a 1d array was expected. Please change the shape of y to (n_samples, ), for example using ravel().\n",
      "  y = column_or_1d(y, warn=True)\n"
     ]
    },
    {
     "name": "stdout",
     "output_type": "stream",
     "text": [
      "f1s [0.55789474 0.53496006 0.57749279 0.61261508 0.52948956 0.53895805\n",
      " 0.56704038 0.54830734 0.47970864 0.52453404]\n",
      "avg 0.5471000672263717\n",
      "=== SGDClassifier ===\n"
     ]
    },
    {
     "name": "stderr",
     "output_type": "stream",
     "text": [
      "/Users/jakubkucera/Documents/NI-ADM/.venv/lib/python3.11/site-packages/sklearn/utils/validation.py:1143: DataConversionWarning: A column-vector y was passed when a 1d array was expected. Please change the shape of y to (n_samples, ), for example using ravel().\n",
      "  y = column_or_1d(y, warn=True)\n",
      "/Users/jakubkucera/Documents/NI-ADM/.venv/lib/python3.11/site-packages/sklearn/utils/validation.py:1143: DataConversionWarning: A column-vector y was passed when a 1d array was expected. Please change the shape of y to (n_samples, ), for example using ravel().\n",
      "  y = column_or_1d(y, warn=True)\n",
      "/Users/jakubkucera/Documents/NI-ADM/.venv/lib/python3.11/site-packages/sklearn/utils/validation.py:1143: DataConversionWarning: A column-vector y was passed when a 1d array was expected. Please change the shape of y to (n_samples, ), for example using ravel().\n",
      "  y = column_or_1d(y, warn=True)\n",
      "/Users/jakubkucera/Documents/NI-ADM/.venv/lib/python3.11/site-packages/sklearn/utils/validation.py:1143: DataConversionWarning: A column-vector y was passed when a 1d array was expected. Please change the shape of y to (n_samples, ), for example using ravel().\n",
      "  y = column_or_1d(y, warn=True)\n",
      "/Users/jakubkucera/Documents/NI-ADM/.venv/lib/python3.11/site-packages/sklearn/utils/validation.py:1143: DataConversionWarning: A column-vector y was passed when a 1d array was expected. Please change the shape of y to (n_samples, ), for example using ravel().\n",
      "  y = column_or_1d(y, warn=True)\n",
      "/Users/jakubkucera/Documents/NI-ADM/.venv/lib/python3.11/site-packages/sklearn/utils/validation.py:1143: DataConversionWarning: A column-vector y was passed when a 1d array was expected. Please change the shape of y to (n_samples, ), for example using ravel().\n",
      "  y = column_or_1d(y, warn=True)\n",
      "/Users/jakubkucera/Documents/NI-ADM/.venv/lib/python3.11/site-packages/sklearn/utils/validation.py:1143: DataConversionWarning: A column-vector y was passed when a 1d array was expected. Please change the shape of y to (n_samples, ), for example using ravel().\n",
      "  y = column_or_1d(y, warn=True)\n",
      "/Users/jakubkucera/Documents/NI-ADM/.venv/lib/python3.11/site-packages/sklearn/utils/validation.py:1143: DataConversionWarning: A column-vector y was passed when a 1d array was expected. Please change the shape of y to (n_samples, ), for example using ravel().\n",
      "  y = column_or_1d(y, warn=True)\n",
      "/Users/jakubkucera/Documents/NI-ADM/.venv/lib/python3.11/site-packages/sklearn/utils/validation.py:1143: DataConversionWarning: A column-vector y was passed when a 1d array was expected. Please change the shape of y to (n_samples, ), for example using ravel().\n",
      "  y = column_or_1d(y, warn=True)\n"
     ]
    },
    {
     "name": "stdout",
     "output_type": "stream",
     "text": [
      "f1s [0.43047824 0.48612539 0.48612539 0.08347208 0.48453608 0.5223398\n",
      " 0.48559671 0.48559671 0.47916667 0.48559671]\n",
      "avg 0.44290337612967556\n",
      "=== MLPClassifier ===\n"
     ]
    },
    {
     "name": "stderr",
     "output_type": "stream",
     "text": [
      "/Users/jakubkucera/Documents/NI-ADM/.venv/lib/python3.11/site-packages/sklearn/neural_network/_multilayer_perceptron.py:1099: DataConversionWarning: A column-vector y was passed when a 1d array was expected. Please change the shape of y to (n_samples, ), for example using ravel().\n",
      "  y = column_or_1d(y, warn=True)\n"
     ]
    }
   ],
   "source": [
    "classifiers = {\n",
    "    # \"SVC(kernel=\\\"linear\\\", C=0.025)\": SVC(kernel=\"linear\", C=0.025),  # TODO TRY, TAKES too long\n",
    "    # \"SVC(gamma=2, C=1)\": SVC(gamma=2, C=1),  # TODO TRY, TAKES too long\n",
    "    # \"SVC\": SVC(),  # TODO TRY, TAKES too long\n",
    "    \"LogisticRegression\": LogisticRegression(max_iter=500),  # currently not good results\n",
    "    # \"LogisticRegressionCV\": LogisticRegressionCV(),  # currently not good results\n",
    "    \"SGDClassifier\": SGDClassifier(),  # currently not good results\n",
    "    # \"GradientBoostingClassifier\": GradientBoostingClassifier(),  # currently not good results\n",
    "    # \"MLPClassifier\": MLPClassifier((100, 100,)),  # TODO uncomment\n",
    "    \"MLPClassifier\": MLPClassifier(max_iter=500 ),  # TODO uncomment\n",
    "    \"BaggingClassifier\": BaggingClassifier(),  # ok, results\n",
    "    # \"RidgeClassifierCV\": RidgeClassifierCV(),  # currently not good results\n",
    "    \"RidgeClassifier\": RidgeClassifier(),  # currently not good results\n",
    "    \"k-Nearest Neighbors\": KNeighborsClassifier(2),  # TMP comment\n",
    "    \"Decision Tree\": DecisionTreeClassifier(), # not bas results\n",
    "    \"AdaBoostClassifier(),\": AdaBoostClassifier(),\n",
    "    # \"AdaBoostClassifier_DecTree\": AdaBoostClassifier(DecisionTreeClassifier(),learning_rate=1),  # TMP comment\n",
    "    # \"RandomForestClassifier\": RandomForestClassifier(max_depth = m_depth),\n",
    "    \"RandomForestClassifier\": RandomForestClassifier(), # not bas results\n",
    "    # \"AdaBoostClassifierRndForrest\": AdaBoostClassifier(RandomForestClassifier(),learning_rate=1),  # TMP comment\n",
    "    # \"CatBoostClassifier\": CatBoostClassifier(max_depth = m_depth, silent = True),\n",
    "    \"CatBoostClassifier\": CatBoostClassifier(silent = True),  # TODO try\n",
    "    # \"LGBMClassifier\": LGBMClassifier(max_depth = m_depth),\n",
    "    # \"LGBMClassifier\": LGBMClassifier(),  # TODO try\n",
    "    # \"XGBClassifier\": XGBClassifier(max_depth = m_depth, use_label_encoder=False),\n",
    "    \"XGBClassifier\": XGBClassifier(use_label_encoder=False), # not bas results  # feature names must be unique, # TODO fix\n",
    "}\n",
    "trained_classifiers = {}\n",
    "\n",
    "for cls_name, cls in classifiers.items():\n",
    "    print(f\"=== {cls_name} ===\")\n",
    "    scores = cross_val_score(cls, X_all, y_all.to_numpy(), cv=10, scoring='f1_macro')\n",
    "    print(f\"f1s {scores}\")\n",
    "    print(\"avg\", scores.mean())\n",
    "    # fitted_cls = cls.fit(X_train, y_train)\n",
    "    # trained_classifiers[cls_name] = fitted_cls\n",
    "    # y_pred = fitted_cls.predict(X_test)\n",
    "    # cnf_matrix = confusion_matrix(y_test, y_pred)\n",
    "    # # plot_confusion_matrix(cnf_matrix, classes=[0,1], title='Confusion matrix, original data')\n",
    "    # print('\\nOriginal data \\nAccuracy: ', accuracy_score(y_test, y_pred), '\\nF1-score: ', f1_score(y_test, y_pred))"
   ],
   "metadata": {
    "collapsed": false,
    "ExecuteTime": {
     "start_time": "2023-05-28T16:00:04.871484Z"
    }
   },
   "id": "e4cc3003173cebb7"
  },
  {
   "cell_type": "code",
   "execution_count": 21,
   "outputs": [],
   "source": [
    "RESULT_FILE = \"result\"\n",
    "\n",
    "def predict(X: pd.DataFrame, classifier: ClassifierMixin):\n",
    "    y_pred = classifier.predict(X)\n",
    "    return y_pred\n",
    "\n",
    "def write_predictions(y_local: np.ndarray, filename: str = RESULT_FILE):\n",
    "    np.savetxt(f\"{filename}.txt\", y_local, fmt='%d', delimiter='', newline='')\n",
    "    # np.save(f\"{filename}.npy\", y_local)\n",
    "    with open(f\"{filename}.npy\", 'wb') as f:\n",
    "        np.save(f, y_local, allow_pickle=False)"
   ],
   "metadata": {
    "collapsed": false,
    "ExecuteTime": {
     "end_time": "2023-05-30T21:55:25.066257Z",
     "start_time": "2023-05-30T21:55:25.049292Z"
    }
   },
   "id": "85760ca411a2a24f"
  },
  {
   "cell_type": "markdown",
   "source": [
    "### Predict on test set"
   ],
   "metadata": {
    "collapsed": false
   },
   "id": "9a2f7f9222961cee"
  },
  {
   "cell_type": "code",
   "execution_count": 162,
   "outputs": [
    {
     "data": {
      "text/plain": "           y\nuser_id     \n45001.0  0.0\n45002.0  0.0\n45003.0  0.0\n45004.0  0.0\n45005.0  1.0\n...      ...\n49996.0  0.0\n49997.0  0.0\n49998.0  0.0\n49999.0  0.0\n50000.0  0.0\n\n[5000 rows x 1 columns]",
      "text/html": "<div>\n<style scoped>\n    .dataframe tbody tr th:only-of-type {\n        vertical-align: middle;\n    }\n\n    .dataframe tbody tr th {\n        vertical-align: top;\n    }\n\n    .dataframe thead th {\n        text-align: right;\n    }\n</style>\n<table border=\"1\" class=\"dataframe\">\n  <thead>\n    <tr style=\"text-align: right;\">\n      <th></th>\n      <th>y</th>\n    </tr>\n    <tr>\n      <th>user_id</th>\n      <th></th>\n    </tr>\n  </thead>\n  <tbody>\n    <tr>\n      <th>45001.0</th>\n      <td>0.0</td>\n    </tr>\n    <tr>\n      <th>45002.0</th>\n      <td>0.0</td>\n    </tr>\n    <tr>\n      <th>45003.0</th>\n      <td>0.0</td>\n    </tr>\n    <tr>\n      <th>45004.0</th>\n      <td>0.0</td>\n    </tr>\n    <tr>\n      <th>45005.0</th>\n      <td>1.0</td>\n    </tr>\n    <tr>\n      <th>...</th>\n      <td>...</td>\n    </tr>\n    <tr>\n      <th>49996.0</th>\n      <td>0.0</td>\n    </tr>\n    <tr>\n      <th>49997.0</th>\n      <td>0.0</td>\n    </tr>\n    <tr>\n      <th>49998.0</th>\n      <td>0.0</td>\n    </tr>\n    <tr>\n      <th>49999.0</th>\n      <td>0.0</td>\n    </tr>\n    <tr>\n      <th>50000.0</th>\n      <td>0.0</td>\n    </tr>\n  </tbody>\n</table>\n<p>5000 rows × 1 columns</p>\n</div>"
     },
     "execution_count": 162,
     "metadata": {},
     "output_type": "execute_result"
    }
   ],
   "source": [
    "X_all"
   ],
   "metadata": {
    "collapsed": false,
    "ExecuteTime": {
     "end_time": "2023-05-27T21:41:52.404231Z",
     "start_time": "2023-05-27T21:41:52.379590Z"
    }
   },
   "id": "788946dccf4eb52e"
  },
  {
   "cell_type": "code",
   "execution_count": 167,
   "outputs": [
    {
     "name": "stdout",
     "output_type": "stream",
     "text": [
      "=== LogisticRegression ===\n"
     ]
    },
    {
     "name": "stderr",
     "output_type": "stream",
     "text": [
      "/Users/jakubkucera/Documents/NI-ADM/.venv/lib/python3.11/site-packages/sklearn/utils/validation.py:1143: DataConversionWarning: A column-vector y was passed when a 1d array was expected. Please change the shape of y to (n_samples, ), for example using ravel().\n",
      "  y = column_or_1d(y, warn=True)\n",
      "/Users/jakubkucera/Documents/NI-ADM/.venv/lib/python3.11/site-packages/sklearn/linear_model/_logistic.py:458: ConvergenceWarning: lbfgs failed to converge (status=1):\n",
      "STOP: TOTAL NO. of ITERATIONS REACHED LIMIT.\n",
      "\n",
      "Increase the number of iterations (max_iter) or scale the data as shown in:\n",
      "    https://scikit-learn.org/stable/modules/preprocessing.html\n",
      "Please also refer to the documentation for alternative solver options:\n",
      "    https://scikit-learn.org/stable/modules/linear_model.html#logistic-regression\n",
      "  n_iter_i = _check_optimize_result(\n"
     ]
    },
    {
     "name": "stdout",
     "output_type": "stream",
     "text": [
      "Leaderboard predicted True 1245.0\n",
      "Competition predicted True 1266.0\n",
      "Leaderboard predicted True 1245.0\n",
      "Competition predicted True 1266.0\n",
      "=== SGDClassifier ===\n"
     ]
    },
    {
     "name": "stderr",
     "output_type": "stream",
     "text": [
      "/Users/jakubkucera/Documents/NI-ADM/.venv/lib/python3.11/site-packages/sklearn/utils/validation.py:1143: DataConversionWarning: A column-vector y was passed when a 1d array was expected. Please change the shape of y to (n_samples, ), for example using ravel().\n",
      "  y = column_or_1d(y, warn=True)\n"
     ]
    },
    {
     "name": "stdout",
     "output_type": "stream",
     "text": [
      "Leaderboard predicted True 4.0\n",
      "Competition predicted True 2.0\n",
      "Leaderboard predicted True 4.0\n",
      "Competition predicted True 2.0\n",
      "=== MLPClassifier ===\n"
     ]
    },
    {
     "name": "stderr",
     "output_type": "stream",
     "text": [
      "/Users/jakubkucera/Documents/NI-ADM/.venv/lib/python3.11/site-packages/sklearn/neural_network/_multilayer_perceptron.py:1099: DataConversionWarning: A column-vector y was passed when a 1d array was expected. Please change the shape of y to (n_samples, ), for example using ravel().\n",
      "  y = column_or_1d(y, warn=True)\n"
     ]
    },
    {
     "name": "stdout",
     "output_type": "stream",
     "text": [
      "Leaderboard predicted True 1776.0\n",
      "Competition predicted True 1756.0\n",
      "Leaderboard predicted True 1776.0\n",
      "Competition predicted True 1756.0\n",
      "=== BaggingClassifier ===\n"
     ]
    },
    {
     "name": "stderr",
     "output_type": "stream",
     "text": [
      "/Users/jakubkucera/Documents/NI-ADM/.venv/lib/python3.11/site-packages/sklearn/ensemble/_bagging.py:802: DataConversionWarning: A column-vector y was passed when a 1d array was expected. Please change the shape of y to (n_samples, ), for example using ravel().\n",
      "  y = column_or_1d(y, warn=True)\n"
     ]
    },
    {
     "name": "stdout",
     "output_type": "stream",
     "text": [
      "Leaderboard predicted True 200.0\n",
      "Competition predicted True 192.0\n",
      "Leaderboard predicted True 200.0\n",
      "Competition predicted True 192.0\n",
      "=== RidgeClassifier ===\n"
     ]
    },
    {
     "name": "stderr",
     "output_type": "stream",
     "text": [
      "/Users/jakubkucera/Documents/NI-ADM/.venv/lib/python3.11/site-packages/sklearn/linear_model/_ridge.py:1182: DataConversionWarning: A column-vector y was passed when a 1d array was expected. Please change the shape of y to (n_samples, ), for example using ravel().\n",
      "  y = column_or_1d(y, warn=True)\n"
     ]
    },
    {
     "name": "stdout",
     "output_type": "stream",
     "text": [
      "Leaderboard predicted True 3071.0\n",
      "Competition predicted True 3107.0\n",
      "Leaderboard predicted True 3071.0\n",
      "Competition predicted True 3107.0\n",
      "=== k-Nearest Neighbors ===\n"
     ]
    },
    {
     "name": "stderr",
     "output_type": "stream",
     "text": [
      "/Users/jakubkucera/Documents/NI-ADM/.venv/lib/python3.11/site-packages/sklearn/neighbors/_classification.py:215: DataConversionWarning: A column-vector y was passed when a 1d array was expected. Please change the shape of y to (n_samples,), for example using ravel().\n",
      "  return self._fit(X, y)\n"
     ]
    },
    {
     "name": "stdout",
     "output_type": "stream",
     "text": [
      "Leaderboard predicted True 248.0\n",
      "Competition predicted True 231.0\n",
      "Leaderboard predicted True 248.0\n",
      "Competition predicted True 231.0\n",
      "=== Decision Tree ===\n",
      "Leaderboard predicted True 2876.0\n",
      "Competition predicted True 2883.0\n",
      "Leaderboard predicted True 2876.0\n",
      "Competition predicted True 2883.0\n",
      "=== AdaBoostClassifier(), ===\n"
     ]
    },
    {
     "name": "stderr",
     "output_type": "stream",
     "text": [
      "/Users/jakubkucera/Documents/NI-ADM/.venv/lib/python3.11/site-packages/sklearn/utils/validation.py:1143: DataConversionWarning: A column-vector y was passed when a 1d array was expected. Please change the shape of y to (n_samples, ), for example using ravel().\n",
      "  y = column_or_1d(y, warn=True)\n"
     ]
    },
    {
     "name": "stdout",
     "output_type": "stream",
     "text": [
      "Leaderboard predicted True 671.0\n",
      "Competition predicted True 642.0\n",
      "Leaderboard predicted True 671.0\n",
      "Competition predicted True 642.0\n",
      "=== RandomForestClassifier ===\n"
     ]
    },
    {
     "name": "stderr",
     "output_type": "stream",
     "text": [
      "/var/folders/gm/6zjcwbd164d1v4gmx73009pr0000gn/T/ipykernel_23145/1177780767.py:4: DataConversionWarning: A column-vector y was passed when a 1d array was expected. Please change the shape of y to (n_samples,), for example using ravel().\n",
      "  trained_best_classifier = cls.fit(X_all, y_all)\n"
     ]
    },
    {
     "name": "stdout",
     "output_type": "stream",
     "text": [
      "Leaderboard predicted True 0.0\n",
      "Competition predicted True 0.0\n",
      "Leaderboard predicted True 0.0\n",
      "Competition predicted True 0.0\n",
      "=== CatBoostClassifier ===\n",
      "Leaderboard predicted True 91.0\n",
      "Competition predicted True 99.0\n",
      "Leaderboard predicted True 91.0\n",
      "Competition predicted True 99.0\n",
      "=== XGBClassifier ===\n",
      "Leaderboard predicted True 439\n",
      "Competition predicted True 418\n",
      "Leaderboard predicted True 439\n",
      "Competition predicted True 418\n"
     ]
    }
   ],
   "source": [
    "# for cls_name, cls in trained_classifiers.items():\n",
    "for cls_name, cls in classifiers.items():\n",
    "    print(f\"=== {cls_name} ===\")\n",
    "    trained_best_classifier = cls.fit(X_all.to_numpy(), y_all.to_numpy())\n",
    "    y_leaderboard_predicted = predict(R_dense_leaderboard.to_numpy(), cls)\n",
    "    y_competition_predicted = predict(R_dense_competition.to_numpy(), cls)\n",
    "    print(f\"Leaderboard predicted True {sum(y_leaderboard_predicted)}\")\n",
    "    print(f\"Competition predicted True {sum(y_competition_predicted)}\")\n",
    "    y_leaderboard_predicted = predict(R_dense_leaderboard.to_numpy(), trained_best_classifier)\n",
    "    y_competition_predicted = predict(R_dense_competition.to_numpy(), trained_best_classifier)\n",
    "    print(f\"Leaderboard predicted True {sum(y_leaderboard_predicted)}\")\n",
    "    print(f\"Competition predicted True {sum(y_competition_predicted)}\")"
   ],
   "metadata": {
    "collapsed": false,
    "ExecuteTime": {
     "end_time": "2023-05-27T21:54:59.223229Z",
     "start_time": "2023-05-27T21:50:26.491184Z"
    }
   },
   "id": "19d72df52c89316a"
  },
  {
   "cell_type": "code",
   "execution_count": 30,
   "outputs": [
    {
     "name": "stderr",
     "output_type": "stream",
     "text": [
      "/Users/jakubkucera/Documents/NI-ADM/.venv/lib/python3.11/site-packages/sklearn/neural_network/_multilayer_perceptron.py:1099: DataConversionWarning: A column-vector y was passed when a 1d array was expected. Please change the shape of y to (n_samples, ), for example using ravel().\n",
      "  y = column_or_1d(y, warn=True)\n"
     ]
    }
   ],
   "source": [
    "traine_best_classifier = MLPClassifier(**clf.best_params_)\n",
    "\n",
    "trained_best_classifier = traine_best_classifier.fit(X_all, y_all.to_numpy())\n"
   ],
   "metadata": {
    "collapsed": false,
    "ExecuteTime": {
     "end_time": "2023-05-31T13:46:43.199923Z",
     "start_time": "2023-05-31T13:45:46.882479Z"
    }
   },
   "id": "2112f13c7f527694"
  },
  {
   "cell_type": "code",
   "execution_count": 31,
   "outputs": [
    {
     "name": "stdout",
     "output_type": "stream",
     "text": [
      "Leaderboard predicted True 1743.0\n",
      "Competition predicted True 1785.0\n"
     ]
    }
   ],
   "source": [
    "\n",
    "y_leaderboard_predicted = predict(R_dense_leaderboard.to_numpy(), trained_best_classifier)\n",
    "y_competition_predicted = predict(R_dense_competition.to_numpy(), trained_best_classifier)\n",
    "\n",
    "print(f\"Leaderboard predicted True {sum(y_leaderboard_predicted)}\")\n",
    "print(f\"Competition predicted True {sum(y_competition_predicted)}\")"
   ],
   "metadata": {
    "collapsed": false,
    "ExecuteTime": {
     "end_time": "2023-05-31T13:47:17.929203Z",
     "start_time": "2023-05-31T13:47:13.329960Z"
    }
   },
   "id": "4ee9c465daff789e"
  },
  {
   "cell_type": "code",
   "execution_count": 32,
   "outputs": [],
   "source": [
    "custom_suffix = \"\"\n",
    "write_predictions(y_leaderboard_predicted, filename=f\"result_leaderboard_{custom_suffix}\")\n",
    "write_predictions(y_competition_predicted, filename=f\"result_competition_{custom_suffix}\")"
   ],
   "metadata": {
    "collapsed": false,
    "ExecuteTime": {
     "end_time": "2023-05-31T13:47:19.692679Z",
     "start_time": "2023-05-31T13:47:19.642550Z"
    }
   },
   "id": "2724b1f85d61b683"
  },
  {
   "cell_type": "markdown",
   "source": [
    "## Rnd notes"
   ],
   "metadata": {
    "collapsed": false
   },
   "id": "378ef3b3f3a89f4b"
  },
  {
   "cell_type": "markdown",
   "source": [
    "Clusters + only distance in given cluster\n",
    "    add Mahalanois distance as well - copy code from LAB?\n",
    "    or at least \"relatice distance\"\n",
    "~~create clusters on NOT-ANOMALOUS users!~~\n",
    "\n",
    "Check ALS loss\n",
    "Add ALS as additional features\n",
    "restructure code, to have funcs returning new features, so that it is easier to conbine later (ratings, clusters, ALS, PCA, ...)\n",
    "imporve train loop with cross eval\n",
    "run on models\n",
    "add params to more models - random forrests, catboosts, smth simpler as well"
   ],
   "metadata": {
    "collapsed": false
   },
   "id": "d0605107629d7a61"
  },
  {
   "cell_type": "markdown",
   "source": [
    "TODO\n",
    "PCA before classification\n",
    "NORMALIZE vals\n",
    "check how unbalanced are train and test data\n",
    "\n",
    "feature extraction:\n",
    "create some features - > correlation matrix (rating == 0 => bad guy)\n",
    "corellation (matrix) for all? filter by some min value. Some items only rated by bad users\n",
    "1 user, 1 item, multiple ratings bad?\n",
    "create feature, number of ratings per user, per item\n",
    "number of ratingx per user from DF matrix.  and number of ratings per user from original data. If not match, => mutliple ratings by 1 user per 1 item?\n",
    "\n",
    "cluster users, color by `y`\n",
    "cluster items -> merge as feature, (delete orig items)\n",
    "from trained Trees (/NN?) find out which features are important. Use shallow trees, or Random Forest?\n",
    "\n",
    "FOR BEtter models use the ParameterGrid to find best params\n",
    "  make visualisation of loss over parameter changes. (also plot test data error)\n",
    "ensamble model, train weights\n",
    "\n",
    "\n",
    "VAE to latent space to see smth?\n",
    "\n",
    "\n",
    "use ALS to reduce feature count"
   ],
   "metadata": {
    "collapsed": false
   },
   "id": "da99c60c3536eb93"
  },
  {
   "cell_type": "markdown",
   "source": [
    "Add ALS as another features and just train NN\n",
    "\n",
    "cluster by different number of clusters\n",
    "1) just add all multiplefeatures with cluster numbers\n",
    "2) pick cluster count, train, measure error, pick best\n",
    "\n",
    "^ try different metrics for distance. Trye the one from 2nd LAB\n",
    "just do paramgrid"
   ],
   "metadata": {
    "collapsed": false
   },
   "id": "b613bf1bea93f502"
  },
  {
   "cell_type": "code",
   "execution_count": null,
   "outputs": [],
   "source": [],
   "metadata": {
    "collapsed": false
   },
   "id": "47835cd035f9f5d1"
  }
 ],
 "metadata": {
  "kernelspec": {
   "display_name": "Python 3 (ipykernel)",
   "language": "python",
   "name": "python3"
  },
  "language_info": {
   "codemirror_mode": {
    "name": "ipython",
    "version": 3
   },
   "file_extension": ".py",
   "mimetype": "text/x-python",
   "name": "python",
   "nbconvert_exporter": "python",
   "pygments_lexer": "ipython3",
   "version": "3.10.6"
  }
 },
 "nbformat": 4,
 "nbformat_minor": 5
}
